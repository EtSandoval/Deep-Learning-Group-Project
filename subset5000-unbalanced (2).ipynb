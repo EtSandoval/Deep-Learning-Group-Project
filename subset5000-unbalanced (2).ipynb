{
 "cells": [
  {
   "cell_type": "code",
   "execution_count": 1,
   "id": "134513bb-6ec1-4e19-892b-0b45b766b299",
   "metadata": {},
   "outputs": [],
   "source": [
    "import tensorflow as tf\n",
    "from tensorflow import keras\n",
    "from tensorflow.keras import layers\n",
    "import pandas as pd\n",
    "import numpy as np\n",
    "import glob\n",
    "import os\n",
    "import sklearn.model_selection\n"
   ]
  },
  {
   "cell_type": "code",
   "execution_count": 2,
   "id": "47321e5e-7369-4734-bad7-ef1044205635",
   "metadata": {},
   "outputs": [
    {
     "name": "stderr",
     "output_type": "stream",
     "text": [
      "/var/folders/0b/33n254b510726mq07nrfcfbw0000gn/T/ipykernel_61978/695260491.py:1: DtypeWarning: Columns (6,9,10,11,13,14,15,16,17,18,19,22,23,25,26,27,28,30,35) have mixed types. Specify dtype option on import or set low_memory=False.\n",
      "  metadata = pd.read_csv('metadata.csv')\n"
     ]
    }
   ],
   "source": [
    "\n",
    "metadata = pd.read_csv('metadata.csv')\n",
    "metadata = metadata[['isic_id','age_approx','clin_size_long_diam_mm','sex','diagnosis_1']]\n",
    "# encode columns\n",
    "metadata['sex'] = metadata['sex'].map({'male': 0, 'female': 1})\n",
    "metadata['diagnosis_1'] = metadata['diagnosis_1'].map({'Benign': 0, 'Malignant': 1})\n",
    "\n",
    "# missing values\n",
    "metadata['age_approx'] = metadata['age_approx'].fillna(metadata['age_approx'].mean())\n",
    "metadata['clin_size_long_diam_mm'] = metadata['clin_size_long_diam_mm'].fillna(metadata['clin_size_long_diam_mm'].mean())\n",
    "metadata = metadata.dropna()\n",
    "\n",
    "# Create filename field\n",
    "metadata['filename'] = metadata['isic_id'].astype(str) + '.jpg'\n"
   ]
  },
  {
   "cell_type": "code",
   "execution_count": 3,
   "id": "e2a21c24-8fca-4f42-afaf-f9bb3e73f84f",
   "metadata": {},
   "outputs": [
    {
     "data": {
      "text/html": [
       "<div>\n",
       "<style scoped>\n",
       "    .dataframe tbody tr th:only-of-type {\n",
       "        vertical-align: middle;\n",
       "    }\n",
       "\n",
       "    .dataframe tbody tr th {\n",
       "        vertical-align: top;\n",
       "    }\n",
       "\n",
       "    .dataframe thead th {\n",
       "        text-align: right;\n",
       "    }\n",
       "</style>\n",
       "<table border=\"1\" class=\"dataframe\">\n",
       "  <thead>\n",
       "    <tr style=\"text-align: right;\">\n",
       "      <th></th>\n",
       "      <th>isic_id</th>\n",
       "      <th>age_approx</th>\n",
       "      <th>clin_size_long_diam_mm</th>\n",
       "      <th>sex</th>\n",
       "      <th>diagnosis_1</th>\n",
       "      <th>filename</th>\n",
       "    </tr>\n",
       "  </thead>\n",
       "  <tbody>\n",
       "    <tr>\n",
       "      <th>0</th>\n",
       "      <td>ISIC_9536278</td>\n",
       "      <td>45.0</td>\n",
       "      <td>3.988203</td>\n",
       "      <td>1.0</td>\n",
       "      <td>1.0</td>\n",
       "      <td>ISIC_9536278.jpg</td>\n",
       "    </tr>\n",
       "    <tr>\n",
       "      <th>1</th>\n",
       "      <td>ISIC_7650956</td>\n",
       "      <td>65.0</td>\n",
       "      <td>3.988203</td>\n",
       "      <td>1.0</td>\n",
       "      <td>1.0</td>\n",
       "      <td>ISIC_7650956.jpg</td>\n",
       "    </tr>\n",
       "    <tr>\n",
       "      <th>2</th>\n",
       "      <td>ISIC_5730927</td>\n",
       "      <td>85.0</td>\n",
       "      <td>3.988203</td>\n",
       "      <td>0.0</td>\n",
       "      <td>1.0</td>\n",
       "      <td>ISIC_5730927.jpg</td>\n",
       "    </tr>\n",
       "    <tr>\n",
       "      <th>3</th>\n",
       "      <td>ISIC_4305055</td>\n",
       "      <td>85.0</td>\n",
       "      <td>3.988203</td>\n",
       "      <td>1.0</td>\n",
       "      <td>1.0</td>\n",
       "      <td>ISIC_4305055.jpg</td>\n",
       "    </tr>\n",
       "    <tr>\n",
       "      <th>4</th>\n",
       "      <td>ISIC_5681611</td>\n",
       "      <td>85.0</td>\n",
       "      <td>3.988203</td>\n",
       "      <td>1.0</td>\n",
       "      <td>1.0</td>\n",
       "      <td>ISIC_5681611.jpg</td>\n",
       "    </tr>\n",
       "  </tbody>\n",
       "</table>\n",
       "</div>"
      ],
      "text/plain": [
       "        isic_id  age_approx  clin_size_long_diam_mm  sex  diagnosis_1  \\\n",
       "0  ISIC_9536278        45.0                3.988203  1.0          1.0   \n",
       "1  ISIC_7650956        65.0                3.988203  1.0          1.0   \n",
       "2  ISIC_5730927        85.0                3.988203  0.0          1.0   \n",
       "3  ISIC_4305055        85.0                3.988203  1.0          1.0   \n",
       "4  ISIC_5681611        85.0                3.988203  1.0          1.0   \n",
       "\n",
       "           filename  \n",
       "0  ISIC_9536278.jpg  \n",
       "1  ISIC_7650956.jpg  \n",
       "2  ISIC_5730927.jpg  \n",
       "3  ISIC_4305055.jpg  \n",
       "4  ISIC_5681611.jpg  "
      ]
     },
     "execution_count": 3,
     "metadata": {},
     "output_type": "execute_result"
    }
   ],
   "source": [
    "metadata.head()"
   ]
  },
  {
   "cell_type": "code",
   "execution_count": 4,
   "id": "fe5fde46-1bed-4464-b9db-2803417460e6",
   "metadata": {},
   "outputs": [
    {
     "data": {
      "text/plain": [
       "'\\ngood_image_paths = []\\n\\nfor path in valid_image_paths:\\n    try:\\n        img_raw = tf.io.read_file(path)\\n        img = tf.image.decode_jpeg(img_raw, channels=3)\\n        good_image_paths.append(path)\\n    except:\\n        print(f\"Skipping invalid image: {path}\")\\n\\nwith open(\\'good_image_paths.txt\\', \\'w\\') as f:\\n    for path in good_image_paths:\\n        f.write(f\"{path}\\n\")\\n'"
      ]
     },
     "execution_count": 4,
     "metadata": {},
     "output_type": "execute_result"
    }
   ],
   "source": [
    "'''\n",
    "good_image_paths = []\n",
    "\n",
    "for path in valid_image_paths:\n",
    "    try:\n",
    "        img_raw = tf.io.read_file(path)\n",
    "        img = tf.image.decode_jpeg(img_raw, channels=3)\n",
    "        good_image_paths.append(path)\n",
    "    except:\n",
    "        print(f\"Skipping invalid image: {path}\")\n",
    "\n",
    "with open('good_image_paths.txt', 'w') as f:\n",
    "    for path in good_image_paths:\n",
    "        f.write(f\"{path}\\n\")\n",
    "'''"
   ]
  },
  {
   "cell_type": "code",
   "execution_count": 5,
   "id": "d86fc996-e286-4a93-bccf-99bb7029d6af",
   "metadata": {},
   "outputs": [],
   "source": [
    "with open('good_image_paths.txt', 'r') as f:\n",
    "    image_paths = [line.strip() for line in f]\n",
    "\n",
    "filenames = [os.path.basename(p) for p in image_paths]\n",
    "metadata = metadata[metadata['filename'].isin(filenames)].reset_index(drop=True)\n"
   ]
  },
  {
   "cell_type": "code",
   "execution_count": 6,
   "id": "4bb39d3f-279f-4bf8-a103-9ce349aa56ff",
   "metadata": {},
   "outputs": [],
   "source": [
    "# Create lookup dictionaries\n",
    "label_lookup = dict(zip(metadata['filename'], metadata['diagnosis_1']))\n",
    "\n",
    "\n",
    "# Lists for matched data\n",
    "valid_image_paths = []\n",
    "labels = []\n",
    "\n",
    "for path, fname in zip(image_paths, filenames):\n",
    "    if fname in label_lookup:\n",
    "        valid_image_paths.append(path)\n",
    "        labels.append(label_lookup[fname])\n"
   ]
  },
  {
   "cell_type": "code",
   "execution_count": 7,
   "id": "4f25d0af-dd6e-4cb1-8247-f72f9d3d5ce0",
   "metadata": {},
   "outputs": [],
   "source": [
    "trainval_paths, test_paths, trainval_labels, test_labels = sklearn.model_selection.train_test_split(\n",
    "    valid_image_paths, labels,\n",
    "    test_size=0.1, random_state=42, shuffle=True\n",
    ")\n"
   ]
  },
  {
   "cell_type": "code",
   "execution_count": 8,
   "id": "fd7ec6bf-dd2f-4ab3-ae49-683d61057621",
   "metadata": {},
   "outputs": [
    {
     "data": {
      "text/plain": [
       "436973"
      ]
     },
     "execution_count": 8,
     "metadata": {},
     "output_type": "execute_result"
    }
   ],
   "source": [
    "len(trainval_paths)"
   ]
  },
  {
   "cell_type": "code",
   "execution_count": 26,
   "id": "3e277790-0f88-4b87-ab8a-8265ed77fe89",
   "metadata": {},
   "outputs": [],
   "source": [
    "from collections import defaultdict\n",
    "import numpy as np\n",
    "import shutil\n",
    "import os\n",
    "\n",
    "# Group filenames by class\n",
    "label_to_paths = defaultdict(list)\n",
    "for path, label in zip(trainval_paths, trainval_labels):\n",
    "    label_to_paths[label].append(path)\n",
    "\n",
    "# Set seed for reproducibility\n",
    "np.random.seed(42)\n",
    "\n",
    "# Define counts\n",
    "# Training set: 10,000 total, 9600 benign, 400 malignant\n",
    "train_benign = 9600\n",
    "train_malignant = 400\n",
    "\n",
    "# Validation set: 1000 total, 960 benign, 40 malignant\n",
    "val_benign = 960\n",
    "val_malignant = 40\n",
    "\n",
    "# Sample training data\n",
    "train_paths = []\n",
    "train_labels = []\n",
    "\n",
    "benign_train = np.random.choice(label_to_paths[0], train_benign, replace=False)\n",
    "malignant_train = np.random.choice(label_to_paths[1], train_malignant, replace=False)\n",
    "\n",
    "train_paths.extend(benign_train)\n",
    "train_labels.extend([0] * train_benign)\n",
    "\n",
    "train_paths.extend(malignant_train)\n",
    "train_labels.extend([1] * train_malignant)\n",
    "\n",
    "# Remove selected training files from pool before val sampling\n",
    "label_to_paths[0] = list(set(label_to_paths[0]) - set(benign_train))\n",
    "label_to_paths[1] = list(set(label_to_paths[1]) - set(malignant_train))\n",
    "\n",
    "#sample validation data \n",
    "val_paths = []\n",
    "val_labels = []\n",
    "\n",
    "benign_val = np.random.choice(label_to_paths[0], val_benign, replace=False)\n",
    "malignant_val = np.random.choice(label_to_paths[1], val_malignant, replace=False)\n",
    "\n",
    "val_paths.extend(benign_val)\n",
    "val_labels.extend([0] * val_benign)\n",
    "\n",
    "val_paths.extend(malignant_val)\n",
    "val_labels.extend([1] * val_malignant)\n",
    "\n",
    "# create directories\n",
    "for folder in ['images_train_realistic', 'images_val_realistic']:\n",
    "    os.makedirs(folder, exist_ok=True)\n",
    "\n",
    "# copy files\n",
    "for path in train_paths:\n",
    "    shutil.copy(path, f'images_train_realistic/{os.path.basename(path)}')\n",
    "\n",
    "for path in val_paths:\n",
    "    shutil.copy(path, f'images_val_realistic/{os.path.basename(path)}')\n"
   ]
  },
  {
   "cell_type": "code",
   "execution_count": 10,
   "id": "ee3a11e9-809f-441e-9d06-4417cb9a2962",
   "metadata": {},
   "outputs": [],
   "source": [
    "\n",
    "import os\n",
    "import shutil\n",
    "os.makedirs('./images_test', exist_ok=True)\n",
    "\n",
    "for path in test_paths:\n",
    "    filename = os.path.basename(path)\n",
    "    shutil.copy(path, f'./images_test/{filename}')\n"
   ]
  },
  {
   "cell_type": "code",
   "execution_count": 27,
   "id": "98116eca-8904-4444-9aef-0db7b4de2218",
   "metadata": {},
   "outputs": [
    {
     "name": "stdout",
     "output_type": "stream",
     "text": [
      "Found 10000 files belonging to 2 classes.\n",
      "Found 1000 files belonging to 2 classes.\n"
     ]
    }
   ],
   "source": [
    "\n",
    "\n",
    "train_image_ds = tf.keras.utils.image_dataset_from_directory(\n",
    "    directory='images_train_realistic',\n",
    "    labels=train_labels,\n",
    "    label_mode='int',\n",
    "    batch_size=64,\n",
    "    image_size=(128, 128),\n",
    "    shuffle=True,\n",
    "    seed=123\n",
    ")\n",
    "\n",
    "val_image_ds = tf.keras.utils.image_dataset_from_directory(\n",
    "    directory='images_val_realistic',\n",
    "    labels=val_labels,\n",
    "    label_mode='int',\n",
    "    batch_size=64,\n",
    "    image_size=(128, 128),\n",
    "    shuffle=True,\n",
    "    seed=123\n",
    ")"
   ]
  },
  {
   "cell_type": "code",
   "execution_count": 28,
   "id": "bc8b685d-1679-4dd3-a3d1-3ae8e65e4f8e",
   "metadata": {},
   "outputs": [
    {
     "name": "stdout",
     "output_type": "stream",
     "text": [
      "Found 48553 files belonging to 2 classes.\n"
     ]
    }
   ],
   "source": [
    "# Test filenames and labels\n",
    "test_path_to_label = {os.path.basename(p): l for p, l in zip(test_paths, test_labels)}\n",
    "test_filenames = [os.path.basename(p) for p in test_paths]\n",
    "test_labels_sorted = [test_path_to_label[fname] for fname in test_filenames]\n",
    "\n",
    "test_image_ds = tf.keras.utils.image_dataset_from_directory(\n",
    "    directory='./images_test',\n",
    "    labels=test_labels_sorted,\n",
    "    label_mode='int',\n",
    "    batch_size=64,\n",
    "    image_size=(128, 128),\n",
    "    shuffle=False\n",
    ")\n"
   ]
  },
  {
   "cell_type": "code",
   "execution_count": 15,
   "id": "15d6fe46-40ab-464c-9090-b75e238f2dc1",
   "metadata": {},
   "outputs": [
    {
     "name": "stdout",
     "output_type": "stream",
     "text": [
      "Epoch 1/20\n",
      "\u001b[1m157/157\u001b[0m \u001b[32m━━━━━━━━━━━━━━━━━━━━\u001b[0m\u001b[37m\u001b[0m \u001b[1m24s\u001b[0m 146ms/step - accuracy: 0.9410 - loss: 0.2083 - val_accuracy: 0.9600 - val_loss: 0.1724\n",
      "Epoch 2/20\n",
      "\u001b[1m157/157\u001b[0m \u001b[32m━━━━━━━━━━━━━━━━━━━━\u001b[0m\u001b[37m\u001b[0m \u001b[1m22s\u001b[0m 138ms/step - accuracy: 0.9630 - loss: 0.1600 - val_accuracy: 0.9600 - val_loss: 0.1735\n",
      "Epoch 3/20\n",
      "\u001b[1m157/157\u001b[0m \u001b[32m━━━━━━━━━━━━━━━━━━━━\u001b[0m\u001b[37m\u001b[0m \u001b[1m23s\u001b[0m 147ms/step - accuracy: 0.9638 - loss: 0.1549 - val_accuracy: 0.9600 - val_loss: 0.1752\n",
      "Epoch 4/20\n",
      "\u001b[1m157/157\u001b[0m \u001b[32m━━━━━━━━━━━━━━━━━━━━\u001b[0m\u001b[37m\u001b[0m \u001b[1m24s\u001b[0m 151ms/step - accuracy: 0.9629 - loss: 0.1582 - val_accuracy: 0.9600 - val_loss: 0.1753\n",
      "Epoch 5/20\n",
      "\u001b[1m157/157\u001b[0m \u001b[32m━━━━━━━━━━━━━━━━━━━━\u001b[0m\u001b[37m\u001b[0m \u001b[1m24s\u001b[0m 153ms/step - accuracy: 0.9621 - loss: 0.1599 - val_accuracy: 0.9600 - val_loss: 0.1715\n",
      "Epoch 6/20\n",
      "\u001b[1m157/157\u001b[0m \u001b[32m━━━━━━━━━━━━━━━━━━━━\u001b[0m\u001b[37m\u001b[0m \u001b[1m23s\u001b[0m 148ms/step - accuracy: 0.9637 - loss: 0.1585 - val_accuracy: 0.9600 - val_loss: 0.1716\n",
      "Epoch 7/20\n",
      "\u001b[1m157/157\u001b[0m \u001b[32m━━━━━━━━━━━━━━━━━━━━\u001b[0m\u001b[37m\u001b[0m \u001b[1m24s\u001b[0m 151ms/step - accuracy: 0.9629 - loss: 0.1569 - val_accuracy: 0.9600 - val_loss: 0.1744\n",
      "Epoch 8/20\n",
      "\u001b[1m157/157\u001b[0m \u001b[32m━━━━━━━━━━━━━━━━━━━━\u001b[0m\u001b[37m\u001b[0m \u001b[1m24s\u001b[0m 149ms/step - accuracy: 0.9634 - loss: 0.1527 - val_accuracy: 0.9600 - val_loss: 0.1717\n",
      "Epoch 9/20\n",
      "\u001b[1m157/157\u001b[0m \u001b[32m━━━━━━━━━━━━━━━━━━━━\u001b[0m\u001b[37m\u001b[0m \u001b[1m24s\u001b[0m 152ms/step - accuracy: 0.9632 - loss: 0.1528 - val_accuracy: 0.9600 - val_loss: 0.1737\n",
      "Epoch 10/20\n",
      "\u001b[1m157/157\u001b[0m \u001b[32m━━━━━━━━━━━━━━━━━━━━\u001b[0m\u001b[37m\u001b[0m \u001b[1m24s\u001b[0m 152ms/step - accuracy: 0.9636 - loss: 0.1523 - val_accuracy: 0.9600 - val_loss: 0.1833\n",
      "Epoch 1/50\n",
      "\u001b[1m157/157\u001b[0m \u001b[32m━━━━━━━━━━━━━━━━━━━━\u001b[0m\u001b[37m\u001b[0m \u001b[1m101s\u001b[0m 599ms/step - accuracy: 0.9639 - loss: 0.6345 - val_accuracy: 0.9600 - val_loss: 0.2825\n",
      "Epoch 2/50\n",
      "\u001b[1m157/157\u001b[0m \u001b[32m━━━━━━━━━━━━━━━━━━━━\u001b[0m\u001b[37m\u001b[0m \u001b[1m92s\u001b[0m 581ms/step - accuracy: 0.9620 - loss: 0.5013 - val_accuracy: 0.9600 - val_loss: 0.4774\n",
      "Epoch 3/50\n",
      "\u001b[1m157/157\u001b[0m \u001b[32m━━━━━━━━━━━━━━━━━━━━\u001b[0m\u001b[37m\u001b[0m \u001b[1m90s\u001b[0m 570ms/step - accuracy: 0.9633 - loss: 0.3718 - val_accuracy: 0.9600 - val_loss: 0.6306\n",
      "Epoch 4/50\n",
      "\u001b[1m157/157\u001b[0m \u001b[32m━━━━━━━━━━━━━━━━━━━━\u001b[0m\u001b[37m\u001b[0m \u001b[1m89s\u001b[0m 567ms/step - accuracy: 0.9626 - loss: 0.2693 - val_accuracy: 0.9600 - val_loss: 0.7214\n",
      "Epoch 5/50\n",
      "\u001b[1m157/157\u001b[0m \u001b[32m━━━━━━━━━━━━━━━━━━━━\u001b[0m\u001b[37m\u001b[0m \u001b[1m90s\u001b[0m 574ms/step - accuracy: 0.9626 - loss: 0.1881 - val_accuracy: 0.9600 - val_loss: 0.6887\n",
      "Epoch 6/50\n",
      "\u001b[1m157/157\u001b[0m \u001b[32m━━━━━━━━━━━━━━━━━━━━\u001b[0m\u001b[37m\u001b[0m \u001b[1m92s\u001b[0m 586ms/step - accuracy: 0.9643 - loss: 0.1339 - val_accuracy: 0.9600 - val_loss: 0.5915\n",
      "Epoch 7/50\n",
      "\u001b[1m157/157\u001b[0m \u001b[32m━━━━━━━━━━━━━━━━━━━━\u001b[0m\u001b[37m\u001b[0m \u001b[1m95s\u001b[0m 605ms/step - accuracy: 0.9679 - loss: 0.1026 - val_accuracy: 0.9600 - val_loss: 0.5198\n",
      "Epoch 8/50\n",
      "\u001b[1m157/157\u001b[0m \u001b[32m━━━━━━━━━━━━━━━━━━━━\u001b[0m\u001b[37m\u001b[0m \u001b[1m92s\u001b[0m 583ms/step - accuracy: 0.9692 - loss: 0.0831 - val_accuracy: 0.9600 - val_loss: 0.4523\n",
      "Epoch 9/50\n",
      "\u001b[1m157/157\u001b[0m \u001b[32m━━━━━━━━━━━━━━━━━━━━\u001b[0m\u001b[37m\u001b[0m \u001b[1m91s\u001b[0m 577ms/step - accuracy: 0.9740 - loss: 0.0708 - val_accuracy: 0.9600 - val_loss: 0.4001\n",
      "Epoch 10/50\n",
      "\u001b[1m157/157\u001b[0m \u001b[32m━━━━━━━━━━━━━━━━━━━━\u001b[0m\u001b[37m\u001b[0m \u001b[1m90s\u001b[0m 574ms/step - accuracy: 0.9788 - loss: 0.0597 - val_accuracy: 0.9600 - val_loss: 0.3604\n",
      "Epoch 11/50\n",
      "\u001b[1m157/157\u001b[0m \u001b[32m━━━━━━━━━━━━━━━━━━━━\u001b[0m\u001b[37m\u001b[0m \u001b[1m90s\u001b[0m 574ms/step - accuracy: 0.9800 - loss: 0.0549 - val_accuracy: 0.9600 - val_loss: 0.3450\n",
      "Epoch 12/50\n",
      "\u001b[1m157/157\u001b[0m \u001b[32m━━━━━━━━━━━━━━━━━━━━\u001b[0m\u001b[37m\u001b[0m \u001b[1m91s\u001b[0m 580ms/step - accuracy: 0.9843 - loss: 0.0450 - val_accuracy: 0.9590 - val_loss: 0.3307\n",
      "Epoch 13/50\n",
      "\u001b[1m157/157\u001b[0m \u001b[32m━━━━━━━━━━━━━━━━━━━━\u001b[0m\u001b[37m\u001b[0m \u001b[1m93s\u001b[0m 587ms/step - accuracy: 0.9871 - loss: 0.0400 - val_accuracy: 0.9590 - val_loss: 0.3328\n",
      "Epoch 14/50\n",
      "\u001b[1m157/157\u001b[0m \u001b[32m━━━━━━━━━━━━━━━━━━━━\u001b[0m\u001b[37m\u001b[0m \u001b[1m93s\u001b[0m 588ms/step - accuracy: 0.9908 - loss: 0.0340 - val_accuracy: 0.9590 - val_loss: 0.3256\n",
      "Epoch 15/50\n",
      "\u001b[1m157/157\u001b[0m \u001b[32m━━━━━━━━━━━━━━━━━━━━\u001b[0m\u001b[37m\u001b[0m \u001b[1m91s\u001b[0m 580ms/step - accuracy: 0.9947 - loss: 0.0278 - val_accuracy: 0.9570 - val_loss: 0.3176\n",
      "Epoch 16/50\n",
      "\u001b[1m157/157\u001b[0m \u001b[32m━━━━━━━━━━━━━━━━━━━━\u001b[0m\u001b[37m\u001b[0m \u001b[1m92s\u001b[0m 587ms/step - accuracy: 0.9956 - loss: 0.0241 - val_accuracy: 0.9560 - val_loss: 0.3248\n",
      "Epoch 17/50\n",
      "\u001b[1m157/157\u001b[0m \u001b[32m━━━━━━━━━━━━━━━━━━━━\u001b[0m\u001b[37m\u001b[0m \u001b[1m93s\u001b[0m 589ms/step - accuracy: 0.9947 - loss: 0.0228 - val_accuracy: 0.9550 - val_loss: 0.3123\n",
      "Epoch 18/50\n",
      "\u001b[1m157/157\u001b[0m \u001b[32m━━━━━━━━━━━━━━━━━━━━\u001b[0m\u001b[37m\u001b[0m \u001b[1m94s\u001b[0m 594ms/step - accuracy: 0.9964 - loss: 0.0199 - val_accuracy: 0.9550 - val_loss: 0.3044\n",
      "Epoch 19/50\n",
      "\u001b[1m157/157\u001b[0m \u001b[32m━━━━━━━━━━━━━━━━━━━━\u001b[0m\u001b[37m\u001b[0m \u001b[1m92s\u001b[0m 582ms/step - accuracy: 0.9976 - loss: 0.0151 - val_accuracy: 0.9520 - val_loss: 0.3113\n",
      "Epoch 20/50\n",
      "\u001b[1m157/157\u001b[0m \u001b[32m━━━━━━━━━━━━━━━━━━━━\u001b[0m\u001b[37m\u001b[0m \u001b[1m92s\u001b[0m 585ms/step - accuracy: 0.9976 - loss: 0.0143 - val_accuracy: 0.9500 - val_loss: 0.3161\n",
      "Epoch 21/50\n",
      "\u001b[1m157/157\u001b[0m \u001b[32m━━━━━━━━━━━━━━━━━━━━\u001b[0m\u001b[37m\u001b[0m \u001b[1m91s\u001b[0m 579ms/step - accuracy: 0.9985 - loss: 0.0127 - val_accuracy: 0.9520 - val_loss: 0.3150\n"
     ]
    }
   ],
   "source": [
    "\n",
    "from tensorflow.keras.applications import MobileNetV2\n",
    "from tensorflow.keras.models import Model\n",
    "from tensorflow.keras.layers import Dense, GlobalAveragePooling2D, Input\n",
    "from tensorflow.keras.optimizers import Adam\n",
    "from tensorflow.keras.callbacks import EarlyStopping\n",
    "\n",
    "# Load the base model\n",
    "base_model = MobileNetV2(input_shape=(128, 128, 3), include_top=False, weights='imagenet')\n",
    "base_model.trainable = False  # Freeze base model\n",
    "\n",
    "# Add custom classification head\n",
    "inputs = Input(shape=(128, 128, 3))\n",
    "x = base_model(inputs, training=False)\n",
    "x = GlobalAveragePooling2D()(x)\n",
    "x = Dense(64, activation='relu')(x)\n",
    "outputs = Dense(1, activation='sigmoid')(x)  # Binary classification\n",
    "model = Model(inputs, outputs)\n",
    "\n",
    "# Compile model\n",
    "model.compile(optimizer=Adam(learning_rate=0.001),\n",
    "              loss='binary_crossentropy',\n",
    "              metrics=['accuracy'])\n",
    "\n",
    "# Train top layers first\n",
    "history = model.fit(train_image_ds,\n",
    "                    validation_data=val_image_ds,\n",
    "                    epochs=20,\n",
    "                    callbacks=[EarlyStopping(patience=5, restore_best_weights=True)])\n",
    "\n",
    "# Unfreeze and fine-tune\n",
    "base_model.trainable = True\n",
    "model.compile(optimizer=Adam(learning_rate=1e-5),\n",
    "              loss='binary_crossentropy',\n",
    "              metrics=['accuracy'])\n",
    "\n",
    "# Fine-tune the whole model\n",
    "history_finetune = model.fit(train_image_ds,\n",
    "                             validation_data=val_image_ds,\n",
    "                             epochs=50,\n",
    "                             callbacks=[EarlyStopping(patience=20, restore_best_weights=True)])\n"
   ]
  },
  {
   "cell_type": "code",
   "execution_count": 18,
   "id": "7d620d35-1b2f-4be5-bc54-60dc41df0650",
   "metadata": {},
   "outputs": [
    {
     "name": "stdout",
     "output_type": "stream",
     "text": [
      "\u001b[1m759/759\u001b[0m \u001b[32m━━━━━━━━━━━━━━━━━━━━\u001b[0m\u001b[37m\u001b[0m \u001b[1m100s\u001b[0m 131ms/step\n"
     ]
    }
   ],
   "source": [
    "y_pred_probs = model.predict(test_image_ds)\n",
    "y_pred = np.round(y_pred_probs).astype(int)"
   ]
  },
  {
   "cell_type": "code",
   "execution_count": 19,
   "id": "0977fdea-802f-41f1-9127-db13cff3d8f0",
   "metadata": {},
   "outputs": [],
   "source": [
    "y_true = np.array(test_labels_sorted)"
   ]
  },
  {
   "cell_type": "code",
   "execution_count": 20,
   "id": "7959f465-046c-431c-afad-3a97a6f13f32",
   "metadata": {},
   "outputs": [
    {
     "data": {
      "text/plain": [
       "<sklearn.metrics._plot.confusion_matrix.ConfusionMatrixDisplay at 0x135ebe3d0>"
      ]
     },
     "execution_count": 20,
     "metadata": {},
     "output_type": "execute_result"
    },
    {
     "data": {
      "image/png": "[encoded data removed]",
      "text/plain": [
       "<Figure size 640x480 with 2 Axes>"
      ]
     },
     "metadata": {},
     "output_type": "display_data"
    }
   ],
   "source": [
    "from sklearn.metrics import classification_report, confusion_matrix, ConfusionMatrixDisplay\n",
    "\n",
    "# Confusion matrix\n",
    "cm = confusion_matrix(y_true, y_pred)\n",
    "disp = ConfusionMatrixDisplay(confusion_matrix=cm, display_labels=['Benign', 'Malignant'])\n",
    "disp.plot(cmap='Blues',values_format='d')\n"
   ]
  },
  {
   "cell_type": "code",
   "execution_count": 21,
   "id": "360f3c10-2524-4608-9fbc-d521f536ad43",
   "metadata": {},
   "outputs": [
    {
     "name": "stdout",
     "output_type": "stream",
     "text": [
      "              precision    recall  f1-score   support\n",
      "\n",
      "      Benign       0.96      1.00      0.98     46727\n",
      "   Malignant       0.00      0.00      0.00      1826\n",
      "\n",
      "    accuracy                           0.96     48553\n",
      "   macro avg       0.48      0.50      0.49     48553\n",
      "weighted avg       0.93      0.96      0.94     48553\n",
      "\n"
     ]
    },
    {
     "name": "stderr",
     "output_type": "stream",
     "text": [
      "/opt/anaconda3/lib/python3.11/site-packages/sklearn/metrics/_classification.py:1565: UndefinedMetricWarning: Precision is ill-defined and being set to 0.0 in labels with no predicted samples. Use `zero_division` parameter to control this behavior.\n",
      "  _warn_prf(average, modifier, f\"{metric.capitalize()} is\", len(result))\n",
      "/opt/anaconda3/lib/python3.11/site-packages/sklearn/metrics/_classification.py:1565: UndefinedMetricWarning: Precision is ill-defined and being set to 0.0 in labels with no predicted samples. Use `zero_division` parameter to control this behavior.\n",
      "  _warn_prf(average, modifier, f\"{metric.capitalize()} is\", len(result))\n",
      "/opt/anaconda3/lib/python3.11/site-packages/sklearn/metrics/_classification.py:1565: UndefinedMetricWarning: Precision is ill-defined and being set to 0.0 in labels with no predicted samples. Use `zero_division` parameter to control this behavior.\n",
      "  _warn_prf(average, modifier, f\"{metric.capitalize()} is\", len(result))\n"
     ]
    }
   ],
   "source": [
    "print(classification_report(y_true, y_pred, target_names=['Benign', 'Malignant']))"
   ]
  },
  {
   "cell_type": "code",
   "execution_count": 22,
   "id": "5a82b1af-c820-4ae7-91c9-0d4ebd1ff56d",
   "metadata": {},
   "outputs": [
    {
     "name": "stderr",
     "output_type": "stream",
     "text": [
      "2025-05-12 17:55:17.761212: I tensorflow/core/framework/local_rendezvous.cc:407] Local rendezvous is aborting with status: OUT_OF_RANGE: End of sequence\n"
     ]
    },
    {
     "data": {
      "image/png": "[encoded data removed]",
      "text/plain": [
       "<Figure size 640x480 with 2 Axes>"
      ]
     },
     "metadata": {},
     "output_type": "display_data"
    }
   ],
   "source": [
    "import matplotlib.pyplot as plt\n",
    "y_true = []\n",
    "y_pred = []\n",
    "\n",
    "# Loop through the shuffled dataset in the same order used for prediction\n",
    "for images, labels in val_image_ds:\n",
    "    preds = model.predict(images, verbose=0)\n",
    "    y_pred.extend(np.round(preds).astype(int).flatten())  # or np.argmax if softmax\n",
    "    y_true.extend(labels.numpy())\n",
    "\n",
    "y_true = np.array(y_true)\n",
    "y_pred = np.array(y_pred)\n",
    "\n",
    "# Confusion Matrix\n",
    "from sklearn.metrics import confusion_matrix, ConfusionMatrixDisplay\n",
    "cm = confusion_matrix(y_true, y_pred)\n",
    "disp = ConfusionMatrixDisplay(confusion_matrix=cm, display_labels=['Benign', 'Malignant'])\n",
    "disp.plot(cmap='Blues', values_format='d')\n",
    "plt.show()"
   ]
  },
  {
   "cell_type": "code",
   "execution_count": 23,
   "id": "1987c56a-9313-4008-88d9-2ece8081556b",
   "metadata": {},
   "outputs": [
    {
     "name": "stdout",
     "output_type": "stream",
     "text": [
      "\u001b[1m16/16\u001b[0m \u001b[32m━━━━━━━━━━━━━━━━━━━━\u001b[0m\u001b[37m\u001b[0m \u001b[1m2s\u001b[0m 116ms/step - accuracy: 0.9599 - loss: 0.2671\n"
     ]
    }
   ],
   "source": [
    "test_loss, test_accuracy = model.evaluate(val_image_ds)"
   ]
  },
  {
   "cell_type": "code",
   "execution_count": 24,
   "id": "badc6407-655a-4c66-8b2a-56dbdc366bbe",
   "metadata": {},
   "outputs": [],
   "source": [
    "model.save('model_5000_unbal.keras')"
   ]
  },
  {
   "cell_type": "code",
   "execution_count": null,
   "id": "b3f801eb-b7be-4985-b740-adc9cbfd7de9",
   "metadata": {},
   "outputs": [],
   "source": []
  }
 ],
 "metadata": {
  "kernelspec": {
   "display_name": "Python 3 (ipykernel)",
   "language": "python",
   "name": "python3"
  },
  "language_info": {
   "codemirror_mode": {
    "name": "ipython",
    "version": 3
   },
   "file_extension": ".py",
   "mimetype": "text/x-python",
   "name": "python",
   "nbconvert_exporter": "python",
   "pygments_lexer": "ipython3",
   "version": "3.11.8"
  }
 },
 "nbformat": 4,
 "nbformat_minor": 5
}
