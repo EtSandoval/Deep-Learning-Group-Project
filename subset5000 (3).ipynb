{
 "cells": [
  {
   "cell_type": "code",
   "execution_count": 1,
   "id": "134513bb-6ec1-4e19-892b-0b45b766b299",
   "metadata": {},
   "outputs": [],
   "source": [
    "import tensorflow as tf\n",
    "from tensorflow import keras\n",
    "from tensorflow.keras import layers\n",
    "import pandas as pd\n",
    "import numpy as np\n",
    "import glob\n",
    "import os\n",
    "import sklearn.model_selection\n"
   ]
  },
  {
   "cell_type": "markdown",
   "id": "fe224ab3",
   "metadata": {},
   "source": [
    "## Metadata Preprocessing\n",
    "\n",
    "We begin by loading and cleaning the metadata. This includes selecting relevant columns, encoding categorical variables (`sex` and `diagnosis_1`), and handling missing values by imputing with the mean. We also create a new `filename` column to match image files with metadata."
   ]
  },
  {
   "cell_type": "code",
   "execution_count": 2,
   "id": "47321e5e-7369-4734-bad7-ef1044205635",
   "metadata": {},
   "outputs": [
    {
     "name": "stderr",
     "output_type": "stream",
     "text": [
      "/var/folders/0b/33n254b510726mq07nrfcfbw0000gn/T/ipykernel_4880/695260491.py:1: DtypeWarning: Columns (6,9,10,11,13,14,15,16,17,18,19,22,23,25,26,27,28,30,35) have mixed types. Specify dtype option on import or set low_memory=False.\n",
      "  metadata = pd.read_csv('metadata.csv')\n"
     ]
    }
   ],
   "source": [
    "\n",
    "metadata = pd.read_csv('metadata.csv')\n",
    "metadata = metadata[['isic_id','age_approx','clin_size_long_diam_mm','sex','diagnosis_1']]\n",
    "# encode columns\n",
    "metadata['sex'] = metadata['sex'].map({'male': 0, 'female': 1})\n",
    "metadata['diagnosis_1'] = metadata['diagnosis_1'].map({'Benign': 0, 'Malignant': 1})\n",
    "\n",
    "# missing values\n",
    "metadata['age_approx'] = metadata['age_approx'].fillna(metadata['age_approx'].mean())\n",
    "metadata['clin_size_long_diam_mm'] = metadata['clin_size_long_diam_mm'].fillna(metadata['clin_size_long_diam_mm'].mean())\n",
    "metadata = metadata.dropna()\n",
    "\n",
    "# Create filename field\n",
    "metadata['filename'] = metadata['isic_id'].astype(str) + '.jpg'\n"
   ]
  },
  {
   "cell_type": "code",
   "execution_count": 3,
   "id": "e2a21c24-8fca-4f42-afaf-f9bb3e73f84f",
   "metadata": {},
   "outputs": [
    {
     "data": {
      "text/html": [
       "<div>\n",
       "<style scoped>\n",
       "    .dataframe tbody tr th:only-of-type {\n",
       "        vertical-align: middle;\n",
       "    }\n",
       "\n",
       "    .dataframe tbody tr th {\n",
       "        vertical-align: top;\n",
       "    }\n",
       "\n",
       "    .dataframe thead th {\n",
       "        text-align: right;\n",
       "    }\n",
       "</style>\n",
       "<table border=\"1\" class=\"dataframe\">\n",
       "  <thead>\n",
       "    <tr style=\"text-align: right;\">\n",
       "      <th></th>\n",
       "      <th>isic_id</th>\n",
       "      <th>age_approx</th>\n",
       "      <th>clin_size_long_diam_mm</th>\n",
       "      <th>sex</th>\n",
       "      <th>diagnosis_1</th>\n",
       "      <th>filename</th>\n",
       "    </tr>\n",
       "  </thead>\n",
       "  <tbody>\n",
       "    <tr>\n",
       "      <th>0</th>\n",
       "      <td>ISIC_9536278</td>\n",
       "      <td>45.0</td>\n",
       "      <td>3.988203</td>\n",
       "      <td>1.0</td>\n",
       "      <td>1.0</td>\n",
       "      <td>ISIC_9536278.jpg</td>\n",
       "    </tr>\n",
       "    <tr>\n",
       "      <th>1</th>\n",
       "      <td>ISIC_7650956</td>\n",
       "      <td>65.0</td>\n",
       "      <td>3.988203</td>\n",
       "      <td>1.0</td>\n",
       "      <td>1.0</td>\n",
       "      <td>ISIC_7650956.jpg</td>\n",
       "    </tr>\n",
       "    <tr>\n",
       "      <th>2</th>\n",
       "      <td>ISIC_5730927</td>\n",
       "      <td>85.0</td>\n",
       "      <td>3.988203</td>\n",
       "      <td>0.0</td>\n",
       "      <td>1.0</td>\n",
       "      <td>ISIC_5730927.jpg</td>\n",
       "    </tr>\n",
       "    <tr>\n",
       "      <th>3</th>\n",
       "      <td>ISIC_4305055</td>\n",
       "      <td>85.0</td>\n",
       "      <td>3.988203</td>\n",
       "      <td>1.0</td>\n",
       "      <td>1.0</td>\n",
       "      <td>ISIC_4305055.jpg</td>\n",
       "    </tr>\n",
       "    <tr>\n",
       "      <th>4</th>\n",
       "      <td>ISIC_5681611</td>\n",
       "      <td>85.0</td>\n",
       "      <td>3.988203</td>\n",
       "      <td>1.0</td>\n",
       "      <td>1.0</td>\n",
       "      <td>ISIC_5681611.jpg</td>\n",
       "    </tr>\n",
       "  </tbody>\n",
       "</table>\n",
       "</div>"
      ],
      "text/plain": [
       "        isic_id  age_approx  clin_size_long_diam_mm  sex  diagnosis_1  \\\n",
       "0  ISIC_9536278        45.0                3.988203  1.0          1.0   \n",
       "1  ISIC_7650956        65.0                3.988203  1.0          1.0   \n",
       "2  ISIC_5730927        85.0                3.988203  0.0          1.0   \n",
       "3  ISIC_4305055        85.0                3.988203  1.0          1.0   \n",
       "4  ISIC_5681611        85.0                3.988203  1.0          1.0   \n",
       "\n",
       "           filename  \n",
       "0  ISIC_9536278.jpg  \n",
       "1  ISIC_7650956.jpg  \n",
       "2  ISIC_5730927.jpg  \n",
       "3  ISIC_4305055.jpg  \n",
       "4  ISIC_5681611.jpg  "
      ]
     },
     "execution_count": 3,
     "metadata": {},
     "output_type": "execute_result"
    }
   ],
   "source": [
    "metadata.head()"
   ]
  },
  {
   "cell_type": "markdown",
   "id": "28f3e16d",
   "metadata": {},
   "source": [
    "## Filter Valid Image Paths\n",
    "\n",
    "We filter the metadata to keep only those entries that have valid corresponding image files, as listed in `good_image_paths.txt`."
   ]
  },
  {
   "cell_type": "code",
   "execution_count": 4,
   "id": "fe5fde46-1bed-4464-b9db-2803417460e6",
   "metadata": {},
   "outputs": [
    {
     "data": {
      "text/plain": [
       "'\\ngood_image_paths = []\\n\\nfor path in valid_image_paths:\\n    try:\\n        img_raw = tf.io.read_file(path)\\n        img = tf.image.decode_jpeg(img_raw, channels=3)\\n        good_image_paths.append(path)\\n    except:\\n        print(f\"Skipping invalid image: {path}\")\\n\\nwith open(\\'good_image_paths.txt\\', \\'w\\') as f:\\n    for path in good_image_paths:\\n        f.write(f\"{path}\\n\")\\n'"
      ]
     },
     "execution_count": 4,
     "metadata": {},
     "output_type": "execute_result"
    }
   ],
   "source": [
    "'''\n",
    "good_image_paths = []\n",
    "\n",
    "for path in valid_image_paths:\n",
    "    try:\n",
    "        img_raw = tf.io.read_file(path)\n",
    "        img = tf.image.decode_jpeg(img_raw, channels=3)\n",
    "        good_image_paths.append(path)\n",
    "    except:\n",
    "        print(f\"Skipping invalid image: {path}\")\n",
    "\n",
    "with open('good_image_paths.txt', 'w') as f:\n",
    "    for path in good_image_paths:\n",
    "        f.write(f\"{path}\\n\")\n",
    "'''"
   ]
  },
  {
   "cell_type": "code",
   "execution_count": 5,
   "id": "d86fc996-e286-4a93-bccf-99bb7029d6af",
   "metadata": {},
   "outputs": [],
   "source": [
    "with open('good_image_paths.txt', 'r') as f:\n",
    "    image_paths = [line.strip() for line in f]\n",
    "\n",
    "filenames = [os.path.basename(p) for p in image_paths]\n",
    "metadata = metadata[metadata['filename'].isin(filenames)].reset_index(drop=True)\n"
   ]
  },
  {
   "cell_type": "markdown",
   "id": "ba8d68de",
   "metadata": {},
   "source": [
    "## Create Lookup Dictionaries for Metadata\n",
    "\n",
    "We create dictionaries that map filenames to metadata features (sex, age, size) and class labels for training."
   ]
  },
  {
   "cell_type": "code",
   "execution_count": 6,
   "id": "4bb39d3f-279f-4bf8-a103-9ce349aa56ff",
   "metadata": {},
   "outputs": [],
   "source": [
    "# Create lookup dictionaries\n",
    "label_lookup = dict(zip(metadata['filename'], metadata['diagnosis_1']))\n",
    "# Lists for matched data\n",
    "valid_image_paths = []\n",
    "labels = []\n",
    "\n",
    "\n",
    "for path, fname in zip(image_paths, filenames):\n",
    "    if fname in label_lookup:\n",
    "        valid_image_paths.append(path)\n",
    "        labels.append(label_lookup[fname])\n",
    "    \n",
    "\n"
   ]
  },
  {
   "cell_type": "markdown",
   "id": "219fceb1",
   "metadata": {},
   "source": [
    "## Train/Validation/Test Split\n",
    "\n",
    "We split the dataset into training+validation (90%) and test (10%) sets. This ensures we have a hold-out set for final evaluation."
   ]
  },
  {
   "cell_type": "code",
   "execution_count": 7,
   "id": "4f25d0af-dd6e-4cb1-8247-f72f9d3d5ce0",
   "metadata": {},
   "outputs": [],
   "source": [
    "trainval_paths, test_paths, trainval_labels, test_labels = sklearn.model_selection.train_test_split(\n",
    "    valid_image_paths, labels,\n",
    "    test_size=0.1, random_state=42, shuffle=True\n",
    ")\n",
    "\n"
   ]
  },
  {
   "cell_type": "code",
   "execution_count": 8,
   "id": "fd7ec6bf-dd2f-4ab3-ae49-683d61057621",
   "metadata": {},
   "outputs": [
    {
     "data": {
      "text/plain": [
       "436973"
      ]
     },
     "execution_count": 8,
     "metadata": {},
     "output_type": "execute_result"
    }
   ],
   "source": [
    "len(trainval_paths)"
   ]
  },
  {
   "cell_type": "markdown",
   "id": "4f748134",
   "metadata": {},
   "source": [
    "## Balancing Classes\n",
    "\n",
    "To ensure balanced classes, we sample 10,000 images per class from the training+validation data. We then split these into 8,000 for training and 2,000 for validation and copy them into separate folders for later use with `image_dataset_from_directory`."
   ]
  },
  {
   "cell_type": "code",
   "execution_count": 9,
   "id": "3e277790-0f88-4b87-ab8a-8265ed77fe89",
   "metadata": {},
   "outputs": [],
   "source": [
    "from collections import defaultdict\n",
    "import numpy as np\n",
    "import shutil\n",
    "import os\n",
    "\n",
    "# Group filenames by class\n",
    "label_to_paths = defaultdict(list)\n",
    "for path, label in zip(trainval_paths, trainval_labels):\n",
    "    label_to_paths[label].append(path)\n",
    "\n",
    "# For each class, sample 5000, then split into 4000 train / 1000 val\n",
    "train_paths, val_paths, train_labels, val_labels = [], [], [], []\n",
    "\n",
    "for label in [0, 1]:\n",
    "    paths = label_to_paths[label]\n",
    "    np.random.seed(42)\n",
    "    sampled_paths = np.random.choice(paths, 5000, replace=False)\n",
    "    train_p = sampled_paths[:4000]\n",
    "    val_p = sampled_paths[4000:]\n",
    "\n",
    "    train_paths.extend(train_p)\n",
    "    val_paths.extend(val_p)\n",
    "    train_labels.extend([label] * 4000)\n",
    "    val_labels.extend([label] * 1000)\n",
    "\n",
    "# Create new folders for train/val\n",
    "for folder in ['images_train_balanced', 'images_val_balanced']:\n",
    "    os.makedirs(folder, exist_ok=True)\n",
    "\n",
    "# Copy files into balanced folders\n",
    "for path in train_paths:\n",
    "    shutil.copy(path, f'images_train_balanced/{os.path.basename(path)}')\n",
    "\n",
    "for path in val_paths:\n",
    "    shutil.copy(path, f'images_val_balanced/{os.path.basename(path)}')\n"
   ]
  },
  {
   "cell_type": "code",
   "execution_count": 10,
   "id": "ee3a11e9-809f-441e-9d06-4417cb9a2962",
   "metadata": {},
   "outputs": [],
   "source": [
    "\n",
    "import os\n",
    "import shutil\n",
    "os.makedirs('./images_test', exist_ok=True)\n",
    "\n",
    "for path in test_paths:\n",
    "    filename = os.path.basename(path)\n",
    "    shutil.copy(path, f'./images_test/{filename}')\n"
   ]
  },
  {
   "cell_type": "markdown",
   "id": "fbd93db7",
   "metadata": {},
   "source": [
    "## Create TensorFlow Datasets\n",
    "\n",
    "We use `image_dataset_from_directory` to create TensorFlow datasets for training, validation, and testing. All images are resized to 128×128 pixels and batched for efficient training."
   ]
  },
  {
   "cell_type": "code",
   "execution_count": 11,
   "id": "98116eca-8904-4444-9aef-0db7b4de2218",
   "metadata": {},
   "outputs": [
    {
     "name": "stdout",
     "output_type": "stream",
     "text": [
      "Found 10000 files belonging to 2 classes.\n",
      "Found 2000 files belonging to 2 classes.\n"
     ]
    }
   ],
   "source": [
    "train_image_ds = tf.keras.utils.image_dataset_from_directory(\n",
    "    directory='images_train_balanced',\n",
    "    labels=train_labels,\n",
    "    label_mode='int',\n",
    "    batch_size=64,\n",
    "    image_size=(128, 128),\n",
    "    shuffle=True,\n",
    "    seed=123\n",
    ")\n",
    "\n",
    "val_image_ds = tf.keras.utils.image_dataset_from_directory(\n",
    "    directory='images_val_balanced',\n",
    "    labels=val_labels,\n",
    "    label_mode='int',\n",
    "    batch_size=64,\n",
    "    image_size=(128, 128),\n",
    "    shuffle=True,\n",
    "    seed=123\n",
    ")"
   ]
  },
  {
   "cell_type": "code",
   "execution_count": 12,
   "id": "bc8b685d-1679-4dd3-a3d1-3ae8e65e4f8e",
   "metadata": {},
   "outputs": [
    {
     "name": "stdout",
     "output_type": "stream",
     "text": [
      "Found 48553 files belonging to 2 classes.\n"
     ]
    }
   ],
   "source": [
    "# Test filenames and labels\n",
    "test_path_to_label = {os.path.basename(p): l for p, l in zip(test_paths, test_labels)}\n",
    "test_filenames = [os.path.basename(p) for p in test_paths]\n",
    "test_labels_sorted = [test_path_to_label[fname] for fname in test_filenames]\n",
    "\n",
    "test_image_ds = tf.keras.utils.image_dataset_from_directory(\n",
    "    directory='./images_test',\n",
    "    labels=test_labels_sorted,\n",
    "    label_mode='int',\n",
    "    batch_size=64,\n",
    "    image_size=(128, 128),\n",
    "    shuffle=False\n",
    ")\n"
   ]
  },
  {
   "cell_type": "markdown",
   "id": "64212747",
   "metadata": {},
   "source": [
    "## Model Building and Training\n",
    "\n",
    "We use a pre-trained MobileNetV2 model as the feature extractor. Initially, we freeze the base model and train only the custom classification head. Then we unfreeze and fine-tune the entire model using a lower learning rate. Early stopping is used to prevent overfitting."
   ]
  },
  {
   "cell_type": "code",
   "execution_count": 15,
   "id": "15d6fe46-40ab-464c-9090-b75e238f2dc1",
   "metadata": {},
   "outputs": [
    {
     "name": "stdout",
     "output_type": "stream",
     "text": [
      "Epoch 1/20\n",
      "\u001b[1m157/157\u001b[0m \u001b[32m━━━━━━━━━━━━━━━━━━━━\u001b[0m\u001b[37m\u001b[0m \u001b[1m29s\u001b[0m 178ms/step - accuracy: 0.7203 - loss: 0.5662 - val_accuracy: 0.8035 - val_loss: 0.4586\n",
      "Epoch 2/20\n",
      "\u001b[1m157/157\u001b[0m \u001b[32m━━━━━━━━━━━━━━━━━━━━\u001b[0m\u001b[37m\u001b[0m \u001b[1m29s\u001b[0m 183ms/step - accuracy: 0.8190 - loss: 0.4173 - val_accuracy: 0.8235 - val_loss: 0.4187\n",
      "Epoch 3/20\n",
      "\u001b[1m157/157\u001b[0m \u001b[32m━━━━━━━━━━━━━━━━━━━━\u001b[0m\u001b[37m\u001b[0m \u001b[1m30s\u001b[0m 188ms/step - accuracy: 0.8245 - loss: 0.4025 - val_accuracy: 0.8275 - val_loss: 0.4136\n",
      "Epoch 4/20\n",
      "\u001b[1m157/157\u001b[0m \u001b[32m━━━━━━━━━━━━━━━━━━━━\u001b[0m\u001b[37m\u001b[0m \u001b[1m29s\u001b[0m 183ms/step - accuracy: 0.8336 - loss: 0.3887 - val_accuracy: 0.8305 - val_loss: 0.4039\n",
      "Epoch 5/20\n",
      "\u001b[1m157/157\u001b[0m \u001b[32m━━━━━━━━━━━━━━━━━━━━\u001b[0m\u001b[37m\u001b[0m \u001b[1m30s\u001b[0m 193ms/step - accuracy: 0.8412 - loss: 0.3802 - val_accuracy: 0.8280 - val_loss: 0.4108\n",
      "Epoch 6/20\n",
      "\u001b[1m157/157\u001b[0m \u001b[32m━━━━━━━━━━━━━━━━━━━━\u001b[0m\u001b[37m\u001b[0m \u001b[1m30s\u001b[0m 189ms/step - accuracy: 0.8384 - loss: 0.3811 - val_accuracy: 0.8220 - val_loss: 0.4149\n",
      "Epoch 7/20\n",
      "\u001b[1m157/157\u001b[0m \u001b[32m━━━━━━━━━━━━━━━━━━━━\u001b[0m\u001b[37m\u001b[0m \u001b[1m30s\u001b[0m 190ms/step - accuracy: 0.8413 - loss: 0.3745 - val_accuracy: 0.8285 - val_loss: 0.4032\n",
      "Epoch 8/20\n",
      "\u001b[1m157/157\u001b[0m \u001b[32m━━━━━━━━━━━━━━━━━━━━\u001b[0m\u001b[37m\u001b[0m \u001b[1m29s\u001b[0m 183ms/step - accuracy: 0.8430 - loss: 0.3684 - val_accuracy: 0.8235 - val_loss: 0.4249\n",
      "Epoch 9/20\n",
      "\u001b[1m157/157\u001b[0m \u001b[32m━━━━━━━━━━━━━━━━━━━━\u001b[0m\u001b[37m\u001b[0m \u001b[1m28s\u001b[0m 179ms/step - accuracy: 0.8459 - loss: 0.3631 - val_accuracy: 0.8370 - val_loss: 0.3981\n",
      "Epoch 10/20\n",
      "\u001b[1m157/157\u001b[0m \u001b[32m━━━━━━━━━━━━━━━━━━━━\u001b[0m\u001b[37m\u001b[0m \u001b[1m29s\u001b[0m 184ms/step - accuracy: 0.8498 - loss: 0.3569 - val_accuracy: 0.8210 - val_loss: 0.4223\n",
      "Epoch 11/20\n",
      "\u001b[1m157/157\u001b[0m \u001b[32m━━━━━━━━━━━━━━━━━━━━\u001b[0m\u001b[37m\u001b[0m \u001b[1m29s\u001b[0m 185ms/step - accuracy: 0.8499 - loss: 0.3624 - val_accuracy: 0.8360 - val_loss: 0.4058\n",
      "Epoch 12/20\n",
      "\u001b[1m157/157\u001b[0m \u001b[32m━━━━━━━━━━━━━━━━━━━━\u001b[0m\u001b[37m\u001b[0m \u001b[1m28s\u001b[0m 180ms/step - accuracy: 0.8517 - loss: 0.3547 - val_accuracy: 0.8360 - val_loss: 0.3985\n",
      "Epoch 13/20\n",
      "\u001b[1m157/157\u001b[0m \u001b[32m━━━━━━━━━━━━━━━━━━━━\u001b[0m\u001b[37m\u001b[0m \u001b[1m30s\u001b[0m 187ms/step - accuracy: 0.8526 - loss: 0.3530 - val_accuracy: 0.8315 - val_loss: 0.4022\n",
      "Epoch 14/20\n",
      "\u001b[1m157/157\u001b[0m \u001b[32m━━━━━━━━━━━━━━━━━━━━\u001b[0m\u001b[37m\u001b[0m \u001b[1m29s\u001b[0m 182ms/step - accuracy: 0.8520 - loss: 0.3491 - val_accuracy: 0.8275 - val_loss: 0.4028\n",
      "Epoch 1/50\n",
      "\u001b[1m157/157\u001b[0m \u001b[32m━━━━━━━━━━━━━━━━━━━━\u001b[0m\u001b[37m\u001b[0m \u001b[1m106s\u001b[0m 630ms/step - accuracy: 0.6022 - loss: 2.6869 - val_accuracy: 0.7290 - val_loss: 0.9666\n",
      "Epoch 2/50\n",
      "\u001b[1m157/157\u001b[0m \u001b[32m━━━━━━━━━━━━━━━━━━━━\u001b[0m\u001b[37m\u001b[0m \u001b[1m99s\u001b[0m 632ms/step - accuracy: 0.8137 - loss: 0.7172 - val_accuracy: 0.6330 - val_loss: 1.2041\n",
      "Epoch 3/50\n",
      "\u001b[1m157/157\u001b[0m \u001b[32m━━━━━━━━━━━━━━━━━━━━\u001b[0m\u001b[37m\u001b[0m \u001b[1m98s\u001b[0m 625ms/step - accuracy: 0.8573 - loss: 0.4837 - val_accuracy: 0.5905 - val_loss: 1.3007\n",
      "Epoch 4/50\n",
      "\u001b[1m157/157\u001b[0m \u001b[32m━━━━━━━━━━━━━━━━━━━━\u001b[0m\u001b[37m\u001b[0m \u001b[1m99s\u001b[0m 627ms/step - accuracy: 0.8663 - loss: 0.3828 - val_accuracy: 0.6435 - val_loss: 1.0480\n",
      "Epoch 5/50\n",
      "\u001b[1m157/157\u001b[0m \u001b[32m━━━━━━━━━━━━━━━━━━━━\u001b[0m\u001b[37m\u001b[0m \u001b[1m104s\u001b[0m 664ms/step - accuracy: 0.8843 - loss: 0.3185 - val_accuracy: 0.6895 - val_loss: 0.8898\n",
      "Epoch 6/50\n",
      "\u001b[1m157/157\u001b[0m \u001b[32m━━━━━━━━━━━━━━━━━━━━\u001b[0m\u001b[37m\u001b[0m \u001b[1m101s\u001b[0m 641ms/step - accuracy: 0.8989 - loss: 0.2739 - val_accuracy: 0.7360 - val_loss: 0.7161\n",
      "Epoch 7/50\n",
      "\u001b[1m157/157\u001b[0m \u001b[32m━━━━━━━━━━━━━━━━━━━━\u001b[0m\u001b[37m\u001b[0m \u001b[1m96s\u001b[0m 608ms/step - accuracy: 0.9036 - loss: 0.2529 - val_accuracy: 0.7755 - val_loss: 0.6250\n",
      "Epoch 8/50\n",
      "\u001b[1m157/157\u001b[0m \u001b[32m━━━━━━━━━━━━━━━━━━━━\u001b[0m\u001b[37m\u001b[0m \u001b[1m98s\u001b[0m 625ms/step - accuracy: 0.9151 - loss: 0.2237 - val_accuracy: 0.7960 - val_loss: 0.5946\n",
      "Epoch 9/50\n",
      "\u001b[1m157/157\u001b[0m \u001b[32m━━━━━━━━━━━━━━━━━━━━\u001b[0m\u001b[37m\u001b[0m \u001b[1m96s\u001b[0m 610ms/step - accuracy: 0.9209 - loss: 0.1992 - val_accuracy: 0.8185 - val_loss: 0.5592\n",
      "Epoch 10/50\n",
      "\u001b[1m157/157\u001b[0m \u001b[32m━━━━━━━━━━━━━━━━━━━━\u001b[0m\u001b[37m\u001b[0m \u001b[1m95s\u001b[0m 603ms/step - accuracy: 0.9286 - loss: 0.1848 - val_accuracy: 0.8370 - val_loss: 0.5014\n",
      "Epoch 11/50\n",
      "\u001b[1m157/157\u001b[0m \u001b[32m━━━━━━━━━━━━━━━━━━━━\u001b[0m\u001b[37m\u001b[0m \u001b[1m96s\u001b[0m 608ms/step - accuracy: 0.9362 - loss: 0.1664 - val_accuracy: 0.8285 - val_loss: 0.5142\n",
      "Epoch 12/50\n",
      "\u001b[1m157/157\u001b[0m \u001b[32m━━━━━━━━━━━━━━━━━━━━\u001b[0m\u001b[37m\u001b[0m \u001b[1m94s\u001b[0m 599ms/step - accuracy: 0.9468 - loss: 0.1476 - val_accuracy: 0.8370 - val_loss: 0.4945\n",
      "Epoch 13/50\n",
      "\u001b[1m157/157\u001b[0m \u001b[32m━━━━━━━━━━━━━━━━━━━━\u001b[0m\u001b[37m\u001b[0m \u001b[1m95s\u001b[0m 604ms/step - accuracy: 0.9518 - loss: 0.1378 - val_accuracy: 0.8370 - val_loss: 0.4994\n",
      "Epoch 14/50\n",
      "\u001b[1m157/157\u001b[0m \u001b[32m━━━━━━━━━━━━━━━━━━━━\u001b[0m\u001b[37m\u001b[0m \u001b[1m94s\u001b[0m 597ms/step - accuracy: 0.9519 - loss: 0.1323 - val_accuracy: 0.8415 - val_loss: 0.4848\n",
      "Epoch 15/50\n",
      "\u001b[1m157/157\u001b[0m \u001b[32m━━━━━━━━━━━━━━━━━━━━\u001b[0m\u001b[37m\u001b[0m \u001b[1m94s\u001b[0m 597ms/step - accuracy: 0.9643 - loss: 0.1076 - val_accuracy: 0.8455 - val_loss: 0.4815\n",
      "Epoch 16/50\n",
      "\u001b[1m157/157\u001b[0m \u001b[32m━━━━━━━━━━━━━━━━━━━━\u001b[0m\u001b[37m\u001b[0m \u001b[1m96s\u001b[0m 611ms/step - accuracy: 0.9682 - loss: 0.0944 - val_accuracy: 0.8425 - val_loss: 0.4825\n",
      "Epoch 17/50\n",
      "\u001b[1m157/157\u001b[0m \u001b[32m━━━━━━━━━━━━━━━━━━━━\u001b[0m\u001b[37m\u001b[0m \u001b[1m95s\u001b[0m 607ms/step - accuracy: 0.9729 - loss: 0.0834 - val_accuracy: 0.8475 - val_loss: 0.4946\n",
      "Epoch 18/50\n",
      "\u001b[1m157/157\u001b[0m \u001b[32m━━━━━━━━━━━━━━━━━━━━\u001b[0m\u001b[37m\u001b[0m \u001b[1m97s\u001b[0m 616ms/step - accuracy: 0.9771 - loss: 0.0740 - val_accuracy: 0.8495 - val_loss: 0.4848\n",
      "Epoch 19/50\n",
      "\u001b[1m157/157\u001b[0m \u001b[32m━━━━━━━━━━━━━━━━━━━━\u001b[0m\u001b[37m\u001b[0m \u001b[1m97s\u001b[0m 614ms/step - accuracy: 0.9807 - loss: 0.0651 - val_accuracy: 0.8590 - val_loss: 0.4865\n",
      "Epoch 20/50\n",
      "\u001b[1m157/157\u001b[0m \u001b[32m━━━━━━━━━━━━━━━━━━━━\u001b[0m\u001b[37m\u001b[0m \u001b[1m97s\u001b[0m 616ms/step - accuracy: 0.9809 - loss: 0.0637 - val_accuracy: 0.8555 - val_loss: 0.5093\n",
      "Epoch 21/50\n",
      "\u001b[1m157/157\u001b[0m \u001b[32m━━━━━━━━━━━━━━━━━━━━\u001b[0m\u001b[37m\u001b[0m \u001b[1m97s\u001b[0m 614ms/step - accuracy: 0.9849 - loss: 0.0535 - val_accuracy: 0.8555 - val_loss: 0.5108\n",
      "Epoch 22/50\n",
      "\u001b[1m157/157\u001b[0m \u001b[32m━━━━━━━━━━━━━━━━━━━━\u001b[0m\u001b[37m\u001b[0m \u001b[1m96s\u001b[0m 611ms/step - accuracy: 0.9874 - loss: 0.0477 - val_accuracy: 0.8625 - val_loss: 0.5145\n",
      "Epoch 23/50\n",
      "\u001b[1m157/157\u001b[0m \u001b[32m━━━━━━━━━━━━━━━━━━━━\u001b[0m\u001b[37m\u001b[0m \u001b[1m95s\u001b[0m 604ms/step - accuracy: 0.9923 - loss: 0.0376 - val_accuracy: 0.8645 - val_loss: 0.5190\n"
     ]
    }
   ],
   "source": [
    "\n",
    "from tensorflow.keras.applications import MobileNetV2\n",
    "from tensorflow.keras.models import Model\n",
    "from tensorflow.keras.layers import Dense, GlobalAveragePooling2D, Input\n",
    "from tensorflow.keras.optimizers import Adam\n",
    "from tensorflow.keras.callbacks import EarlyStopping\n",
    "\n",
    "# Load the base model\n",
    "base_model = MobileNetV2(input_shape=(128, 128, 3), include_top=False, weights='imagenet')\n",
    "base_model.trainable = False  # Freeze base model\n",
    "\n",
    "# Add custom classification head\n",
    "inputs = Input(shape=(128, 128, 3))\n",
    "x = base_model(inputs, training=False)\n",
    "x = GlobalAveragePooling2D()(x)\n",
    "x = Dense(64, activation='relu')(x)\n",
    "outputs = Dense(1, activation='sigmoid')(x)  # Binary classification\n",
    "model = Model(inputs, outputs)\n",
    "\n",
    "# Compile model\n",
    "model.compile(optimizer=Adam(learning_rate=0.001),\n",
    "              loss='binary_crossentropy',\n",
    "              metrics=['accuracy'])\n",
    "\n",
    "# Train top layers first\n",
    "history = model.fit(train_image_ds,\n",
    "                    validation_data=val_image_ds,\n",
    "                    epochs=20,\n",
    "                    callbacks=[EarlyStopping(patience=5, restore_best_weights=True)])\n",
    "\n",
    "# Unfreeze and fine-tune\n",
    "base_model.trainable = True\n",
    "model.compile(optimizer=Adam(learning_rate=1e-5),\n",
    "              loss='binary_crossentropy',\n",
    "              metrics=['accuracy'])\n",
    "\n",
    "# Fine-tune the whole model\n",
    "history_finetune = model.fit(train_image_ds,\n",
    "                             validation_data=val_image_ds,\n",
    "                             epochs=50,\n",
    "                             callbacks=[EarlyStopping(patience=8, restore_best_weights=True)])\n"
   ]
  },
  {
   "cell_type": "markdown",
   "id": "bef94ddb",
   "metadata": {},
   "source": [
    "## Model Evaluation on Test Set\n",
    "\n",
    "We evaluate the model on the hold-out test set and display the classification report and confusion matrix. This helps assess performance on previously unseen data."
   ]
  },
  {
   "cell_type": "code",
   "execution_count": 16,
   "id": "3b1c1dde-0529-4e52-812d-12e1b830239c",
   "metadata": {},
   "outputs": [
    {
     "name": "stdout",
     "output_type": "stream",
     "text": [
      "\u001b[1m759/759\u001b[0m \u001b[32m━━━━━━━━━━━━━━━━━━━━\u001b[0m\u001b[37m\u001b[0m \u001b[1m97s\u001b[0m 127ms/step - accuracy: 0.3771 - loss: 1.9154\n",
      "Test accuracy: 0.2013\n"
     ]
    }
   ],
   "source": [
    "test_loss, test_accuracy = model.evaluate(test_image_ds)\n",
    "print(f\"Test accuracy: {test_accuracy:.4f}\")"
   ]
  },
  {
   "cell_type": "code",
   "execution_count": 17,
   "id": "7d620d35-1b2f-4be5-bc54-60dc41df0650",
   "metadata": {},
   "outputs": [
    {
     "name": "stdout",
     "output_type": "stream",
     "text": [
      "\u001b[1m759/759\u001b[0m \u001b[32m━━━━━━━━━━━━━━━━━━━━\u001b[0m\u001b[37m\u001b[0m \u001b[1m95s\u001b[0m 125ms/step\n"
     ]
    }
   ],
   "source": [
    "y_pred_probs = model.predict(test_image_ds)\n",
    "y_pred = np.round(y_pred_probs).astype(int)"
   ]
  },
  {
   "cell_type": "code",
   "execution_count": 18,
   "id": "0977fdea-802f-41f1-9127-db13cff3d8f0",
   "metadata": {},
   "outputs": [],
   "source": [
    "y_true = np.array(test_labels_sorted)"
   ]
  },
  {
   "cell_type": "code",
   "execution_count": 19,
   "id": "7959f465-046c-431c-afad-3a97a6f13f32",
   "metadata": {},
   "outputs": [
    {
     "data": {
      "text/plain": [
       "<sklearn.metrics._plot.confusion_matrix.ConfusionMatrixDisplay at 0x1612c8f90>"
      ]
     },
     "execution_count": 19,
     "metadata": {},
     "output_type": "execute_result"
    },
    {
     "data": {
      "image/png": "[encoded data removed]",
      "text/plain": [
       "<Figure size 640x480 with 2 Axes>"
      ]
     },
     "metadata": {},
     "output_type": "display_data"
    }
   ],
   "source": [
    "from sklearn.metrics import classification_report, confusion_matrix, ConfusionMatrixDisplay\n",
    "\n",
    "# Confusion matrix\n",
    "cm = confusion_matrix(y_true, y_pred)\n",
    "disp = ConfusionMatrixDisplay(confusion_matrix=cm, display_labels=['Benign', 'Malignant'])\n",
    "disp.plot(cmap='Blues',values_format='d')\n"
   ]
  },
  {
   "cell_type": "code",
   "execution_count": 20,
   "id": "360f3c10-2524-4608-9fbc-d521f536ad43",
   "metadata": {},
   "outputs": [
    {
     "name": "stdout",
     "output_type": "stream",
     "text": [
      "              precision    recall  f1-score   support\n",
      "\n",
      "      Benign       0.96      0.18      0.30     46727\n",
      "   Malignant       0.04      0.82      0.07      1826\n",
      "\n",
      "    accuracy                           0.20     48553\n",
      "   macro avg       0.50      0.50      0.19     48553\n",
      "weighted avg       0.93      0.20      0.29     48553\n",
      "\n"
     ]
    }
   ],
   "source": [
    "print(classification_report(y_true, y_pred, target_names=['Benign', 'Malignant']))"
   ]
  },
  {
   "cell_type": "code",
   "execution_count": 21,
   "id": "400e77ee-8aa8-4d80-9fd7-26daadba5649",
   "metadata": {},
   "outputs": [
    {
     "name": "stdout",
     "output_type": "stream",
     "text": [
      "AUC: 0.4935\n"
     ]
    }
   ],
   "source": [
    "from sklearn.metrics import roc_auc_score\n",
    "\n",
    "\n",
    "auc = roc_auc_score(y_true, y_pred_probs)\n",
    "print(f\"AUC: {auc:.4f}\")\n"
   ]
  },
  {
   "cell_type": "code",
   "execution_count": 22,
   "id": "112d75a8-2d4a-4509-9a36-5c203557a4a3",
   "metadata": {},
   "outputs": [
    {
     "data": {
      "image/png": "[encoded data removed]",
      "text/plain": [
       "<Figure size 640x480 with 1 Axes>"
      ]
     },
     "metadata": {},
     "output_type": "display_data"
    }
   ],
   "source": [
    "from sklearn.metrics import roc_curve\n",
    "import matplotlib.pyplot as plt\n",
    "\n",
    "# Get FPR (false positive rate), TPR (true positive rate), and thresholds\n",
    "fpr, tpr, thresholds = roc_curve(y_true, y_pred_probs)\n",
    "\n",
    "# Plot\n",
    "plt.figure()\n",
    "plt.plot(fpr, tpr, label=f\"AUC = {auc:.4f}\")\n",
    "plt.plot([0, 1], [0, 1], 'k--', label=\"Random\")\n",
    "plt.xlabel(\"False Positive Rate\")\n",
    "plt.ylabel(\"True Positive Rate\")\n",
    "plt.title(\"ROC Curve\")\n",
    "plt.legend(loc=\"lower right\")\n",
    "plt.grid(True)\n",
    "plt.show()\n"
   ]
  },
  {
   "cell_type": "markdown",
   "id": "6637cb5b",
   "metadata": {},
   "source": [
    "## Confusion Matrix on Validation Set\n",
    "\n",
    "We compute predictions on the validation set and visualize the confusion matrix to further assess model performance on validation data."
   ]
  },
  {
   "cell_type": "code",
   "execution_count": 23,
   "id": "5a82b1af-c820-4ae7-91c9-0d4ebd1ff56d",
   "metadata": {},
   "outputs": [
    {
     "name": "stderr",
     "output_type": "stream",
     "text": [
      "2025-05-14 09:44:31.523136: I tensorflow/core/framework/local_rendezvous.cc:407] Local rendezvous is aborting with status: OUT_OF_RANGE: End of sequence\n"
     ]
    },
    {
     "data": {
      "image/png": "[encoded data removed]",
      "text/plain": [
       "<Figure size 640x480 with 2 Axes>"
      ]
     },
     "metadata": {},
     "output_type": "display_data"
    }
   ],
   "source": [
    "import matplotlib.pyplot as plt\n",
    "y_true = []\n",
    "y_pred = []\n",
    "\n",
    "# Loop through the shuffled dataset in the same order used for prediction\n",
    "for images, labels in val_image_ds:\n",
    "    preds = model.predict(images, verbose=0)\n",
    "    y_pred.extend(np.round(preds).astype(int).flatten())  # or np.argmax if softmax\n",
    "    y_true.extend(labels.numpy())\n",
    "\n",
    "y_true = np.array(y_true)\n",
    "y_pred = np.array(y_pred)\n",
    "\n",
    "# Confusion Matrix\n",
    "from sklearn.metrics import confusion_matrix, ConfusionMatrixDisplay\n",
    "cm = confusion_matrix(y_true, y_pred)\n",
    "disp = ConfusionMatrixDisplay(confusion_matrix=cm, display_labels=['Benign', 'Malignant'])\n",
    "disp.plot(cmap='Blues', values_format='d')\n",
    "plt.show()"
   ]
  },
  {
   "cell_type": "code",
   "execution_count": 24,
   "id": "1987c56a-9313-4008-88d9-2ece8081556b",
   "metadata": {},
   "outputs": [
    {
     "name": "stdout",
     "output_type": "stream",
     "text": [
      "\u001b[1m32/32\u001b[0m \u001b[32m━━━━━━━━━━━━━━━━━━━━\u001b[0m\u001b[37m\u001b[0m \u001b[1m5s\u001b[0m 139ms/step - accuracy: 0.8457 - loss: 0.4670\n"
     ]
    }
   ],
   "source": [
    "test_loss, test_accuracy = model.evaluate(val_image_ds)"
   ]
  },
  {
   "cell_type": "markdown",
   "id": "dcbc85a8",
   "metadata": {},
   "source": [
    "## Save Trained Model\n",
    "\n",
    "We save the trained model to disk for future inference or fine-tuning."
   ]
  },
  {
   "cell_type": "code",
   "execution_count": 25,
   "id": "badc6407-655a-4c66-8b2a-56dbdc366bbe",
   "metadata": {},
   "outputs": [],
   "source": [
    "model.save('model_5000_basic.keras')"
   ]
  }
 ],
 "metadata": {
  "kernelspec": {
   "display_name": "Python 3 (ipykernel)",
   "language": "python",
   "name": "python3"
  },
  "language_info": {
   "codemirror_mode": {
    "name": "ipython",
    "version": 3
   },
   "file_extension": ".py",
   "mimetype": "text/x-python",
   "name": "python",
   "nbconvert_exporter": "python",
   "pygments_lexer": "ipython3",
   "version": "3.11.5"
  }
 },
 "nbformat": 4,
 "nbformat_minor": 5
}
