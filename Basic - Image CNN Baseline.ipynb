{
 "cells": [
  {
   "cell_type": "code",
   "execution_count": 1,
   "id": "134513bb-6ec1-4e19-892b-0b45b766b299",
   "metadata": {},
   "outputs": [],
   "source": [
    "import tensorflow as tf\n",
    "from tensorflow import keras\n",
    "from tensorflow.keras import layers\n",
    "import pandas as pd\n",
    "import numpy as np\n",
    "import glob\n",
    "import os\n",
    "import sklearn.model_selection\n"
   ]
  },
  {
   "cell_type": "markdown",
   "id": "82ddbaaf",
   "metadata": {},
   "source": [
    "## Metadata Loading and Preprocessing\n",
    "\n",
    "We load the metadata CSV, select relevant columns, encode categorical features (like `sex` and `diagnosis_1`), and handle missing values. Additionally, we create a new `filename` column to link metadata with corresponding image files."
   ]
  },
  {
   "cell_type": "code",
   "execution_count": 2,
   "id": "47321e5e-7369-4734-bad7-ef1044205635",
   "metadata": {},
   "outputs": [
    {
     "name": "stderr",
     "output_type": "stream",
     "text": [
      "/var/folders/0b/33n254b510726mq07nrfcfbw0000gn/T/ipykernel_16678/695260491.py:1: DtypeWarning: Columns (6,9,10,11,13,14,15,16,17,18,19,22,23,25,26,27,28,30,35) have mixed types. Specify dtype option on import or set low_memory=False.\n",
      "  metadata = pd.read_csv('metadata.csv')\n"
     ]
    }
   ],
   "source": [
    "\n",
    "metadata = pd.read_csv('metadata.csv')\n",
    "metadata = metadata[['isic_id','age_approx','clin_size_long_diam_mm','sex','diagnosis_1']]\n",
    "# encode columns\n",
    "metadata['sex'] = metadata['sex'].map({'male': 0, 'female': 1})\n",
    "metadata['diagnosis_1'] = metadata['diagnosis_1'].map({'Benign': 0, 'Malignant': 1})\n",
    "\n",
    "# missing values\n",
    "metadata['age_approx'] = metadata['age_approx'].fillna(metadata['age_approx'].mean())\n",
    "metadata['clin_size_long_diam_mm'] = metadata['clin_size_long_diam_mm'].fillna(metadata['clin_size_long_diam_mm'].mean())\n",
    "metadata = metadata.dropna()\n",
    "\n",
    "# Create filename field\n",
    "metadata['filename'] = metadata['isic_id'].astype(str) + '.jpg'\n"
   ]
  },
  {
   "cell_type": "code",
   "execution_count": 3,
   "id": "213c7a18-3cb2-4815-9018-76d76949c1e9",
   "metadata": {},
   "outputs": [],
   "source": [
    "benign_df = metadata[metadata['diagnosis_1'] == 0]\n",
    "malignant_df = metadata[metadata['diagnosis_1'] == 1]\n",
    "\n",
    "benign_downsampled = benign_df.sample(\n",
    "    n=len(malignant_df),\n",
    "    random_state=42,\n",
    "    replace=False\n",
    ")\n",
    "\n",
    "metadata = pd.concat([malignant_df, benign_downsampled]).sample(frac=1, random_state=42).reset_index(drop=True)"
   ]
  },
  {
   "cell_type": "code",
   "execution_count": 4,
   "id": "e2a21c24-8fca-4f42-afaf-f9bb3e73f84f",
   "metadata": {},
   "outputs": [
    {
     "data": {
      "text/html": [
       "<div>\n",
       "<style scoped>\n",
       "    .dataframe tbody tr th:only-of-type {\n",
       "        vertical-align: middle;\n",
       "    }\n",
       "\n",
       "    .dataframe tbody tr th {\n",
       "        vertical-align: top;\n",
       "    }\n",
       "\n",
       "    .dataframe thead th {\n",
       "        text-align: right;\n",
       "    }\n",
       "</style>\n",
       "<table border=\"1\" class=\"dataframe\">\n",
       "  <thead>\n",
       "    <tr style=\"text-align: right;\">\n",
       "      <th></th>\n",
       "      <th>isic_id</th>\n",
       "      <th>age_approx</th>\n",
       "      <th>clin_size_long_diam_mm</th>\n",
       "      <th>sex</th>\n",
       "      <th>diagnosis_1</th>\n",
       "      <th>filename</th>\n",
       "    </tr>\n",
       "  </thead>\n",
       "  <tbody>\n",
       "    <tr>\n",
       "      <th>0</th>\n",
       "      <td>ISIC_5096775</td>\n",
       "      <td>45.0</td>\n",
       "      <td>3.000000</td>\n",
       "      <td>1.0</td>\n",
       "      <td>0.0</td>\n",
       "      <td>ISIC_5096775.jpg</td>\n",
       "    </tr>\n",
       "    <tr>\n",
       "      <th>1</th>\n",
       "      <td>ISIC_0066001</td>\n",
       "      <td>60.0</td>\n",
       "      <td>3.988203</td>\n",
       "      <td>0.0</td>\n",
       "      <td>1.0</td>\n",
       "      <td>ISIC_0066001.jpg</td>\n",
       "    </tr>\n",
       "    <tr>\n",
       "      <th>2</th>\n",
       "      <td>ISIC_2766590</td>\n",
       "      <td>80.0</td>\n",
       "      <td>3.988203</td>\n",
       "      <td>0.0</td>\n",
       "      <td>1.0</td>\n",
       "      <td>ISIC_2766590.jpg</td>\n",
       "    </tr>\n",
       "    <tr>\n",
       "      <th>3</th>\n",
       "      <td>ISIC_5166694</td>\n",
       "      <td>65.0</td>\n",
       "      <td>3.010000</td>\n",
       "      <td>0.0</td>\n",
       "      <td>0.0</td>\n",
       "      <td>ISIC_5166694.jpg</td>\n",
       "    </tr>\n",
       "    <tr>\n",
       "      <th>4</th>\n",
       "      <td>ISIC_0067079</td>\n",
       "      <td>55.0</td>\n",
       "      <td>3.988203</td>\n",
       "      <td>1.0</td>\n",
       "      <td>1.0</td>\n",
       "      <td>ISIC_0067079.jpg</td>\n",
       "    </tr>\n",
       "  </tbody>\n",
       "</table>\n",
       "</div>"
      ],
      "text/plain": [
       "        isic_id  age_approx  clin_size_long_diam_mm  sex  diagnosis_1  \\\n",
       "0  ISIC_5096775        45.0                3.000000  1.0          0.0   \n",
       "1  ISIC_0066001        60.0                3.988203  0.0          1.0   \n",
       "2  ISIC_2766590        80.0                3.988203  0.0          1.0   \n",
       "3  ISIC_5166694        65.0                3.010000  0.0          0.0   \n",
       "4  ISIC_0067079        55.0                3.988203  1.0          1.0   \n",
       "\n",
       "           filename  \n",
       "0  ISIC_5096775.jpg  \n",
       "1  ISIC_0066001.jpg  \n",
       "2  ISIC_2766590.jpg  \n",
       "3  ISIC_5166694.jpg  \n",
       "4  ISIC_0067079.jpg  "
      ]
     },
     "execution_count": 4,
     "metadata": {},
     "output_type": "execute_result"
    }
   ],
   "source": [
    "metadata.head()"
   ]
  },
  {
   "cell_type": "markdown",
   "id": "14fe3448",
   "metadata": {},
   "source": [
    "## Linking Metadata with Valid Image Files\n",
    "\n",
    "We read a list of verified image paths and filter the metadata to only include entries with matching image files. This ensures all image paths used in training have corresponding metadata."
   ]
  },
  {
   "cell_type": "code",
   "execution_count": 5,
   "id": "fe5fde46-1bed-4464-b9db-2803417460e6",
   "metadata": {},
   "outputs": [
    {
     "data": {
      "text/plain": [
       "'\\ngood_image_paths = []\\n\\nfor path in valid_image_paths:\\n    try:\\n        img_raw = tf.io.read_file(path)\\n        img = tf.image.decode_jpeg(img_raw, channels=3)\\n        good_image_paths.append(path)\\n    except:\\n        print(f\"Skipping invalid image: {path}\")\\n\\nwith open(\\'good_image_paths.txt\\', \\'w\\') as f:\\n    for path in good_image_paths:\\n        f.write(f\"{path}\\n\")\\n'"
      ]
     },
     "execution_count": 5,
     "metadata": {},
     "output_type": "execute_result"
    }
   ],
   "source": [
    "'''\n",
    "good_image_paths = []\n",
    "\n",
    "for path in valid_image_paths:\n",
    "    try:\n",
    "        img_raw = tf.io.read_file(path)\n",
    "        img = tf.image.decode_jpeg(img_raw, channels=3)\n",
    "        good_image_paths.append(path)\n",
    "    except:\n",
    "        print(f\"Skipping invalid image: {path}\")\n",
    "\n",
    "with open('good_image_paths.txt', 'w') as f:\n",
    "    for path in good_image_paths:\n",
    "        f.write(f\"{path}\\n\")\n",
    "'''"
   ]
  },
  {
   "cell_type": "code",
   "execution_count": 6,
   "id": "d86fc996-e286-4a93-bccf-99bb7029d6af",
   "metadata": {},
   "outputs": [],
   "source": [
    "with open('good_image_paths.txt', 'r') as f:\n",
    "    image_paths = [line.strip() for line in f]\n",
    "\n",
    "filenames = [os.path.basename(p) for p in image_paths]\n",
    "metadata = metadata[metadata['filename'].isin(filenames)].reset_index(drop=True)\n"
   ]
  },
  {
   "cell_type": "markdown",
   "id": "625f7bae",
   "metadata": {},
   "source": [
    "## Creating Lookup Dictionaries\n",
    "\n",
    "We generate lookup dictionaries to map filenames to their corresponding labels and metadata values (like sex, age, and lesion size). These will be used to efficiently build the dataset."
   ]
  },
  {
   "cell_type": "code",
   "execution_count": 7,
   "id": "4bb39d3f-279f-4bf8-a103-9ce349aa56ff",
   "metadata": {},
   "outputs": [],
   "source": [
    "# Create lookup dictionaries\n",
    "label_lookup = dict(zip(metadata['filename'], metadata['diagnosis_1']))\n",
    "sex_lookup = dict(zip(metadata['filename'], metadata['sex']))\n",
    "age_lookup = dict(zip(metadata['filename'], metadata['age_approx']))\n",
    "size_lookup = dict(zip(metadata['filename'], metadata['clin_size_long_diam_mm']))\n",
    "\n",
    "# Lists for matched data\n",
    "valid_image_paths = []\n",
    "labels = []\n",
    "sex_features = []\n",
    "age_features = []\n",
    "size_features = []\n",
    "\n",
    "for path, fname in zip(image_paths, filenames):\n",
    "    if fname in label_lookup:\n",
    "        valid_image_paths.append(path)\n",
    "        labels.append(label_lookup[fname])\n",
    "        sex_features.append(sex_lookup[fname])\n",
    "        age_features.append(age_lookup[fname])\n",
    "        size_features.append(size_lookup[fname])\n",
    "\n"
   ]
  },
  {
   "cell_type": "markdown",
   "id": "3541bc78",
   "metadata": {},
   "source": [
    "## Train-Test Split\n",
    "\n",
    "We split the dataset into training/validation and test sets using a 90/10 ratio. This prepares the data for model training and final evaluation."
   ]
  },
  {
   "cell_type": "code",
   "execution_count": 8,
   "id": "4f25d0af-dd6e-4cb1-8247-f72f9d3d5ce0",
   "metadata": {},
   "outputs": [],
   "source": [
    "trainval_paths, test_paths, trainval_labels, test_labels, \\\n",
    "trainval_sex, test_sex, trainval_age, test_age, trainval_size, test_size = sklearn.model_selection.train_test_split(\n",
    "    valid_image_paths, labels, sex_features, age_features, size_features,\n",
    "    test_size=0.1, random_state=42, shuffle=True\n",
    ")\n"
   ]
  },
  {
   "cell_type": "code",
   "execution_count": 9,
   "id": "fd7ec6bf-dd2f-4ab3-ae49-683d61057621",
   "metadata": {},
   "outputs": [
    {
     "data": {
      "text/plain": [
       "32815"
      ]
     },
     "execution_count": 9,
     "metadata": {},
     "output_type": "execute_result"
    }
   ],
   "source": [
    "len(trainval_paths)"
   ]
  },
  {
   "cell_type": "markdown",
   "id": "cec972f5",
   "metadata": {},
   "source": [
    "## Preparing Test Dataset\n",
    "\n",
    "We copy the test set images into a dedicated directory to match the structure required by TensorFlow’s image dataset loader."
   ]
  },
  {
   "cell_type": "code",
   "execution_count": 10,
   "id": "ee3a11e9-809f-441e-9d06-4417cb9a2962",
   "metadata": {},
   "outputs": [],
   "source": [
    "\n",
    "import os\n",
    "import shutil\n",
    "\n",
    "os.makedirs('./images_trainval2', exist_ok=True)\n",
    "\n",
    "for path in trainval_paths:\n",
    "    filename = os.path.basename(path)\n",
    "    shutil.copy(path, f'./images_trainval2/{filename}')\n",
    "\n",
    "os.makedirs('./images_test2', exist_ok=True)\n",
    "\n",
    "for path in test_paths:\n",
    "    filename = os.path.basename(path)\n",
    "    shutil.copy(path, f'./images_test2/{filename}')"
   ]
  },
  {
   "cell_type": "markdown",
   "id": "b0c903ac",
   "metadata": {},
   "source": [
    "## Creating TensorFlow Image Datasets\n",
    "\n",
    "We use `image_dataset_from_directory` to create batched, shuffled image datasets for training, validation, and testing. Labels are provided as one-hot encoded vectors for multi-class classification."
   ]
  },
  {
   "cell_type": "code",
   "execution_count": 11,
   "id": "98116eca-8904-4444-9aef-0db7b4de2218",
   "metadata": {},
   "outputs": [
    {
     "name": "stdout",
     "output_type": "stream",
     "text": [
      "Found 32815 files belonging to 2 classes.\n",
      "Using 26252 files for training.\n",
      "Found 32815 files belonging to 2 classes.\n",
      "Using 6563 files for validation.\n"
     ]
    }
   ],
   "source": [
    "trainval_path_to_label = {os.path.basename(p): l for p, l in zip(trainval_paths, trainval_labels)}\n",
    "trainval_filenames = [os.path.basename(p) for p in trainval_paths]\n",
    "trainval_labels_sorted = [trainval_path_to_label[fname] for fname in trainval_filenames]\n",
    "\n",
    "\n",
    "train_image_ds = tf.keras.utils.image_dataset_from_directory(\n",
    "    directory='./images_trainval2',\n",
    "    labels=trainval_labels_sorted,\n",
    "    label_mode='int',\n",
    "    color_mode='rgb',\n",
    "    batch_size=32,\n",
    "    image_size=(128, 128),\n",
    "    shuffle=True,\n",
    "    seed=123,\n",
    "    validation_split=0.2, \n",
    "    subset=\"training\"\n",
    ")\n",
    "\n",
    "val_image_ds = tf.keras.utils.image_dataset_from_directory(\n",
    "    directory='./images_trainval2',\n",
    "    labels=trainval_labels_sorted,\n",
    "    label_mode='int',\n",
    "    color_mode='rgb',\n",
    "    batch_size=32,\n",
    "    image_size=(128, 128),\n",
    "    shuffle=True,\n",
    "    seed=123,\n",
    "    validation_split=0.2,\n",
    "    subset=\"validation\"\n",
    ")\n"
   ]
  },
  {
   "cell_type": "code",
   "execution_count": 12,
   "id": "bc8b685d-1679-4dd3-a3d1-3ae8e65e4f8e",
   "metadata": {},
   "outputs": [
    {
     "name": "stdout",
     "output_type": "stream",
     "text": [
      "Found 3647 files belonging to 2 classes.\n"
     ]
    }
   ],
   "source": [
    "# Test filenames and labels\n",
    "test_path_to_label = {os.path.basename(p): l for p, l in zip(test_paths, test_labels)}\n",
    "test_filenames = [os.path.basename(p) for p in test_paths]\n",
    "test_labels_sorted = [test_path_to_label[fname] for fname in test_filenames]\n",
    "\n",
    "test_image_ds = tf.keras.utils.image_dataset_from_directory(\n",
    "    directory='./images_test2',\n",
    "    labels=test_labels_sorted,\n",
    "    label_mode='int',\n",
    "    color_mode='rgb',\n",
    "    batch_size=32,\n",
    "    image_size=(128, 128),\n",
    "    shuffle=False\n",
    ")\n"
   ]
  },
  {
   "cell_type": "code",
   "execution_count": 13,
   "id": "68521d8d-dbbf-4844-8f10-2b2cb4651465",
   "metadata": {},
   "outputs": [],
   "source": [
    "train_metadata_ds = tf.data.Dataset.from_tensor_slices(\n",
    "    tf.stack([trainval_sex[:len(train_image_ds)], trainval_age[:len(train_image_ds)], trainval_size[:len(train_image_ds)]], axis=1)\n",
    ")\n",
    "\n",
    "val_metadata_ds = tf.data.Dataset.from_tensor_slices(\n",
    "    tf.stack([trainval_sex[len(train_image_ds):], trainval_age[len(train_image_ds):], trainval_size[len(train_image_ds):]], axis=1)\n",
    ")\n",
    "\n",
    "test_metadata_ds = tf.data.Dataset.from_tensor_slices(\n",
    "    tf.stack([test_sex, test_age, test_size], axis=1)\n",
    ")\n"
   ]
  },
  {
   "cell_type": "markdown",
   "id": "889c9ff1",
   "metadata": {},
   "source": [
    "## Merging Image Data with Metadata\n",
    "\n",
    "We create TensorFlow datasets from metadata features and zip them with image datasets. This allows us to use both image and non-image features during model training. However, this notebook only uses image data for training."
   ]
  },
  {
   "cell_type": "code",
   "execution_count": 14,
   "id": "da5b83a8-2a2f-4bd8-8df5-6782efaa3112",
   "metadata": {},
   "outputs": [],
   "source": [
    "train_images_only_ds = train_image_ds.map(lambda x, y: x)\n",
    "train_labels_only_ds = train_image_ds.map(lambda x, y: y)\n",
    "\n",
    "train_inputs_ds = tf.data.Dataset.zip((train_images_only_ds, train_metadata_ds))\n",
    "final_train_ds = tf.data.Dataset.zip((train_inputs_ds, train_labels_only_ds)).prefetch(tf.data.AUTOTUNE)\n",
    "\n",
    "val_images_only_ds = val_image_ds.map(lambda x, y: x)\n",
    "val_labels_only_ds = val_image_ds.map(lambda x, y: y)\n",
    "\n",
    "val_inputs_ds = tf.data.Dataset.zip((val_images_only_ds, val_metadata_ds))\n",
    "final_val_ds = tf.data.Dataset.zip((val_inputs_ds, val_labels_only_ds)).prefetch(tf.data.AUTOTUNE)\n",
    "\n",
    "test_images_only_ds = test_image_ds.map(lambda x, y: x)\n",
    "test_labels_only_ds = test_image_ds.map(lambda x, y: y)\n",
    "\n",
    "test_inputs_ds = tf.data.Dataset.zip((test_images_only_ds, test_metadata_ds))\n",
    "final_test_ds = tf.data.Dataset.zip((test_inputs_ds, test_labels_only_ds)).prefetch(tf.data.AUTOTUNE)\n",
    "\n",
    "\n"
   ]
  },
  {
   "cell_type": "markdown",
   "id": "8951ae90",
   "metadata": {},
   "source": [
    "## Building a Simple CNN Using Keras Sequential API\n",
    "\n",
    "This code defines a function `build_simple_cnn_sequential` that creates a Convolutional Neural Network (CNN) using TensorFlow's Keras `Sequential` API. The network is designed for binary classification on image data with shape `(128, 128, 3)` since we resized the images to 128x128."
   ]
  },
  {
   "cell_type": "code",
   "execution_count": 15,
   "id": "15d6fe46-40ab-464c-9090-b75e238f2dc1",
   "metadata": {},
   "outputs": [],
   "source": [
    "from tensorflow import keras\n",
    "from tensorflow.keras import layers\n",
    "\n",
    "def build_simple_cnn_sequential(input_shape=(128, 128, 3)):\n",
    "    model = keras.Sequential([\n",
    "        layers.Input(shape=input_shape),\n",
    "        \n",
    "        layers.Conv2D(32, (3, 3), activation='relu'),\n",
    "        layers.MaxPooling2D(),\n",
    "        \n",
    "        layers.Conv2D(64, (3, 3), activation='relu'),\n",
    "        layers.MaxPooling2D(),\n",
    "        \n",
    "        layers.Flatten(),\n",
    "        layers.Dense(128, activation='relu'),\n",
    "        layers.Dense(1, activation='sigmoid')  # Binary classification\n",
    "    ])\n",
    "    \n",
    "    return model\n"
   ]
  },
  {
   "cell_type": "markdown",
   "id": "62b282e1",
   "metadata": {},
   "source": [
    "## Defining Callbacks for Training\n",
    "\n",
    "We define two callbacks to monitor and control training:\n",
    "\n",
    "- **EarlyStopping**: Stops training early if the validation loss does not improve after a specified number of epochs.\n",
    "- **ModelCheckpoint**: Saves the best model (based on validation loss) during training."
   ]
  },
  {
   "cell_type": "code",
   "execution_count": 16,
   "id": "1b49796e-9032-4bda-8c29-415a94916483",
   "metadata": {},
   "outputs": [],
   "source": [
    "early_stopping = keras.callbacks.EarlyStopping(\n",
    "    monitor='val_loss',    # watch validation loss\n",
    "    patience=3,            # stop if no improvement for 3 epochs\n",
    "    restore_best_weights=True\n",
    ")\n"
   ]
  },
  {
   "cell_type": "code",
   "execution_count": 17,
   "id": "05a73db0-ea04-4584-ba1e-115c0a829c6c",
   "metadata": {},
   "outputs": [],
   "source": [
    "checkpoint_simple = keras.callbacks.ModelCheckpoint(\n",
    "    filepath='best_simple_cnn.h5',\n",
    "    monitor='val_loss',\n",
    "    save_best_only=True\n",
    ")"
   ]
  },
  {
   "cell_type": "markdown",
   "id": "92173038",
   "metadata": {},
   "source": [
    "## Compiling and Training the CNN Model\n",
    "\n",
    "Now we build, compile, and train the CNN model defined earlier using the training and validation datasets. We use:\n",
    "\n",
    "- **Adam** optimizer\n",
    "- **Binary cross-entropy** loss function (suitable for binary classification)\n",
    "- **Accuracy** as the evaluation metric\n",
    "\n",
    "We also use the previously defined callbacks (`early_stopping` and `checkpoint_simple`) to manage training."
   ]
  },
  {
   "cell_type": "code",
   "execution_count": 18,
   "id": "4e9e319e-5cd1-44c0-b219-03ca48c1e76a",
   "metadata": {},
   "outputs": [
    {
     "name": "stdout",
     "output_type": "stream",
     "text": [
      "Epoch 1/5\n",
      "\u001b[1m820/821\u001b[0m \u001b[32m━━━━━━━━━━━━━━━━━━━\u001b[0m\u001b[37m━\u001b[0m \u001b[1m0s\u001b[0m 102ms/step - accuracy: 0.4956 - loss: 37.4272"
     ]
    },
    {
     "name": "stderr",
     "output_type": "stream",
     "text": [
      "WARNING:absl:You are saving your model as an HDF5 file via `model.save()` or `keras.saving.save_model(model)`. This file format is considered legacy. We recommend using instead the native Keras format, e.g. `model.save('my_model.keras')` or `keras.saving.save_model(model, 'my_model.keras')`. \n"
     ]
    },
    {
     "name": "stdout",
     "output_type": "stream",
     "text": [
      "\u001b[1m821/821\u001b[0m \u001b[32m━━━━━━━━━━━━━━━━━━━━\u001b[0m\u001b[37m\u001b[0m \u001b[1m95s\u001b[0m 115ms/step - accuracy: 0.4956 - loss: 37.3529 - val_accuracy: 0.4938 - val_loss: 0.6932\n",
      "Epoch 2/5\n",
      "\u001b[1m821/821\u001b[0m \u001b[32m━━━━━━━━━━━━━━━━━━━━\u001b[0m\u001b[37m\u001b[0m \u001b[1m93s\u001b[0m 113ms/step - accuracy: 0.4942 - loss: 0.6937 - val_accuracy: 0.4992 - val_loss: 0.6933\n",
      "Epoch 3/5\n",
      "\u001b[1m821/821\u001b[0m \u001b[32m━━━━━━━━━━━━━━━━━━━━\u001b[0m\u001b[37m\u001b[0m \u001b[1m93s\u001b[0m 114ms/step - accuracy: 0.4955 - loss: 0.6945 - val_accuracy: 0.4944 - val_loss: 0.6941\n",
      "Epoch 4/5\n",
      "\u001b[1m821/821\u001b[0m \u001b[32m━━━━━━━━━━━━━━━━━━━━\u001b[0m\u001b[37m\u001b[0m \u001b[1m94s\u001b[0m 114ms/step - accuracy: 0.4971 - loss: 0.6950 - val_accuracy: 0.4950 - val_loss: 0.6985\n"
     ]
    },
    {
     "name": "stderr",
     "output_type": "stream",
     "text": [
      "WARNING:absl:You are saving your model as an HDF5 file via `model.save()` or `keras.saving.save_model(model)`. This file format is considered legacy. We recommend using instead the native Keras format, e.g. `model.save('my_model.keras')` or `keras.saving.save_model(model, 'my_model.keras')`. \n"
     ]
    }
   ],
   "source": [
    "model_simple = build_simple_cnn_sequential()\n",
    "\n",
    "# Compile\n",
    "model_simple.compile(\n",
    "    optimizer='adam',\n",
    "    loss='binary_crossentropy',\n",
    "    metrics=['accuracy']\n",
    ")\n",
    "\n",
    "# Train\n",
    "history_simple = model_simple.fit(\n",
    "    train_image_ds,\n",
    "    validation_data=val_image_ds,\n",
    "    epochs=5,\n",
    "    callbacks=[early_stopping, checkpoint_simple]\n",
    ")\n",
    "\n",
    "# Save final model\n",
    "model_simple.save('final_simple_cnn_model.h5')"
   ]
  },
  {
   "cell_type": "markdown",
   "id": "52a70d94",
   "metadata": {},
   "source": [
    "## Evaluating the Trained Model on the Test Set\n",
    "\n",
    "We define a function `evaluate_model_on_test()` that performs a thorough evaluation of the trained model on the test dataset. The function:\n",
    "\n",
    "- Generates predictions and applies a classification threshold.\n",
    "- Displays a confusion matrix.\n",
    "- Calculates key metrics: **Precision**, **Recall**, **F1 Score**, and **AUC**.\n",
    "- Plots the **ROC Curve**.\n",
    "\n",
    "This allows us to better understand model performance beyond simple accuracy."
   ]
  },
  {
   "cell_type": "code",
   "execution_count": 26,
   "id": "a916b291-72c1-4ef8-9654-48ca3514ea8b",
   "metadata": {},
   "outputs": [
    {
     "name": "stdout",
     "output_type": "stream",
     "text": [
      "\u001b[1m114/114\u001b[0m \u001b[32m━━━━━━━━━━━━━━━━━━━━\u001b[0m\u001b[37m\u001b[0m \u001b[1m10s\u001b[0m 82ms/step\n"
     ]
    },
    {
     "data": {
      "image/png": "[encoded data removed]",
      "text/plain": [
       "<Figure size 640x480 with 2 Axes>"
      ]
     },
     "metadata": {},
     "output_type": "display_data"
    },
    {
     "name": "stdout",
     "output_type": "stream",
     "text": [
      "Precision: 0.4545\n",
      "Recall: 0.0055\n",
      "F1 Score: 0.0108\n"
     ]
    },
    {
     "data": {
      "image/png": "[encoded data removed]",
      "text/plain": [
       "<Figure size 640x480 with 1 Axes>"
      ]
     },
     "metadata": {},
     "output_type": "display_data"
    },
    {
     "name": "stdout",
     "output_type": "stream",
     "text": [
      "AUC: 0.5020\n"
     ]
    }
   ],
   "source": [
    "import numpy as np\n",
    "import matplotlib.pyplot as plt\n",
    "from sklearn.metrics import confusion_matrix, ConfusionMatrixDisplay, precision_score, recall_score, f1_score, roc_curve, auc\n",
    "\n",
    "def evaluate_model_on_test(model, test_ds, threshold=0.5):\n",
    "    # Predict\n",
    "    y_pred_probs = model.predict(test_ds)\n",
    "    y_pred = (y_pred_probs > threshold).astype(int)\n",
    "    \n",
    "    # Get true labels\n",
    "    y_true = []\n",
    "    for (img, meta), label in test_ds.take(114):\n",
    "        y_true.append(label.numpy())\n",
    "    y_true = np.concatenate(y_true, axis=0)\n",
    "\n",
    "    # Confusion Matrix\n",
    "    cm = confusion_matrix(y_true, y_pred)\n",
    "    disp = ConfusionMatrixDisplay(confusion_matrix=cm)\n",
    "    disp.plot(cmap='Blues')\n",
    "    plt.title('Confusion Matrix')\n",
    "    plt.show()\n",
    "    \n",
    "    # Precision, Recall, F1\n",
    "    precision = precision_score(y_true, y_pred)\n",
    "    recall = recall_score(y_true, y_pred)\n",
    "    f1 = f1_score(y_true, y_pred)\n",
    "    print(f\"Precision: {precision:.4f}\")\n",
    "    print(f\"Recall: {recall:.4f}\")\n",
    "    print(f\"F1 Score: {f1:.4f}\")\n",
    "\n",
    "    # ROC Curve and AUC\n",
    "    fpr, tpr, thresholds = roc_curve(y_true, y_pred_probs)\n",
    "    roc_auc = auc(fpr, tpr)\n",
    "    \n",
    "    plt.figure()\n",
    "    plt.plot(fpr, tpr, label=f'ROC curve (AUC = {roc_auc:.4f})')\n",
    "    plt.plot([0, 1], [0, 1], 'k--')  # random classifier line\n",
    "    plt.xlim([0.0, 1.0])\n",
    "    plt.ylim([0.0, 1.05])\n",
    "    plt.xlabel('False Positive Rate')\n",
    "    plt.ylabel('True Positive Rate')\n",
    "    plt.title('Receiver Operating Characteristic (ROC)')\n",
    "    plt.legend(loc=\"lower right\")\n",
    "    plt.show()\n",
    "    \n",
    "    print(f\"AUC: {roc_auc:.4f}\")\n",
    "\n",
    "\n",
    "evaluate_model_on_test(model_simple, final_test_ds)\n"
   ]
  },
  {
   "cell_type": "code",
   "execution_count": null,
   "id": "a21c7754-2f06-4311-bb05-689b0a5ac177",
   "metadata": {},
   "outputs": [],
   "source": [
    "# very little predictive power, almost always predicts 0"
   ]
  }
 ],
 "metadata": {
  "kernelspec": {
   "display_name": "Python 3 (ipykernel)",
   "language": "python",
   "name": "python3"
  },
  "language_info": {
   "codemirror_mode": {
    "name": "ipython",
    "version": 3
   },
   "file_extension": ".py",
   "mimetype": "text/x-python",
   "name": "python",
   "nbconvert_exporter": "python",
   "pygments_lexer": "ipython3",
   "version": "3.11.5"
  }
 },
 "nbformat": 4,
 "nbformat_minor": 5
}
