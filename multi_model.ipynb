{
 "cells": [
  {
   "cell_type": "code",
   "execution_count": 1,
   "id": "134513bb-6ec1-4e19-892b-0b45b766b299",
   "metadata": {},
   "outputs": [],
   "source": [
    "import tensorflow as tf\n",
    "from tensorflow import keras\n",
    "from tensorflow.keras import layers\n",
    "import pandas as pd\n",
    "import numpy as np\n",
    "import glob\n",
    "import os\n",
    "import sklearn.model_selection\n"
   ]
  },
  {
   "cell_type": "markdown",
   "id": "21c254ba",
   "metadata": {},
   "source": [
    "## Metadata Preprocessing\n",
    "\n",
    "We begin by loading and cleaning the metadata. This includes selecting relevant columns, encoding categorical variables (`sex` and `diagnosis_1`), and handling missing values by imputing with the mean. We also create a new `filename` column to match image files with metadata."
   ]
  },
  {
   "cell_type": "code",
   "execution_count": 2,
   "id": "47321e5e-7369-4734-bad7-ef1044205635",
   "metadata": {},
   "outputs": [
    {
     "name": "stderr",
     "output_type": "stream",
     "text": [
      "/var/folders/0b/33n254b510726mq07nrfcfbw0000gn/T/ipykernel_17444/695260491.py:1: DtypeWarning: Columns (6,9,10,11,13,14,15,16,17,18,19,22,23,25,26,27,28,30,35) have mixed types. Specify dtype option on import or set low_memory=False.\n",
      "  metadata = pd.read_csv('metadata.csv')\n"
     ]
    }
   ],
   "source": [
    "\n",
    "metadata = pd.read_csv('metadata.csv')\n",
    "metadata = metadata[['isic_id','age_approx','clin_size_long_diam_mm','sex','diagnosis_1']]\n",
    "# encode columns\n",
    "metadata['sex'] = metadata['sex'].map({'male': 0, 'female': 1})\n",
    "metadata['diagnosis_1'] = metadata['diagnosis_1'].map({'Benign': 0, 'Malignant': 1})\n",
    "\n",
    "# missing values\n",
    "metadata['age_approx'] = metadata['age_approx'].fillna(metadata['age_approx'].mean())\n",
    "metadata['clin_size_long_diam_mm'] = metadata['clin_size_long_diam_mm'].fillna(metadata['clin_size_long_diam_mm'].mean())\n",
    "metadata = metadata.dropna()\n",
    "\n",
    "# Create filename field\n",
    "metadata['filename'] = metadata['isic_id'].astype(str) + '.jpg'\n"
   ]
  },
  {
   "cell_type": "code",
   "execution_count": 3,
   "id": "213c7a18-3cb2-4815-9018-76d76949c1e9",
   "metadata": {},
   "outputs": [],
   "source": [
    "benign_df = metadata[metadata['diagnosis_1'] == 0]\n",
    "malignant_df = metadata[metadata['diagnosis_1'] == 1]\n",
    "\n",
    "benign_downsampled = benign_df.sample(\n",
    "    n=len(malignant_df),\n",
    "    random_state=42,\n",
    "    replace=False\n",
    ")\n",
    "\n",
    "metadata = pd.concat([malignant_df, benign_downsampled]).sample(frac=1, random_state=42).reset_index(drop=True)"
   ]
  },
  {
   "cell_type": "code",
   "execution_count": 4,
   "id": "e2a21c24-8fca-4f42-afaf-f9bb3e73f84f",
   "metadata": {},
   "outputs": [
    {
     "data": {
      "text/html": [
       "<div>\n",
       "<style scoped>\n",
       "    .dataframe tbody tr th:only-of-type {\n",
       "        vertical-align: middle;\n",
       "    }\n",
       "\n",
       "    .dataframe tbody tr th {\n",
       "        vertical-align: top;\n",
       "    }\n",
       "\n",
       "    .dataframe thead th {\n",
       "        text-align: right;\n",
       "    }\n",
       "</style>\n",
       "<table border=\"1\" class=\"dataframe\">\n",
       "  <thead>\n",
       "    <tr style=\"text-align: right;\">\n",
       "      <th></th>\n",
       "      <th>isic_id</th>\n",
       "      <th>age_approx</th>\n",
       "      <th>clin_size_long_diam_mm</th>\n",
       "      <th>sex</th>\n",
       "      <th>diagnosis_1</th>\n",
       "      <th>filename</th>\n",
       "    </tr>\n",
       "  </thead>\n",
       "  <tbody>\n",
       "    <tr>\n",
       "      <th>0</th>\n",
       "      <td>ISIC_5096775</td>\n",
       "      <td>45.0</td>\n",
       "      <td>3.000000</td>\n",
       "      <td>1.0</td>\n",
       "      <td>0.0</td>\n",
       "      <td>ISIC_5096775.jpg</td>\n",
       "    </tr>\n",
       "    <tr>\n",
       "      <th>1</th>\n",
       "      <td>ISIC_0066001</td>\n",
       "      <td>60.0</td>\n",
       "      <td>3.988203</td>\n",
       "      <td>0.0</td>\n",
       "      <td>1.0</td>\n",
       "      <td>ISIC_0066001.jpg</td>\n",
       "    </tr>\n",
       "    <tr>\n",
       "      <th>2</th>\n",
       "      <td>ISIC_2766590</td>\n",
       "      <td>80.0</td>\n",
       "      <td>3.988203</td>\n",
       "      <td>0.0</td>\n",
       "      <td>1.0</td>\n",
       "      <td>ISIC_2766590.jpg</td>\n",
       "    </tr>\n",
       "    <tr>\n",
       "      <th>3</th>\n",
       "      <td>ISIC_5166694</td>\n",
       "      <td>65.0</td>\n",
       "      <td>3.010000</td>\n",
       "      <td>0.0</td>\n",
       "      <td>0.0</td>\n",
       "      <td>ISIC_5166694.jpg</td>\n",
       "    </tr>\n",
       "    <tr>\n",
       "      <th>4</th>\n",
       "      <td>ISIC_0067079</td>\n",
       "      <td>55.0</td>\n",
       "      <td>3.988203</td>\n",
       "      <td>1.0</td>\n",
       "      <td>1.0</td>\n",
       "      <td>ISIC_0067079.jpg</td>\n",
       "    </tr>\n",
       "  </tbody>\n",
       "</table>\n",
       "</div>"
      ],
      "text/plain": [
       "        isic_id  age_approx  clin_size_long_diam_mm  sex  diagnosis_1  \\\n",
       "0  ISIC_5096775        45.0                3.000000  1.0          0.0   \n",
       "1  ISIC_0066001        60.0                3.988203  0.0          1.0   \n",
       "2  ISIC_2766590        80.0                3.988203  0.0          1.0   \n",
       "3  ISIC_5166694        65.0                3.010000  0.0          0.0   \n",
       "4  ISIC_0067079        55.0                3.988203  1.0          1.0   \n",
       "\n",
       "           filename  \n",
       "0  ISIC_5096775.jpg  \n",
       "1  ISIC_0066001.jpg  \n",
       "2  ISIC_2766590.jpg  \n",
       "3  ISIC_5166694.jpg  \n",
       "4  ISIC_0067079.jpg  "
      ]
     },
     "execution_count": 4,
     "metadata": {},
     "output_type": "execute_result"
    }
   ],
   "source": [
    "metadata.head()"
   ]
  },
  {
   "cell_type": "markdown",
   "id": "55c6bc22",
   "metadata": {},
   "source": [
    "## Filter Valid Image Paths\n",
    "\n",
    "We filter the metadata to keep only those entries that have valid corresponding image files, as listed in `good_image_paths.txt`."
   ]
  },
  {
   "cell_type": "code",
   "execution_count": 5,
   "id": "fe5fde46-1bed-4464-b9db-2803417460e6",
   "metadata": {},
   "outputs": [
    {
     "data": {
      "text/plain": [
       "'\\ngood_image_paths = []\\n\\nfor path in valid_image_paths:\\n    try:\\n        img_raw = tf.io.read_file(path)\\n        img = tf.image.decode_jpeg(img_raw, channels=3)\\n        good_image_paths.append(path)\\n    except:\\n        print(f\"Skipping invalid image: {path}\")\\n\\nwith open(\\'good_image_paths.txt\\', \\'w\\') as f:\\n    for path in good_image_paths:\\n        f.write(f\"{path}\\n\")\\n'"
      ]
     },
     "execution_count": 5,
     "metadata": {},
     "output_type": "execute_result"
    }
   ],
   "source": [
    "'''\n",
    "good_image_paths = []\n",
    "\n",
    "for path in valid_image_paths:\n",
    "    try:\n",
    "        img_raw = tf.io.read_file(path)\n",
    "        img = tf.image.decode_jpeg(img_raw, channels=3)\n",
    "        good_image_paths.append(path)\n",
    "    except:\n",
    "        print(f\"Skipping invalid image: {path}\")\n",
    "\n",
    "with open('good_image_paths.txt', 'w') as f:\n",
    "    for path in good_image_paths:\n",
    "        f.write(f\"{path}\\n\")\n",
    "'''"
   ]
  },
  {
   "cell_type": "code",
   "execution_count": 6,
   "id": "d86fc996-e286-4a93-bccf-99bb7029d6af",
   "metadata": {},
   "outputs": [],
   "source": [
    "with open('good_image_paths.txt', 'r') as f:\n",
    "    image_paths = [line.strip() for line in f]\n",
    "\n",
    "filenames = [os.path.basename(p) for p in image_paths]\n",
    "metadata = metadata[metadata['filename'].isin(filenames)].reset_index(drop=True)\n"
   ]
  },
  {
   "cell_type": "markdown",
   "id": "810b43a8",
   "metadata": {},
   "source": [
    "## Create Lookup Dictionaries for Metadata\n",
    "\n",
    "We create dictionaries that map filenames to metadata features (sex, age, size) and class labels for training."
   ]
  },
  {
   "cell_type": "code",
   "execution_count": 7,
   "id": "4bb39d3f-279f-4bf8-a103-9ce349aa56ff",
   "metadata": {},
   "outputs": [],
   "source": [
    "# Create lookup dictionaries\n",
    "label_lookup = dict(zip(metadata['filename'], metadata['diagnosis_1']))\n",
    "sex_lookup = dict(zip(metadata['filename'], metadata['sex']))\n",
    "age_lookup = dict(zip(metadata['filename'], metadata['age_approx']))\n",
    "size_lookup = dict(zip(metadata['filename'], metadata['clin_size_long_diam_mm']))\n",
    "\n",
    "# Lists for matched data\n",
    "valid_image_paths = []\n",
    "labels = []\n",
    "sex_features = []\n",
    "age_features = []\n",
    "size_features = []\n",
    "\n",
    "for path, fname in zip(image_paths, filenames):\n",
    "    if fname in label_lookup:\n",
    "        valid_image_paths.append(path)\n",
    "        labels.append(label_lookup[fname])\n",
    "        sex_features.append(sex_lookup[fname])\n",
    "        age_features.append(age_lookup[fname])\n",
    "        size_features.append(size_lookup[fname])\n",
    "\n"
   ]
  },
  {
   "cell_type": "markdown",
   "id": "cd38a4ae",
   "metadata": {},
   "source": [
    "## Train/Validation/Test Split\n",
    "\n",
    "We split the dataset into training+validation (90%) and test (10%) sets. This ensures we have a hold-out set for final evaluation."
   ]
  },
  {
   "cell_type": "code",
   "execution_count": 8,
   "id": "4f25d0af-dd6e-4cb1-8247-f72f9d3d5ce0",
   "metadata": {},
   "outputs": [],
   "source": [
    "trainval_paths, test_paths, trainval_labels, test_labels, \\\n",
    "trainval_sex, test_sex, trainval_age, test_age, trainval_size, test_size = sklearn.model_selection.train_test_split(\n",
    "    valid_image_paths, labels, sex_features, age_features, size_features,\n",
    "    test_size=0.1, random_state=42, shuffle=True\n",
    ")\n"
   ]
  },
  {
   "cell_type": "code",
   "execution_count": 9,
   "id": "fd7ec6bf-dd2f-4ab3-ae49-683d61057621",
   "metadata": {},
   "outputs": [
    {
     "data": {
      "text/plain": [
       "32815"
      ]
     },
     "execution_count": 9,
     "metadata": {},
     "output_type": "execute_result"
    }
   ],
   "source": [
    "len(trainval_paths)"
   ]
  },
  {
   "cell_type": "code",
   "execution_count": 10,
   "id": "ee3a11e9-809f-441e-9d06-4417cb9a2962",
   "metadata": {},
   "outputs": [
    {
     "data": {
      "text/plain": [
       "\"\\nimport os\\nimport shutil\\n\\nos.makedirs('./images_trainval2', exist_ok=True)\\n\\nfor path in trainval_paths:\\n    filename = os.path.basename(path)\\n    shutil.copy(path, f'./images_trainval2/{filename}')\\n\\nos.makedirs('./images_test2', exist_ok=True)\\n\\nfor path in test_paths:\\n    filename = os.path.basename(path)\\n    shutil.copy(path, f'./images_test2/{filename}')\\n\""
      ]
     },
     "execution_count": 10,
     "metadata": {},
     "output_type": "execute_result"
    }
   ],
   "source": [
    "'''\n",
    "import os\n",
    "import shutil\n",
    "\n",
    "os.makedirs('./images_trainval2', exist_ok=True)\n",
    "\n",
    "for path in trainval_paths:\n",
    "    filename = os.path.basename(path)\n",
    "    shutil.copy(path, f'./images_trainval2/{filename}')\n",
    "\n",
    "os.makedirs('./images_test2', exist_ok=True)\n",
    "\n",
    "for path in test_paths:\n",
    "    filename = os.path.basename(path)\n",
    "    shutil.copy(path, f'./images_test2/{filename}')\n",
    "'''"
   ]
  },
  {
   "cell_type": "markdown",
   "id": "f9b149ed",
   "metadata": {},
   "source": [
    "## Image Dataset Creation\n",
    "\n",
    "We use TensorFlow's `image_dataset_from_directory` to load image files into batched datasets. The validation split is handled automatically."
   ]
  },
  {
   "cell_type": "code",
   "execution_count": 11,
   "id": "98116eca-8904-4444-9aef-0db7b4de2218",
   "metadata": {},
   "outputs": [
    {
     "name": "stdout",
     "output_type": "stream",
     "text": [
      "Found 32815 files belonging to 2 classes.\n",
      "Using 26252 files for training.\n",
      "Found 32815 files belonging to 2 classes.\n",
      "Using 6563 files for validation.\n"
     ]
    }
   ],
   "source": [
    "trainval_path_to_label = {os.path.basename(p): l for p, l in zip(trainval_paths, trainval_labels)}\n",
    "trainval_filenames = [os.path.basename(p) for p in trainval_paths]\n",
    "trainval_labels_sorted = [trainval_path_to_label[fname] for fname in trainval_filenames]\n",
    "\n",
    "batch_size=32\n",
    "\n",
    "train_image_ds = tf.keras.utils.image_dataset_from_directory(\n",
    "    directory='./images_trainval2',\n",
    "    labels=trainval_labels_sorted,\n",
    "    label_mode='int',\n",
    "    color_mode='rgb',\n",
    "    batch_size=None,\n",
    "    image_size=(128, 128),\n",
    "    shuffle=True,\n",
    "    seed=123,\n",
    "    validation_split=0.2, \n",
    "    subset=\"training\",\n",
    ")\n",
    "\n",
    "val_image_ds = tf.keras.utils.image_dataset_from_directory(\n",
    "    directory='./images_trainval2',\n",
    "    labels=trainval_labels_sorted,\n",
    "    label_mode='int',\n",
    "    color_mode='rgb',\n",
    "    batch_size=None,\n",
    "    image_size=(128, 128),\n",
    "    shuffle=True,\n",
    "    seed=123,\n",
    "    validation_split=0.2,\n",
    "    subset=\"validation\",\n",
    ")\n"
   ]
  },
  {
   "cell_type": "code",
   "execution_count": 12,
   "id": "bc8b685d-1679-4dd3-a3d1-3ae8e65e4f8e",
   "metadata": {},
   "outputs": [
    {
     "name": "stdout",
     "output_type": "stream",
     "text": [
      "Found 3647 files belonging to 2 classes.\n"
     ]
    }
   ],
   "source": [
    "# Test filenames and labels\n",
    "test_path_to_label = {os.path.basename(p): l for p, l in zip(test_paths, test_labels)}\n",
    "test_filenames = [os.path.basename(p) for p in test_paths]\n",
    "test_labels_sorted = [test_path_to_label[fname] for fname in test_filenames]\n",
    "\n",
    "test_image_ds = tf.keras.utils.image_dataset_from_directory(\n",
    "    directory='./images_test2',\n",
    "    labels=test_labels_sorted,\n",
    "    label_mode='int',\n",
    "    color_mode='rgb',\n",
    "    batch_size=None,\n",
    "    image_size=(128, 128),\n",
    "    shuffle=False\n",
    ")\n",
    "train_image_ds = train_image_ds.batch(batch_size, drop_remainder=True)\n",
    "val_image_ds = val_image_ds.batch(batch_size, drop_remainder=True)\n",
    "test_image_ds = test_image_ds.batch(batch_size, drop_remainder=True)"
   ]
  },
  {
   "cell_type": "markdown",
   "id": "d232e3ea",
   "metadata": {},
   "source": [
    "## Metadata TensorFlow Datasets\n",
    "\n",
    "Metadata values (sex, age, size) are wrapped in TensorFlow datasets, aligned with the image batches for training, validation, and testing."
   ]
  },
  {
   "cell_type": "code",
   "execution_count": 13,
   "id": "68521d8d-dbbf-4844-8f10-2b2cb4651465",
   "metadata": {},
   "outputs": [],
   "source": [
    "num_train_images = 26252\n",
    "num_test_images = 3647\n",
    "\n",
    "batch_size = 32\n",
    "\n",
    "# Metadata correct slicing\n",
    "train_metadata_ds = tf.data.Dataset.from_tensor_slices(\n",
    "    tf.stack([\n",
    "        trainval_sex[:num_train_images],\n",
    "        trainval_age[:num_train_images],\n",
    "        trainval_size[:num_train_images]\n",
    "    ], axis=1)\n",
    ").batch(batch_size, drop_remainder=True)\n",
    "\n",
    "val_metadata_ds = tf.data.Dataset.from_tensor_slices(\n",
    "    tf.stack([\n",
    "        trainval_sex[num_train_images:],\n",
    "        trainval_age[num_train_images:],\n",
    "        trainval_size[num_train_images:]\n",
    "    ], axis=1)\n",
    ").batch(batch_size, drop_remainder=True)\n",
    "\n",
    "test_metadata_ds = tf.data.Dataset.from_tensor_slices(\n",
    "    tf.stack([\n",
    "        test_sex[:num_test_images],\n",
    "        test_age[:num_test_images],\n",
    "        test_size[:num_test_images]\n",
    "    ], axis=1)\n",
    ").batch(batch_size, drop_remainder=True)"
   ]
  },
  {
   "cell_type": "markdown",
   "id": "470e2141",
   "metadata": {},
   "source": [
    "## Combine Image and Metadata Inputs\n",
    "\n",
    "We zip image and metadata datasets into a format that our multi-input model can consume: `((image, metadata), label)`. Prefetching and repeating improve efficiency."
   ]
  },
  {
   "cell_type": "code",
   "execution_count": null,
   "id": "c41dc37b",
   "metadata": {},
   "outputs": [],
   "source": [
    "# Now zip properly\n",
    "final_train_ds = tf.data.Dataset.zip((train_image_ds, train_metadata_ds))\n",
    "final_train_ds = final_train_ds.map(lambda inputs, meta: ((inputs[0], meta), inputs[1])).prefetch(tf.data.AUTOTUNE).repeat()\n",
    "\n",
    "final_val_ds = tf.data.Dataset.zip((val_image_ds, val_metadata_ds))\n",
    "final_val_ds = final_val_ds.map(lambda inputs, meta: ((inputs[0], meta), inputs[1])).prefetch(tf.data.AUTOTUNE).repeat()\n",
    "\n",
    "final_test_ds = tf.data.Dataset.zip((test_image_ds, test_metadata_ds))\n",
    "final_test_ds = final_test_ds.map(lambda inputs, meta: ((inputs[0], meta), inputs[1])).prefetch(tf.data.AUTOTUNE).repeat()\n"
   ]
  },
  {
   "cell_type": "markdown",
   "id": "870b38d0",
   "metadata": {},
   "source": [
    "## Multi-Input Neural Network Model\n",
    "\n",
    "We define a dual-branch model:\n",
    "- A **CNN** branch processes image data.\n",
    "- An **MLP** branch processes metadata.\n",
    "The outputs are concatenated and passed through a final classifier to predict lesion malignancy."
   ]
  },
  {
   "cell_type": "code",
   "execution_count": 14,
   "id": "15d6fe46-40ab-464c-9090-b75e238f2dc1",
   "metadata": {},
   "outputs": [],
   "source": [
    "from tensorflow import keras\n",
    "from tensorflow.keras import layers\n",
    "\n",
    "def build_multi_input_cnn_mlp(img_shape=(128, 128, 3)):\n",
    "    # CNN branch (for images)\n",
    "    image_model = keras.Sequential([\n",
    "        layers.Input(shape=img_shape),\n",
    "        layers.Conv2D(32, (3,3), activation='relu'),\n",
    "        layers.MaxPooling2D(),\n",
    "        layers.Conv2D(64, (3,3), activation='relu'),\n",
    "        layers.MaxPooling2D(),\n",
    "        layers.Flatten(),\n",
    "        layers.Dense(128, activation='relu')\n",
    "    ])\n",
    "    \n",
    "    # MLP branch (for metadata)\n",
    "    metadata_model = keras.Sequential([\n",
    "        layers.Input(shape=(3,)),  # (sex, age, size)\n",
    "        layers.Dense(32, activation='relu'),\n",
    "        layers.Dense(16, activation='relu')\n",
    "    ])\n",
    "    \n",
    "    # Define Inputs\n",
    "    image_input = keras.Input(shape=img_shape, name='image_input')\n",
    "    metadata_input = keras.Input(shape=(3,), name='metadata_input')\n",
    "    \n",
    "    # Pass inputs through branches\n",
    "    image_features = image_model(image_input)\n",
    "    metadata_features = metadata_model(metadata_input)\n",
    "    \n",
    "    # Concatenate\n",
    "    combined = layers.concatenate([image_features, metadata_features])\n",
    "    \n",
    "    # Final classification layers\n",
    "    x = layers.Dense(64, activation='relu')(combined)\n",
    "    output = layers.Dense(1, activation='sigmoid')(x)\n",
    "    \n",
    "    model = keras.Model(inputs=[image_input, metadata_input], outputs=output)\n",
    "    return model\n",
    "\n"
   ]
  },
  {
   "cell_type": "markdown",
   "id": "6594f060",
   "metadata": {},
   "source": [
    "## Compile and Train the Model\n",
    "\n",
    "We compile the model with the Adam optimizer and binary cross-entropy loss. Early stopping and model checkpointing are used to prevent overfitting."
   ]
  },
  {
   "cell_type": "code",
   "execution_count": 15,
   "id": "1b49796e-9032-4bda-8c29-415a94916483",
   "metadata": {},
   "outputs": [],
   "source": [
    "early_stopping = keras.callbacks.EarlyStopping(\n",
    "    monitor='val_loss',    # watch validation loss\n",
    "    patience=3,            # stop if no improvement for 3 epochs\n",
    "    restore_best_weights=True\n",
    ")\n"
   ]
  },
  {
   "cell_type": "code",
   "execution_count": 16,
   "id": "05a73db0-ea04-4584-ba1e-115c0a829c6c",
   "metadata": {},
   "outputs": [],
   "source": [
    "checkpoint_multi = keras.callbacks.ModelCheckpoint(\n",
    "    filepath='best_multi_input_model.h5',\n",
    "    monitor='val_loss',\n",
    "    save_best_only=True\n",
    ")\n"
   ]
  },
  {
   "cell_type": "code",
   "execution_count": 17,
   "id": "4e9e319e-5cd1-44c0-b219-03ca48c1e76a",
   "metadata": {},
   "outputs": [
    {
     "name": "stdout",
     "output_type": "stream",
     "text": [
      "Epoch 1/5\n",
      "\u001b[1m820/820\u001b[0m \u001b[32m━━━━━━━━━━━━━━━━━━━━\u001b[0m\u001b[37m\u001b[0m \u001b[1m0s\u001b[0m 108ms/step - accuracy: 0.4921 - loss: 17.4413"
     ]
    },
    {
     "name": "stderr",
     "output_type": "stream",
     "text": [
      "WARNING:absl:You are saving your model as an HDF5 file via `model.save()` or `keras.saving.save_model(model)`. This file format is considered legacy. We recommend using instead the native Keras format, e.g. `model.save('my_model.keras')` or `keras.saving.save_model(model, 'my_model.keras')`. \n"
     ]
    },
    {
     "name": "stdout",
     "output_type": "stream",
     "text": [
      "\u001b[1m820/820\u001b[0m \u001b[32m━━━━━━━━━━━━━━━━━━━━\u001b[0m\u001b[37m\u001b[0m \u001b[1m110s\u001b[0m 133ms/step - accuracy: 0.4921 - loss: 17.4244 - val_accuracy: 0.4951 - val_loss: 0.6961\n",
      "Epoch 2/5\n",
      "\u001b[1m820/820\u001b[0m \u001b[32m━━━━━━━━━━━━━━━━━━━━\u001b[0m\u001b[37m\u001b[0m \u001b[1m108s\u001b[0m 131ms/step - accuracy: 0.5062 - loss: 0.6940 - val_accuracy: 0.4998 - val_loss: 0.7079\n",
      "Epoch 3/5\n",
      "\u001b[1m820/820\u001b[0m \u001b[32m━━━━━━━━━━━━━━━━━━━━\u001b[0m\u001b[37m\u001b[0m \u001b[1m0s\u001b[0m 105ms/step - accuracy: 0.5092 - loss: 0.6940"
     ]
    },
    {
     "name": "stderr",
     "output_type": "stream",
     "text": [
      "WARNING:absl:You are saving your model as an HDF5 file via `model.save()` or `keras.saving.save_model(model)`. This file format is considered legacy. We recommend using instead the native Keras format, e.g. `model.save('my_model.keras')` or `keras.saving.save_model(model, 'my_model.keras')`. \n"
     ]
    },
    {
     "name": "stdout",
     "output_type": "stream",
     "text": [
      "\u001b[1m820/820\u001b[0m \u001b[32m━━━━━━━━━━━━━━━━━━━━\u001b[0m\u001b[37m\u001b[0m \u001b[1m107s\u001b[0m 131ms/step - accuracy: 0.5092 - loss: 0.6940 - val_accuracy: 0.4957 - val_loss: 0.6932\n",
      "Epoch 4/5\n",
      "\u001b[1m820/820\u001b[0m \u001b[32m━━━━━━━━━━━━━━━━━━━━\u001b[0m\u001b[37m\u001b[0m \u001b[1m112s\u001b[0m 136ms/step - accuracy: 0.5087 - loss: 0.6914 - val_accuracy: 0.5018 - val_loss: 0.6952\n",
      "Epoch 5/5\n",
      "\u001b[1m820/820\u001b[0m \u001b[32m━━━━━━━━━━━━━━━━━━━━\u001b[0m\u001b[37m\u001b[0m \u001b[1m108s\u001b[0m 132ms/step - accuracy: 0.5175 - loss: 0.6877 - val_accuracy: 0.4942 - val_loss: 0.7071\n"
     ]
    },
    {
     "name": "stderr",
     "output_type": "stream",
     "text": [
      "WARNING:absl:You are saving your model as an HDF5 file via `model.save()` or `keras.saving.save_model(model)`. This file format is considered legacy. We recommend using instead the native Keras format, e.g. `model.save('my_model.keras')` or `keras.saving.save_model(model, 'my_model.keras')`. \n"
     ]
    }
   ],
   "source": [
    "model_multi = build_multi_input_cnn_mlp()\n",
    "steps_per_epoch = 26252 // batch_size\n",
    "validation_steps = 6563 // batch_size\n",
    "# Compile\n",
    "model_multi.compile(\n",
    "    optimizer='adam',\n",
    "    loss='binary_crossentropy',\n",
    "    metrics=['accuracy']\n",
    ")\n",
    "\n",
    "# Train\n",
    "model_multi.fit(\n",
    "    final_train_ds,\n",
    "    validation_data=final_val_ds,\n",
    "    steps_per_epoch=steps_per_epoch,\n",
    "    validation_steps=validation_steps,\n",
    "    epochs=5,\n",
    "    callbacks=[early_stopping, checkpoint_multi]\n",
    ")\n",
    "\n",
    "\n",
    "# Save final model\n",
    "model_multi.save('final_multi_input_model.h5')"
   ]
  },
  {
   "cell_type": "markdown",
   "id": "346d9ae0",
   "metadata": {},
   "source": [
    "## Evaluate Model on Test Set\n",
    "\n",
    "We evaluate the final model on the held-out test set and report accuracy and loss."
   ]
  },
  {
   "cell_type": "code",
   "execution_count": 18,
   "id": "a916b291-72c1-4ef8-9654-48ca3514ea8b",
   "metadata": {},
   "outputs": [
    {
     "name": "stdout",
     "output_type": "stream",
     "text": [
      "\u001b[1m113/113\u001b[0m \u001b[32m━━━━━━━━━━━━━━━━━━━━\u001b[0m\u001b[37m\u001b[0m \u001b[1m8s\u001b[0m 74ms/step - accuracy: 0.5041 - loss: 0.6964\n",
      "Test Loss: 0.6952\n",
      "Test Accuracy: 0.4942\n"
     ]
    }
   ],
   "source": [
    "# evaluate on test set\n",
    "batch_size = 32\n",
    "num_test_images = 3647\n",
    "\n",
    "test_steps = num_test_images // batch_size \n",
    "\n",
    "test_loss, test_accuracy = model_multi.evaluate(\n",
    "    final_test_ds,\n",
    "    steps=test_steps,\n",
    "    verbose=1\n",
    ")\n",
    "\n",
    "print(f\"Test Loss: {test_loss:.4f}\")\n",
    "print(f\"Test Accuracy: {test_accuracy:.4f}\")"
   ]
  },
  {
   "cell_type": "markdown",
   "id": "d8e55a4a",
   "metadata": {},
   "source": [
    "## Detailed Evaluation Metrics\n",
    "\n",
    "We compute evaluation metrics beyond accuracy:\n",
    "- Confusion matrix\n",
    "- Precision, recall, F1 score\n",
    "- ROC curve and AUC\n",
    "\n",
    "This helps assess how well the model distinguishes between benign and malignant cases."
   ]
  },
  {
   "cell_type": "code",
   "execution_count": 19,
   "id": "0d3ec5eb-e113-4a76-a18b-48e47e8cf36f",
   "metadata": {},
   "outputs": [
    {
     "name": "stdout",
     "output_type": "stream",
     "text": [
      "\u001b[1m113/113\u001b[0m \u001b[32m━━━━━━━━━━━━━━━━━━━━\u001b[0m\u001b[37m\u001b[0m \u001b[1m9s\u001b[0m 75ms/step\n"
     ]
    },
    {
     "name": "stderr",
     "output_type": "stream",
     "text": [
      "2025-04-26 16:40:20.933867: I tensorflow/core/framework/local_rendezvous.cc:407] Local rendezvous is aborting with status: OUT_OF_RANGE: End of sequence\n"
     ]
    },
    {
     "data": {
      "image/png": "[encoded data removed]",
      "text/plain": [
       "<Figure size 640x480 with 2 Axes>"
      ]
     },
     "metadata": {},
     "output_type": "display_data"
    },
    {
     "name": "stdout",
     "output_type": "stream",
     "text": [
      "Precision: 0.4719\n",
      "Recall: 0.0600\n",
      "F1 Score: 0.1065\n"
     ]
    },
    {
     "data": {
      "image/png": "[encoded data removed]",
      "text/plain": [
       "<Figure size 640x480 with 1 Axes>"
      ]
     },
     "metadata": {},
     "output_type": "display_data"
    },
    {
     "name": "stdout",
     "output_type": "stream",
     "text": [
      "AUC: 0.4946\n"
     ]
    }
   ],
   "source": [
    "import numpy as np\n",
    "import matplotlib.pyplot as plt\n",
    "from sklearn.metrics import confusion_matrix, ConfusionMatrixDisplay, precision_score, recall_score, f1_score, roc_curve, auc\n",
    "\n",
    "def evaluate_model_on_test(model, test_ds, test_steps, threshold=0.5):\n",
    "    # Predict\n",
    "    y_pred_probs = model.predict(test_ds, steps=test_steps)\n",
    "    y_pred = (y_pred_probs > threshold).astype(int)\n",
    "    \n",
    "    # Get true labels\n",
    "    y_true = []\n",
    "    for (img, meta), label in test_ds.take(test_steps):\n",
    "        y_true.append(label.numpy())\n",
    "    y_true = np.concatenate(y_true, axis=0)\n",
    "\n",
    "    # Confusion Matrix\n",
    "    cm = confusion_matrix(y_true, y_pred)\n",
    "    disp = ConfusionMatrixDisplay(confusion_matrix=cm)\n",
    "    disp.plot(cmap='Blues')\n",
    "    plt.title('Confusion Matrix')\n",
    "    plt.show()\n",
    "    \n",
    "    # Precision, Recall, F1\n",
    "    precision = precision_score(y_true, y_pred)\n",
    "    recall = recall_score(y_true, y_pred)\n",
    "    f1 = f1_score(y_true, y_pred)\n",
    "    print(f\"Precision: {precision:.4f}\")\n",
    "    print(f\"Recall: {recall:.4f}\")\n",
    "    print(f\"F1 Score: {f1:.4f}\")\n",
    "\n",
    "    # ROC Curve and AUC\n",
    "    fpr, tpr, thresholds = roc_curve(y_true, y_pred_probs)\n",
    "    roc_auc = auc(fpr, tpr)\n",
    "    \n",
    "    plt.figure()\n",
    "    plt.plot(fpr, tpr, label=f'ROC curve (AUC = {roc_auc:.4f})')\n",
    "    plt.plot([0, 1], [0, 1], 'k--')  # random classifier line\n",
    "    plt.xlim([0.0, 1.0])\n",
    "    plt.ylim([0.0, 1.05])\n",
    "    plt.xlabel('False Positive Rate')\n",
    "    plt.ylabel('True Positive Rate')\n",
    "    plt.title('Receiver Operating Characteristic (ROC)')\n",
    "    plt.legend(loc=\"lower right\")\n",
    "    plt.show()\n",
    "    \n",
    "    print(f\"AUC: {roc_auc:.4f}\")\n",
    "batch_size = 32\n",
    "num_test_images = 3647\n",
    "\n",
    "test_steps = num_test_images // batch_size  # 113\n",
    "\n",
    "evaluate_model_on_test(model_multi, final_test_ds, test_steps)\n"
   ]
  },
  {
   "cell_type": "code",
   "execution_count": null,
   "id": "346a659e-1892-4e81-b718-45fb97321ee2",
   "metadata": {},
   "outputs": [],
   "source": [
    "# this model has no predictive power"
   ]
  }
 ],
 "metadata": {
  "kernelspec": {
   "display_name": "Python 3 (ipykernel)",
   "language": "python",
   "name": "python3"
  },
  "language_info": {
   "codemirror_mode": {
    "name": "ipython",
    "version": 3
   },
   "file_extension": ".py",
   "mimetype": "text/x-python",
   "name": "python",
   "nbconvert_exporter": "python",
   "pygments_lexer": "ipython3",
   "version": "3.11.5"
  }
 },
 "nbformat": 4,
 "nbformat_minor": 5
}
