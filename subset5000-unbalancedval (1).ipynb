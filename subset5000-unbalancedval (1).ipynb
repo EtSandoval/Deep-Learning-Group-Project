{
 "cells": [
  {
   "cell_type": "code",
   "execution_count": 1,
   "id": "134513bb-6ec1-4e19-892b-0b45b766b299",
   "metadata": {},
   "outputs": [],
   "source": [
    "import tensorflow as tf\n",
    "from tensorflow import keras\n",
    "from tensorflow.keras import layers\n",
    "import pandas as pd\n",
    "import numpy as np\n",
    "import glob\n",
    "import os\n",
    "import sklearn.model_selection\n"
   ]
  },
  {
   "cell_type": "code",
   "execution_count": 2,
   "id": "47321e5e-7369-4734-bad7-ef1044205635",
   "metadata": {},
   "outputs": [
    {
     "name": "stderr",
     "output_type": "stream",
     "text": [
      "/var/folders/0b/33n254b510726mq07nrfcfbw0000gn/T/ipykernel_61329/695260491.py:1: DtypeWarning: Columns (6,9,10,11,13,14,15,16,17,18,19,22,23,25,26,27,28,30,35) have mixed types. Specify dtype option on import or set low_memory=False.\n",
      "  metadata = pd.read_csv('metadata.csv')\n"
     ]
    }
   ],
   "source": [
    "\n",
    "metadata = pd.read_csv('metadata.csv')\n",
    "metadata = metadata[['isic_id','age_approx','clin_size_long_diam_mm','sex','diagnosis_1']]\n",
    "# encode columns\n",
    "metadata['sex'] = metadata['sex'].map({'male': 0, 'female': 1})\n",
    "metadata['diagnosis_1'] = metadata['diagnosis_1'].map({'Benign': 0, 'Malignant': 1})\n",
    "\n",
    "# missing values\n",
    "metadata['age_approx'] = metadata['age_approx'].fillna(metadata['age_approx'].mean())\n",
    "metadata['clin_size_long_diam_mm'] = metadata['clin_size_long_diam_mm'].fillna(metadata['clin_size_long_diam_mm'].mean())\n",
    "metadata = metadata.dropna()\n",
    "\n",
    "# Create filename field\n",
    "metadata['filename'] = metadata['isic_id'].astype(str) + '.jpg'\n"
   ]
  },
  {
   "cell_type": "code",
   "execution_count": 3,
   "id": "e2a21c24-8fca-4f42-afaf-f9bb3e73f84f",
   "metadata": {},
   "outputs": [
    {
     "data": {
      "text/html": [
       "<div>\n",
       "<style scoped>\n",
       "    .dataframe tbody tr th:only-of-type {\n",
       "        vertical-align: middle;\n",
       "    }\n",
       "\n",
       "    .dataframe tbody tr th {\n",
       "        vertical-align: top;\n",
       "    }\n",
       "\n",
       "    .dataframe thead th {\n",
       "        text-align: right;\n",
       "    }\n",
       "</style>\n",
       "<table border=\"1\" class=\"dataframe\">\n",
       "  <thead>\n",
       "    <tr style=\"text-align: right;\">\n",
       "      <th></th>\n",
       "      <th>isic_id</th>\n",
       "      <th>age_approx</th>\n",
       "      <th>clin_size_long_diam_mm</th>\n",
       "      <th>sex</th>\n",
       "      <th>diagnosis_1</th>\n",
       "      <th>filename</th>\n",
       "    </tr>\n",
       "  </thead>\n",
       "  <tbody>\n",
       "    <tr>\n",
       "      <th>0</th>\n",
       "      <td>ISIC_9536278</td>\n",
       "      <td>45.0</td>\n",
       "      <td>3.988203</td>\n",
       "      <td>1.0</td>\n",
       "      <td>1.0</td>\n",
       "      <td>ISIC_9536278.jpg</td>\n",
       "    </tr>\n",
       "    <tr>\n",
       "      <th>1</th>\n",
       "      <td>ISIC_7650956</td>\n",
       "      <td>65.0</td>\n",
       "      <td>3.988203</td>\n",
       "      <td>1.0</td>\n",
       "      <td>1.0</td>\n",
       "      <td>ISIC_7650956.jpg</td>\n",
       "    </tr>\n",
       "    <tr>\n",
       "      <th>2</th>\n",
       "      <td>ISIC_5730927</td>\n",
       "      <td>85.0</td>\n",
       "      <td>3.988203</td>\n",
       "      <td>0.0</td>\n",
       "      <td>1.0</td>\n",
       "      <td>ISIC_5730927.jpg</td>\n",
       "    </tr>\n",
       "    <tr>\n",
       "      <th>3</th>\n",
       "      <td>ISIC_4305055</td>\n",
       "      <td>85.0</td>\n",
       "      <td>3.988203</td>\n",
       "      <td>1.0</td>\n",
       "      <td>1.0</td>\n",
       "      <td>ISIC_4305055.jpg</td>\n",
       "    </tr>\n",
       "    <tr>\n",
       "      <th>4</th>\n",
       "      <td>ISIC_5681611</td>\n",
       "      <td>85.0</td>\n",
       "      <td>3.988203</td>\n",
       "      <td>1.0</td>\n",
       "      <td>1.0</td>\n",
       "      <td>ISIC_5681611.jpg</td>\n",
       "    </tr>\n",
       "  </tbody>\n",
       "</table>\n",
       "</div>"
      ],
      "text/plain": [
       "        isic_id  age_approx  clin_size_long_diam_mm  sex  diagnosis_1  \\\n",
       "0  ISIC_9536278        45.0                3.988203  1.0          1.0   \n",
       "1  ISIC_7650956        65.0                3.988203  1.0          1.0   \n",
       "2  ISIC_5730927        85.0                3.988203  0.0          1.0   \n",
       "3  ISIC_4305055        85.0                3.988203  1.0          1.0   \n",
       "4  ISIC_5681611        85.0                3.988203  1.0          1.0   \n",
       "\n",
       "           filename  \n",
       "0  ISIC_9536278.jpg  \n",
       "1  ISIC_7650956.jpg  \n",
       "2  ISIC_5730927.jpg  \n",
       "3  ISIC_4305055.jpg  \n",
       "4  ISIC_5681611.jpg  "
      ]
     },
     "execution_count": 3,
     "metadata": {},
     "output_type": "execute_result"
    }
   ],
   "source": [
    "metadata.head()"
   ]
  },
  {
   "cell_type": "code",
   "execution_count": 4,
   "id": "fe5fde46-1bed-4464-b9db-2803417460e6",
   "metadata": {},
   "outputs": [
    {
     "data": {
      "text/plain": [
       "'\\ngood_image_paths = []\\n\\nfor path in valid_image_paths:\\n    try:\\n        img_raw = tf.io.read_file(path)\\n        img = tf.image.decode_jpeg(img_raw, channels=3)\\n        good_image_paths.append(path)\\n    except:\\n        print(f\"Skipping invalid image: {path}\")\\n\\nwith open(\\'good_image_paths.txt\\', \\'w\\') as f:\\n    for path in good_image_paths:\\n        f.write(f\"{path}\\n\")\\n'"
      ]
     },
     "execution_count": 4,
     "metadata": {},
     "output_type": "execute_result"
    }
   ],
   "source": [
    "'''\n",
    "good_image_paths = []\n",
    "\n",
    "for path in valid_image_paths:\n",
    "    try:\n",
    "        img_raw = tf.io.read_file(path)\n",
    "        img = tf.image.decode_jpeg(img_raw, channels=3)\n",
    "        good_image_paths.append(path)\n",
    "    except:\n",
    "        print(f\"Skipping invalid image: {path}\")\n",
    "\n",
    "with open('good_image_paths.txt', 'w') as f:\n",
    "    for path in good_image_paths:\n",
    "        f.write(f\"{path}\\n\")\n",
    "'''"
   ]
  },
  {
   "cell_type": "code",
   "execution_count": 5,
   "id": "d86fc996-e286-4a93-bccf-99bb7029d6af",
   "metadata": {},
   "outputs": [],
   "source": [
    "with open('good_image_paths.txt', 'r') as f:\n",
    "    image_paths = [line.strip() for line in f]\n",
    "\n",
    "filenames = [os.path.basename(p) for p in image_paths]\n",
    "metadata = metadata[metadata['filename'].isin(filenames)].reset_index(drop=True)\n"
   ]
  },
  {
   "cell_type": "code",
   "execution_count": 6,
   "id": "4bb39d3f-279f-4bf8-a103-9ce349aa56ff",
   "metadata": {},
   "outputs": [],
   "source": [
    "# Create lookup dictionaries\n",
    "label_lookup = dict(zip(metadata['filename'], metadata['diagnosis_1']))\n",
    "sex_lookup = dict(zip(metadata['filename'], metadata['sex']))\n",
    "age_lookup = dict(zip(metadata['filename'], metadata['age_approx']))\n",
    "size_lookup = dict(zip(metadata['filename'], metadata['clin_size_long_diam_mm']))\n",
    "\n",
    "# Lists for matched data\n",
    "valid_image_paths = []\n",
    "labels = []\n",
    "sex_features = []\n",
    "age_features = []\n",
    "size_features = []\n",
    "\n",
    "for path, fname in zip(image_paths, filenames):\n",
    "    if fname in label_lookup:\n",
    "        valid_image_paths.append(path)\n",
    "        labels.append(label_lookup[fname])\n",
    "        sex_features.append(sex_lookup[fname])\n",
    "        age_features.append(age_lookup[fname])\n",
    "        size_features.append(size_lookup[fname])\n",
    "\n"
   ]
  },
  {
   "cell_type": "code",
   "execution_count": 7,
   "id": "4f25d0af-dd6e-4cb1-8247-f72f9d3d5ce0",
   "metadata": {},
   "outputs": [],
   "source": [
    "trainval_paths, test_paths, trainval_labels, test_labels, \\\n",
    "trainval_sex, test_sex, trainval_age, test_age, trainval_size, test_size = sklearn.model_selection.train_test_split(\n",
    "    valid_image_paths, labels, sex_features, age_features, size_features,\n",
    "    test_size=0.1, random_state=42, shuffle=True\n",
    ")\n"
   ]
  },
  {
   "cell_type": "code",
   "execution_count": 8,
   "id": "fd7ec6bf-dd2f-4ab3-ae49-683d61057621",
   "metadata": {},
   "outputs": [
    {
     "data": {
      "text/plain": [
       "436973"
      ]
     },
     "execution_count": 8,
     "metadata": {},
     "output_type": "execute_result"
    }
   ],
   "source": [
    "len(trainval_paths)"
   ]
  },
  {
   "cell_type": "code",
   "execution_count": 25,
   "id": "3e277790-0f88-4b87-ab8a-8265ed77fe89",
   "metadata": {},
   "outputs": [],
   "source": [
    "from collections import defaultdict\n",
    "import numpy as np\n",
    "import shutil\n",
    "import os\n",
    "\n",
    "# Group filenames by class\n",
    "label_to_paths = defaultdict(list)\n",
    "for path, label in zip(trainval_paths, trainval_labels):\n",
    "    label_to_paths[label].append(path)\n",
    "\n",
    "# Sample train set (balanced)\n",
    "train_paths, train_labels = [], []\n",
    "for label in [0, 1]:\n",
    "    paths = label_to_paths[label]\n",
    "    np.random.seed(42)\n",
    "    sampled_paths = np.random.choice(paths, 5000, replace=False)\n",
    "    train_p = sampled_paths[:4000]\n",
    "    train_paths.extend(train_p)\n",
    "    train_labels.extend([label] * 4000)\n",
    "\n",
    "# Sample val set (representative of real-world 96/4 split)\n",
    "val_paths, val_labels = [], []\n",
    "\n",
    "np.random.seed(42)\n",
    "benign_val = np.random.choice(label_to_paths[0], 960, replace=False)\n",
    "malignant_val = np.random.choice(label_to_paths[1], 40, replace=False)\n",
    "\n",
    "val_paths.extend(benign_val)\n",
    "val_labels.extend([0] * 960)\n",
    "val_paths.extend(malignant_val)\n",
    "val_labels.extend([1] * 40)\n",
    "\n",
    "\n",
    "# Create new folders for train/val\n",
    "for folder in ['images_train_balanced', 'images_val_balanced']:\n",
    "    os.makedirs(folder, exist_ok=True)\n",
    "\n",
    "# Copy files into balanced folders\n",
    "for path in train_paths:\n",
    "    shutil.copy(path, f'images_train_balanced/{os.path.basename(path)}')\n",
    "\n",
    "for path in val_paths:\n",
    "    shutil.copy(path, f'images_val_balanced/{os.path.basename(path)}')\n"
   ]
  },
  {
   "cell_type": "code",
   "execution_count": 26,
   "id": "ee3a11e9-809f-441e-9d06-4417cb9a2962",
   "metadata": {},
   "outputs": [],
   "source": [
    "\n",
    "import os\n",
    "import shutil\n",
    "os.makedirs('./images_test', exist_ok=True)\n",
    "\n",
    "for path in test_paths:\n",
    "    filename = os.path.basename(path)\n",
    "    shutil.copy(path, f'./images_test/{filename}')\n"
   ]
  },
  {
   "cell_type": "code",
   "execution_count": 11,
   "id": "98116eca-8904-4444-9aef-0db7b4de2218",
   "metadata": {},
   "outputs": [
    {
     "name": "stdout",
     "output_type": "stream",
     "text": [
      "Found 8000 files belonging to 2 classes.\n",
      "Found 1000 files belonging to 2 classes.\n"
     ]
    }
   ],
   "source": [
    "\n",
    "\n",
    "train_image_ds = tf.keras.utils.image_dataset_from_directory(\n",
    "    directory='images_train_balanced',\n",
    "    labels=train_labels,\n",
    "    label_mode='int',\n",
    "    batch_size=64,\n",
    "    image_size=(128, 128),\n",
    "    shuffle=True,\n",
    "    seed=123\n",
    ")\n",
    "\n",
    "val_image_ds = tf.keras.utils.image_dataset_from_directory(\n",
    "    directory='images_val_balanced',\n",
    "    labels=val_labels,\n",
    "    label_mode='int',\n",
    "    batch_size=64,\n",
    "    image_size=(128, 128),\n",
    "    shuffle=True,\n",
    "    seed=123\n",
    ")"
   ]
  },
  {
   "cell_type": "code",
   "execution_count": 12,
   "id": "bc8b685d-1679-4dd3-a3d1-3ae8e65e4f8e",
   "metadata": {},
   "outputs": [
    {
     "name": "stdout",
     "output_type": "stream",
     "text": [
      "Found 48553 files belonging to 2 classes.\n"
     ]
    }
   ],
   "source": [
    "# Test filenames and labels\n",
    "test_path_to_label = {os.path.basename(p): l for p, l in zip(test_paths, test_labels)}\n",
    "test_filenames = [os.path.basename(p) for p in test_paths]\n",
    "test_labels_sorted = [test_path_to_label[fname] for fname in test_filenames]\n",
    "\n",
    "test_image_ds = tf.keras.utils.image_dataset_from_directory(\n",
    "    directory='./images_test',\n",
    "    labels=test_labels_sorted,\n",
    "    label_mode='int',\n",
    "    batch_size=64,\n",
    "    image_size=(128, 128),\n",
    "    shuffle=False\n",
    ")\n"
   ]
  },
  {
   "cell_type": "code",
   "execution_count": 13,
   "id": "68521d8d-dbbf-4844-8f10-2b2cb4651465",
   "metadata": {},
   "outputs": [],
   "source": [
    "train_metadata_ds = tf.data.Dataset.from_tensor_slices(\n",
    "    tf.stack([trainval_sex[:len(train_image_ds)], trainval_age[:len(train_image_ds)], trainval_size[:len(train_image_ds)]], axis=1)\n",
    ")\n",
    "\n",
    "val_metadata_ds = tf.data.Dataset.from_tensor_slices(\n",
    "    tf.stack([trainval_sex[len(train_image_ds):], trainval_age[len(train_image_ds):], trainval_size[len(train_image_ds):]], axis=1)\n",
    ")\n",
    "\n",
    "test_metadata_ds = tf.data.Dataset.from_tensor_slices(\n",
    "    tf.stack([test_sex, test_age, test_size], axis=1)\n",
    ")\n"
   ]
  },
  {
   "cell_type": "code",
   "execution_count": 14,
   "id": "da5b83a8-2a2f-4bd8-8df5-6782efaa3112",
   "metadata": {},
   "outputs": [],
   "source": [
    "train_images_only_ds = train_image_ds.map(lambda x, y: x)\n",
    "train_labels_only_ds = train_image_ds.map(lambda x, y: y)\n",
    "\n",
    "train_inputs_ds = tf.data.Dataset.zip((train_images_only_ds, train_metadata_ds))\n",
    "final_train_ds = tf.data.Dataset.zip((train_inputs_ds, train_labels_only_ds)).prefetch(tf.data.AUTOTUNE)\n",
    "\n",
    "val_images_only_ds = val_image_ds.map(lambda x, y: x)\n",
    "val_labels_only_ds = val_image_ds.map(lambda x, y: y)\n",
    "\n",
    "val_inputs_ds = tf.data.Dataset.zip((val_images_only_ds, val_metadata_ds))\n",
    "final_val_ds = tf.data.Dataset.zip((val_inputs_ds, val_labels_only_ds)).prefetch(tf.data.AUTOTUNE)\n",
    "\n",
    "test_images_only_ds = test_image_ds.map(lambda x, y: x)\n",
    "test_labels_only_ds = test_image_ds.map(lambda x, y: y)\n",
    "\n",
    "test_inputs_ds = tf.data.Dataset.zip((test_images_only_ds, test_metadata_ds))\n",
    "final_test_ds = tf.data.Dataset.zip((test_inputs_ds, test_labels_only_ds)).prefetch(tf.data.AUTOTUNE)\n",
    "\n",
    "\n"
   ]
  },
  {
   "cell_type": "code",
   "execution_count": 15,
   "id": "15d6fe46-40ab-464c-9090-b75e238f2dc1",
   "metadata": {},
   "outputs": [
    {
     "name": "stdout",
     "output_type": "stream",
     "text": [
      "Epoch 1/20\n",
      "\u001b[1m125/125\u001b[0m \u001b[32m━━━━━━━━━━━━━━━━━━━━\u001b[0m\u001b[37m\u001b[0m \u001b[1m22s\u001b[0m 163ms/step - accuracy: 0.7569 - loss: 0.4896 - val_accuracy: 0.1920 - val_loss: 1.7582\n",
      "Epoch 2/20\n",
      "\u001b[1m125/125\u001b[0m \u001b[32m━━━━━━━━━━━━━━━━━━━━\u001b[0m\u001b[37m\u001b[0m \u001b[1m20s\u001b[0m 158ms/step - accuracy: 0.8222 - loss: 0.4036 - val_accuracy: 0.1660 - val_loss: 1.9126\n",
      "Epoch 3/20\n",
      "\u001b[1m125/125\u001b[0m \u001b[32m━━━━━━━━━━━━━━━━━━━━\u001b[0m\u001b[37m\u001b[0m \u001b[1m20s\u001b[0m 162ms/step - accuracy: 0.8328 - loss: 0.3897 - val_accuracy: 0.1510 - val_loss: 2.2625\n",
      "Epoch 4/20\n",
      "\u001b[1m125/125\u001b[0m \u001b[32m━━━━━━━━━━━━━━━━━━━━\u001b[0m\u001b[37m\u001b[0m \u001b[1m21s\u001b[0m 162ms/step - accuracy: 0.8346 - loss: 0.3834 - val_accuracy: 0.2410 - val_loss: 1.2330\n",
      "Epoch 5/20\n",
      "\u001b[1m125/125\u001b[0m \u001b[32m━━━━━━━━━━━━━━━━━━━━\u001b[0m\u001b[37m\u001b[0m \u001b[1m21s\u001b[0m 165ms/step - accuracy: 0.8417 - loss: 0.3715 - val_accuracy: 0.1970 - val_loss: 1.6063\n",
      "Epoch 6/20\n",
      "\u001b[1m125/125\u001b[0m \u001b[32m━━━━━━━━━━━━━━━━━━━━\u001b[0m\u001b[37m\u001b[0m \u001b[1m21s\u001b[0m 167ms/step - accuracy: 0.8507 - loss: 0.3606 - val_accuracy: 0.1890 - val_loss: 1.7065\n",
      "Epoch 7/20\n",
      "\u001b[1m125/125\u001b[0m \u001b[32m━━━━━━━━━━━━━━━━━━━━\u001b[0m\u001b[37m\u001b[0m \u001b[1m20s\u001b[0m 162ms/step - accuracy: 0.8530 - loss: 0.3585 - val_accuracy: 0.2080 - val_loss: 1.6405\n",
      "Epoch 8/20\n",
      "\u001b[1m125/125\u001b[0m \u001b[32m━━━━━━━━━━━━━━━━━━━━\u001b[0m\u001b[37m\u001b[0m \u001b[1m20s\u001b[0m 160ms/step - accuracy: 0.8548 - loss: 0.3549 - val_accuracy: 0.1810 - val_loss: 1.6663\n",
      "Epoch 9/20\n",
      "\u001b[1m125/125\u001b[0m \u001b[32m━━━━━━━━━━━━━━━━━━━━\u001b[0m\u001b[37m\u001b[0m \u001b[1m20s\u001b[0m 158ms/step - accuracy: 0.8541 - loss: 0.3504 - val_accuracy: 0.1670 - val_loss: 1.9588\n",
      "Epoch 1/50\n",
      "\u001b[1m125/125\u001b[0m \u001b[32m━━━━━━━━━━━━━━━━━━━━\u001b[0m\u001b[37m\u001b[0m \u001b[1m84s\u001b[0m 616ms/step - accuracy: 0.6274 - loss: 1.6140 - val_accuracy: 0.0960 - val_loss: 3.0779\n",
      "Epoch 2/50\n",
      "\u001b[1m125/125\u001b[0m \u001b[32m━━━━━━━━━━━━━━━━━━━━\u001b[0m\u001b[37m\u001b[0m \u001b[1m76s\u001b[0m 602ms/step - accuracy: 0.8116 - loss: 0.5797 - val_accuracy: 0.1320 - val_loss: 2.2663\n",
      "Epoch 3/50\n",
      "\u001b[1m125/125\u001b[0m \u001b[32m━━━━━━━━━━━━━━━━━━━━\u001b[0m\u001b[37m\u001b[0m \u001b[1m79s\u001b[0m 629ms/step - accuracy: 0.8517 - loss: 0.4152 - val_accuracy: 0.2240 - val_loss: 1.7177\n",
      "Epoch 4/50\n",
      "\u001b[1m125/125\u001b[0m \u001b[32m━━━━━━━━━━━━━━━━━━━━\u001b[0m\u001b[37m\u001b[0m \u001b[1m75s\u001b[0m 594ms/step - accuracy: 0.8728 - loss: 0.3376 - val_accuracy: 0.2690 - val_loss: 1.6927\n",
      "Epoch 5/50\n",
      "\u001b[1m125/125\u001b[0m \u001b[32m━━━━━━━━━━━━━━━━━━━━\u001b[0m\u001b[37m\u001b[0m \u001b[1m75s\u001b[0m 595ms/step - accuracy: 0.8939 - loss: 0.2877 - val_accuracy: 0.2300 - val_loss: 1.9570\n",
      "Epoch 6/50\n",
      "\u001b[1m125/125\u001b[0m \u001b[32m━━━━━━━━━━━━━━━━━━━━\u001b[0m\u001b[37m\u001b[0m \u001b[1m76s\u001b[0m 608ms/step - accuracy: 0.9061 - loss: 0.2445 - val_accuracy: 0.2070 - val_loss: 2.0908\n",
      "Epoch 7/50\n",
      "\u001b[1m125/125\u001b[0m \u001b[32m━━━━━━━━━━━━━━━━━━━━\u001b[0m\u001b[37m\u001b[0m \u001b[1m75s\u001b[0m 599ms/step - accuracy: 0.9116 - loss: 0.2263 - val_accuracy: 0.2000 - val_loss: 2.1641\n",
      "Epoch 8/50\n",
      "\u001b[1m125/125\u001b[0m \u001b[32m━━━━━━━━━━━━━━━━━━━━\u001b[0m\u001b[37m\u001b[0m \u001b[1m76s\u001b[0m 606ms/step - accuracy: 0.9222 - loss: 0.2012 - val_accuracy: 0.1970 - val_loss: 2.2062\n",
      "Epoch 9/50\n",
      "\u001b[1m125/125\u001b[0m \u001b[32m━━━━━━━━━━━━━━━━━━━━\u001b[0m\u001b[37m\u001b[0m \u001b[1m74s\u001b[0m 590ms/step - accuracy: 0.9391 - loss: 0.1714 - val_accuracy: 0.1760 - val_loss: 2.3061\n",
      "Epoch 10/50\n",
      "\u001b[1m125/125\u001b[0m \u001b[32m━━━━━━━━━━━━━━━━━━━━\u001b[0m\u001b[37m\u001b[0m \u001b[1m74s\u001b[0m 591ms/step - accuracy: 0.9429 - loss: 0.1592 - val_accuracy: 0.1800 - val_loss: 2.2839\n",
      "Epoch 11/50\n",
      "\u001b[1m125/125\u001b[0m \u001b[32m━━━━━━━━━━━━━━━━━━━━\u001b[0m\u001b[37m\u001b[0m \u001b[1m74s\u001b[0m 593ms/step - accuracy: 0.9459 - loss: 0.1453 - val_accuracy: 0.1660 - val_loss: 2.4357\n",
      "Epoch 12/50\n",
      "\u001b[1m125/125\u001b[0m \u001b[32m━━━━━━━━━━━━━━━━━━━━\u001b[0m\u001b[37m\u001b[0m \u001b[1m74s\u001b[0m 590ms/step - accuracy: 0.9548 - loss: 0.1307 - val_accuracy: 0.1590 - val_loss: 2.5795\n"
     ]
    }
   ],
   "source": [
    "\n",
    "from tensorflow.keras.applications import MobileNetV2\n",
    "from tensorflow.keras.models import Model\n",
    "from tensorflow.keras.layers import Dense, GlobalAveragePooling2D, Input\n",
    "from tensorflow.keras.optimizers import Adam\n",
    "from tensorflow.keras.callbacks import EarlyStopping\n",
    "\n",
    "# Load the base model\n",
    "base_model = MobileNetV2(input_shape=(128, 128, 3), include_top=False, weights='imagenet')\n",
    "base_model.trainable = False  # Freeze base model\n",
    "\n",
    "# Add custom classification head\n",
    "inputs = Input(shape=(128, 128, 3))\n",
    "x = base_model(inputs, training=False)\n",
    "x = GlobalAveragePooling2D()(x)\n",
    "x = Dense(64, activation='relu')(x)\n",
    "outputs = Dense(1, activation='sigmoid')(x)  # Binary classification\n",
    "model = Model(inputs, outputs)\n",
    "\n",
    "# Compile model\n",
    "model.compile(optimizer=Adam(learning_rate=0.001),\n",
    "              loss='binary_crossentropy',\n",
    "              metrics=['accuracy'])\n",
    "\n",
    "# Train top layers first\n",
    "history = model.fit(train_image_ds,\n",
    "                    validation_data=val_image_ds,\n",
    "                    epochs=20,\n",
    "                    callbacks=[EarlyStopping(patience=5, restore_best_weights=True)])\n",
    "\n",
    "# Unfreeze and fine-tune\n",
    "base_model.trainable = True\n",
    "model.compile(optimizer=Adam(learning_rate=1e-5),\n",
    "              loss='binary_crossentropy',\n",
    "              metrics=['accuracy'])\n",
    "\n",
    "# Fine-tune the whole model\n",
    "history_finetune = model.fit(train_image_ds,\n",
    "                             validation_data=val_image_ds,\n",
    "                             epochs=50,\n",
    "                             callbacks=[EarlyStopping(patience=8, restore_best_weights=True)])\n"
   ]
  },
  {
   "cell_type": "code",
   "execution_count": 16,
   "id": "3b1c1dde-0529-4e52-812d-12e1b830239c",
   "metadata": {},
   "outputs": [
    {
     "name": "stdout",
     "output_type": "stream",
     "text": [
      "\u001b[1m759/759\u001b[0m \u001b[32m━━━━━━━━━━━━━━━━━━━━\u001b[0m\u001b[37m\u001b[0m \u001b[1m98s\u001b[0m 128ms/step - accuracy: 0.3686 - loss: 1.5480\n",
      "Test accuracy: 0.2591\n"
     ]
    }
   ],
   "source": [
    "test_loss, test_accuracy = model.evaluate(test_image_ds)\n",
    "print(f\"Test accuracy: {test_accuracy:.4f}\")"
   ]
  },
  {
   "cell_type": "code",
   "execution_count": 17,
   "id": "7d620d35-1b2f-4be5-bc54-60dc41df0650",
   "metadata": {},
   "outputs": [
    {
     "name": "stdout",
     "output_type": "stream",
     "text": [
      "\u001b[1m759/759\u001b[0m \u001b[32m━━━━━━━━━━━━━━━━━━━━\u001b[0m\u001b[37m\u001b[0m \u001b[1m99s\u001b[0m 130ms/step\n"
     ]
    }
   ],
   "source": [
    "y_pred_probs = model.predict(test_image_ds)\n",
    "y_pred = np.round(y_pred_probs).astype(int)"
   ]
  },
  {
   "cell_type": "code",
   "execution_count": 18,
   "id": "0977fdea-802f-41f1-9127-db13cff3d8f0",
   "metadata": {},
   "outputs": [],
   "source": [
    "y_true = np.array(test_labels_sorted)"
   ]
  },
  {
   "cell_type": "code",
   "execution_count": 19,
   "id": "7959f465-046c-431c-afad-3a97a6f13f32",
   "metadata": {},
   "outputs": [
    {
     "data": {
      "text/plain": [
       "<sklearn.metrics._plot.confusion_matrix.ConfusionMatrixDisplay at 0x110086510>"
      ]
     },
     "execution_count": 19,
     "metadata": {},
     "output_type": "execute_result"
    },
    {
     "data": {
      "image/png": "[encoded data removed]",
      "text/plain": [
       "<Figure size 640x480 with 2 Axes>"
      ]
     },
     "metadata": {},
     "output_type": "display_data"
    }
   ],
   "source": [
    "from sklearn.metrics import classification_report, confusion_matrix, ConfusionMatrixDisplay\n",
    "\n",
    "# Confusion matrix\n",
    "cm = confusion_matrix(y_true, y_pred)\n",
    "disp = ConfusionMatrixDisplay(confusion_matrix=cm, display_labels=['Benign', 'Malignant'])\n",
    "disp.plot(cmap='Blues',values_format='d')\n"
   ]
  },
  {
   "cell_type": "code",
   "execution_count": 20,
   "id": "360f3c10-2524-4608-9fbc-d521f536ad43",
   "metadata": {},
   "outputs": [
    {
     "name": "stdout",
     "output_type": "stream",
     "text": [
      "              precision    recall  f1-score   support\n",
      "\n",
      "      Benign       0.96      0.24      0.38     46727\n",
      "   Malignant       0.04      0.75      0.07      1826\n",
      "\n",
      "    accuracy                           0.26     48553\n",
      "   macro avg       0.50      0.50      0.23     48553\n",
      "weighted avg       0.93      0.26      0.37     48553\n",
      "\n"
     ]
    }
   ],
   "source": [
    "print(classification_report(y_true, y_pred, target_names=['Benign', 'Malignant']))"
   ]
  },
  {
   "cell_type": "code",
   "execution_count": 21,
   "id": "5a82b1af-c820-4ae7-91c9-0d4ebd1ff56d",
   "metadata": {},
   "outputs": [
    {
     "name": "stderr",
     "output_type": "stream",
     "text": [
      "2025-05-12 16:39:51.369842: I tensorflow/core/framework/local_rendezvous.cc:407] Local rendezvous is aborting with status: OUT_OF_RANGE: End of sequence\n"
     ]
    },
    {
     "data": {
      "image/png": "[encoded data removed]",
      "text/plain": [
       "<Figure size 640x480 with 2 Axes>"
      ]
     },
     "metadata": {},
     "output_type": "display_data"
    }
   ],
   "source": [
    "import matplotlib.pyplot as plt\n",
    "y_true = []\n",
    "y_pred = []\n",
    "\n",
    "# Loop through the shuffled dataset in the same order used for prediction\n",
    "for images, labels in val_image_ds:\n",
    "    preds = model.predict(images, verbose=0)\n",
    "    y_pred.extend(np.round(preds).astype(int).flatten())  # or np.argmax if softmax\n",
    "    y_true.extend(labels.numpy())\n",
    "\n",
    "y_true = np.array(y_true)\n",
    "y_pred = np.array(y_pred)\n",
    "\n",
    "# Confusion Matrix\n",
    "from sklearn.metrics import confusion_matrix, ConfusionMatrixDisplay\n",
    "cm = confusion_matrix(y_true, y_pred)\n",
    "disp = ConfusionMatrixDisplay(confusion_matrix=cm, display_labels=['Benign', 'Malignant'])\n",
    "disp.plot(cmap='Blues', values_format='d')\n",
    "plt.show()"
   ]
  },
  {
   "cell_type": "code",
   "execution_count": 22,
   "id": "1987c56a-9313-4008-88d9-2ece8081556b",
   "metadata": {},
   "outputs": [
    {
     "name": "stdout",
     "output_type": "stream",
     "text": [
      "\u001b[1m16/16\u001b[0m \u001b[32m━━━━━━━━━━━━━━━━━━━━\u001b[0m\u001b[37m\u001b[0m \u001b[1m2s\u001b[0m 112ms/step - accuracy: 0.2517 - loss: 1.7002\n"
     ]
    }
   ],
   "source": [
    "test_loss, test_accuracy = model.evaluate(val_image_ds)"
   ]
  },
  {
   "cell_type": "code",
   "execution_count": 23,
   "id": "badc6407-655a-4c66-8b2a-56dbdc366bbe",
   "metadata": {},
   "outputs": [],
   "source": [
    "model.save('model_5000.keras')"
   ]
  },
  {
   "cell_type": "code",
   "execution_count": 27,
   "id": "c5ae4588-992e-4d19-9cd0-1af3b99cbd8e",
   "metadata": {},
   "outputs": [],
   "source": [
    "import numpy as np\n",
    "\n",
    "# Get predictions and true labels from val_image_ds\n",
    "y_probs = []\n",
    "y_true = []\n",
    "\n",
    "for images, labels in val_image_ds:\n",
    "    preds = model.predict(images, verbose=0).flatten()  # shape (batch_size,)\n",
    "    y_probs.extend(preds)\n",
    "    y_true.extend(labels.numpy())\n",
    "\n",
    "y_probs = np.array(y_probs)\n",
    "y_true = np.array(y_true)\n"
   ]
  },
  {
   "cell_type": "code",
   "execution_count": 28,
   "id": "3b039217-1ee1-4fad-8a07-c61ef8bdd739",
   "metadata": {},
   "outputs": [
    {
     "name": "stdout",
     "output_type": "stream",
     "text": [
      "Best threshold: 0.88, F1-score: 0.1050\n"
     ]
    }
   ],
   "source": [
    "from sklearn.metrics import f1_score\n",
    "\n",
    "thresholds = np.linspace(0, 1, 100)\n",
    "f1_scores = []\n",
    "\n",
    "for thresh in thresholds:\n",
    "    y_pred = (y_probs > thresh).astype(int)\n",
    "    f1_scores.append(f1_score(y_true, y_pred))\n",
    "\n",
    "best_thresh = thresholds[np.argmax(f1_scores)]\n",
    "print(f\"Best threshold: {best_thresh:.2f}, F1-score: {max(f1_scores):.4f}\")\n"
   ]
  },
  {
   "cell_type": "code",
   "execution_count": 30,
   "id": "d8ed2dbb-9972-4e77-b99f-4da2ff0d2e47",
   "metadata": {},
   "outputs": [
    {
     "name": "stdout",
     "output_type": "stream",
     "text": [
      "\u001b[1m759/759\u001b[0m \u001b[32m━━━━━━━━━━━━━━━━━━━━\u001b[0m\u001b[37m\u001b[0m \u001b[1m100s\u001b[0m 131ms/step\n"
     ]
    }
   ],
   "source": [
    "y_pred_probs = model.predict(test_image_ds)\n",
    "y_test_pred = (y_pred_probs > best_thresh).astype(int)\n"
   ]
  },
  {
   "cell_type": "code",
   "execution_count": 31,
   "id": "a7dcba3b-0958-4f88-8f1a-ac9ecc349316",
   "metadata": {},
   "outputs": [],
   "source": [
    "y_true = np.array(test_labels_sorted)"
   ]
  },
  {
   "cell_type": "code",
   "execution_count": 35,
   "id": "6c31e115-7dc5-4984-9d70-f845894615ed",
   "metadata": {},
   "outputs": [
    {
     "data": {
      "text/plain": [
       "<sklearn.metrics._plot.confusion_matrix.ConfusionMatrixDisplay at 0x306c14810>"
      ]
     },
     "execution_count": 35,
     "metadata": {},
     "output_type": "execute_result"
    },
    {
     "data": {
      "image/png": "[encoded data removed]",
      "text/plain": [
       "<Figure size 640x480 with 2 Axes>"
      ]
     },
     "metadata": {},
     "output_type": "display_data"
    }
   ],
   "source": [
    "cm = confusion_matrix(y_true, y_test_pred)\n",
    "disp = ConfusionMatrixDisplay(confusion_matrix=cm, display_labels=['Benign', 'Malignant'])\n",
    "disp.plot(cmap='Blues',values_format='d')"
   ]
  },
  {
   "cell_type": "code",
   "execution_count": null,
   "id": "f3944dd3-130a-4c91-ab85-e3f1658d0e08",
   "metadata": {},
   "outputs": [],
   "source": []
  }
 ],
 "metadata": {
  "kernelspec": {
   "display_name": "Python 3 (ipykernel)",
   "language": "python",
   "name": "python3"
  },
  "language_info": {
   "codemirror_mode": {
    "name": "ipython",
    "version": 3
   },
   "file_extension": ".py",
   "mimetype": "text/x-python",
   "name": "python",
   "nbconvert_exporter": "python",
   "pygments_lexer": "ipython3",
   "version": "3.11.8"
  }
 },
 "nbformat": 4,
 "nbformat_minor": 5
}
