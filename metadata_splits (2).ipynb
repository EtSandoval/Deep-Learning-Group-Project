{
 "cells": [
  {
   "cell_type": "code",
   "execution_count": 2,
   "id": "eeae42b8-5c5e-420d-b452-f45938b4c15d",
   "metadata": {},
   "outputs": [],
   "source": [
    "import pandas as pd"
   ]
  },
  {
   "cell_type": "code",
   "execution_count": 3,
   "id": "ba679b69-4308-4c02-bc6b-b142b9415277",
   "metadata": {},
   "outputs": [
    {
     "name": "stderr",
     "output_type": "stream",
     "text": [
      "/var/folders/0b/33n254b510726mq07nrfcfbw0000gn/T/ipykernel_27477/955804050.py:1: DtypeWarning: Columns (6,9,10,11,13,14,15,16,17,18,19,22,23,25,26,27,28,30,35) have mixed types. Specify dtype option on import or set low_memory=False.\n",
      "  df = pd.read_csv('metadata.csv')\n"
     ]
    }
   ],
   "source": [
    "df = pd.read_csv('metadata.csv')"
   ]
  },
  {
   "cell_type": "code",
   "execution_count": 4,
   "id": "3957cf99-3888-42ad-bf79-b4bc43b8c16a",
   "metadata": {},
   "outputs": [],
   "source": [
    "df = df[['age_approx','clin_size_long_diam_mm','sex','diagnosis_1']]"
   ]
  },
  {
   "cell_type": "code",
   "execution_count": 9,
   "id": "895ee36d-45a6-4dc1-951c-d90b20762622",
   "metadata": {},
   "outputs": [],
   "source": [
    "from sklearn.model_selection import train_test_split\n",
    "train_df, temp_df = train_test_split(df, test_size=0.3, random_state=42, shuffle=True)\n",
    "val_df, test_df = train_test_split(temp_df, test_size=1/3, random_state=42, shuffle=True)"
   ]
  },
  {
   "cell_type": "code",
   "execution_count": null,
   "id": "59fe760a-4596-4aec-8860-6289fc72b966",
   "metadata": {},
   "outputs": [],
   "source": [
    "train_df.to_csv('train_metadata.csv', index=False)"
   ]
  },
  {
   "cell_type": "code",
   "execution_count": null,
   "id": "c78ffa29-d07b-4f96-bfbf-cc69224ed8f4",
   "metadata": {},
   "outputs": [],
   "source": [
    "test_df.to_csv('test_metadata.csv', index=False)"
   ]
  },
  {
   "cell_type": "code",
   "execution_count": null,
   "id": "b34e904b-a7ac-4533-967c-6affca44bf70",
   "metadata": {},
   "outputs": [],
   "source": [
    "val_df.to_csv('val_metadata.csv', index=False)"
   ]
  },
  {
   "cell_type": "code",
   "execution_count": null,
   "id": "d632fbdc-948e-4afe-ab2c-7e7744367931",
   "metadata": {},
   "outputs": [],
   "source": []
  }
 ],
 "metadata": {
  "kernelspec": {
   "display_name": "Python 3 (ipykernel)",
   "language": "python",
   "name": "python3"
  },
  "language_info": {
   "codemirror_mode": {
    "name": "ipython",
    "version": 3
   },
   "file_extension": ".py",
   "mimetype": "text/x-python",
   "name": "python",
   "nbconvert_exporter": "python",
   "pygments_lexer": "ipython3",
   "version": "3.11.8"
  }
 },
 "nbformat": 4,
 "nbformat_minor": 5
}
