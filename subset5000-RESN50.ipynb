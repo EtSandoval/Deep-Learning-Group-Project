{
 "cells": [
  {
   "cell_type": "code",
   "execution_count": 2,
   "id": "134513bb-6ec1-4e19-892b-0b45b766b299",
   "metadata": {},
   "outputs": [],
   "source": [
    "import tensorflow as tf\n",
    "from tensorflow import keras\n",
    "from tensorflow.keras import layers\n",
    "import pandas as pd\n",
    "import numpy as np\n",
    "import glob\n",
    "import os\n",
    "import sklearn.model_selection\n"
   ]
  },
  {
   "cell_type": "markdown",
   "id": "e66f336c",
   "metadata": {},
   "source": [
    "## Metadata Preprocessing\n",
    "\n",
    "We begin by loading and cleaning the metadata. This includes selecting relevant columns, encoding categorical variables (`sex` and `diagnosis_1`), and handling missing values by imputing with the mean. We also create a new `filename` column to match image files with metadata."
   ]
  },
  {
   "cell_type": "code",
   "execution_count": 3,
   "id": "47321e5e-7369-4734-bad7-ef1044205635",
   "metadata": {},
   "outputs": [
    {
     "name": "stderr",
     "output_type": "stream",
     "text": [
      "/var/folders/0b/33n254b510726mq07nrfcfbw0000gn/T/ipykernel_16921/695260491.py:1: DtypeWarning: Columns (6,9,10,11,13,14,15,16,17,18,19,22,23,25,26,27,28,30,35) have mixed types. Specify dtype option on import or set low_memory=False.\n",
      "  metadata = pd.read_csv('metadata.csv')\n"
     ]
    }
   ],
   "source": [
    "\n",
    "metadata = pd.read_csv('metadata.csv')\n",
    "metadata = metadata[['isic_id','age_approx','clin_size_long_diam_mm','sex','diagnosis_1']]\n",
    "# encode columns\n",
    "metadata['sex'] = metadata['sex'].map({'male': 0, 'female': 1})\n",
    "metadata['diagnosis_1'] = metadata['diagnosis_1'].map({'Benign': 0, 'Malignant': 1})\n",
    "\n",
    "# missing values\n",
    "metadata['age_approx'] = metadata['age_approx'].fillna(metadata['age_approx'].mean())\n",
    "metadata['clin_size_long_diam_mm'] = metadata['clin_size_long_diam_mm'].fillna(metadata['clin_size_long_diam_mm'].mean())\n",
    "metadata = metadata.dropna()\n",
    "\n",
    "# Create filename field\n",
    "metadata['filename'] = metadata['isic_id'].astype(str) + '.jpg'\n"
   ]
  },
  {
   "cell_type": "code",
   "execution_count": 4,
   "id": "e2a21c24-8fca-4f42-afaf-f9bb3e73f84f",
   "metadata": {},
   "outputs": [
    {
     "data": {
      "text/html": [
       "<div>\n",
       "<style scoped>\n",
       "    .dataframe tbody tr th:only-of-type {\n",
       "        vertical-align: middle;\n",
       "    }\n",
       "\n",
       "    .dataframe tbody tr th {\n",
       "        vertical-align: top;\n",
       "    }\n",
       "\n",
       "    .dataframe thead th {\n",
       "        text-align: right;\n",
       "    }\n",
       "</style>\n",
       "<table border=\"1\" class=\"dataframe\">\n",
       "  <thead>\n",
       "    <tr style=\"text-align: right;\">\n",
       "      <th></th>\n",
       "      <th>isic_id</th>\n",
       "      <th>age_approx</th>\n",
       "      <th>clin_size_long_diam_mm</th>\n",
       "      <th>sex</th>\n",
       "      <th>diagnosis_1</th>\n",
       "      <th>filename</th>\n",
       "    </tr>\n",
       "  </thead>\n",
       "  <tbody>\n",
       "    <tr>\n",
       "      <th>0</th>\n",
       "      <td>ISIC_9536278</td>\n",
       "      <td>45.0</td>\n",
       "      <td>3.988203</td>\n",
       "      <td>1.0</td>\n",
       "      <td>1.0</td>\n",
       "      <td>ISIC_9536278.jpg</td>\n",
       "    </tr>\n",
       "    <tr>\n",
       "      <th>1</th>\n",
       "      <td>ISIC_7650956</td>\n",
       "      <td>65.0</td>\n",
       "      <td>3.988203</td>\n",
       "      <td>1.0</td>\n",
       "      <td>1.0</td>\n",
       "      <td>ISIC_7650956.jpg</td>\n",
       "    </tr>\n",
       "    <tr>\n",
       "      <th>2</th>\n",
       "      <td>ISIC_5730927</td>\n",
       "      <td>85.0</td>\n",
       "      <td>3.988203</td>\n",
       "      <td>0.0</td>\n",
       "      <td>1.0</td>\n",
       "      <td>ISIC_5730927.jpg</td>\n",
       "    </tr>\n",
       "    <tr>\n",
       "      <th>3</th>\n",
       "      <td>ISIC_4305055</td>\n",
       "      <td>85.0</td>\n",
       "      <td>3.988203</td>\n",
       "      <td>1.0</td>\n",
       "      <td>1.0</td>\n",
       "      <td>ISIC_4305055.jpg</td>\n",
       "    </tr>\n",
       "    <tr>\n",
       "      <th>4</th>\n",
       "      <td>ISIC_5681611</td>\n",
       "      <td>85.0</td>\n",
       "      <td>3.988203</td>\n",
       "      <td>1.0</td>\n",
       "      <td>1.0</td>\n",
       "      <td>ISIC_5681611.jpg</td>\n",
       "    </tr>\n",
       "  </tbody>\n",
       "</table>\n",
       "</div>"
      ],
      "text/plain": [
       "        isic_id  age_approx  clin_size_long_diam_mm  sex  diagnosis_1  \\\n",
       "0  ISIC_9536278        45.0                3.988203  1.0          1.0   \n",
       "1  ISIC_7650956        65.0                3.988203  1.0          1.0   \n",
       "2  ISIC_5730927        85.0                3.988203  0.0          1.0   \n",
       "3  ISIC_4305055        85.0                3.988203  1.0          1.0   \n",
       "4  ISIC_5681611        85.0                3.988203  1.0          1.0   \n",
       "\n",
       "           filename  \n",
       "0  ISIC_9536278.jpg  \n",
       "1  ISIC_7650956.jpg  \n",
       "2  ISIC_5730927.jpg  \n",
       "3  ISIC_4305055.jpg  \n",
       "4  ISIC_5681611.jpg  "
      ]
     },
     "execution_count": 4,
     "metadata": {},
     "output_type": "execute_result"
    }
   ],
   "source": [
    "metadata.head()"
   ]
  },
  {
   "cell_type": "markdown",
   "id": "e2b7d5d6",
   "metadata": {},
   "source": [
    "## Filter Valid Image Paths\n",
    "\n",
    "We filter the metadata to keep only those entries that have valid corresponding image files, as listed in `good_image_paths.txt`."
   ]
  },
  {
   "cell_type": "code",
   "execution_count": 5,
   "id": "fe5fde46-1bed-4464-b9db-2803417460e6",
   "metadata": {},
   "outputs": [
    {
     "data": {
      "text/plain": [
       "'\\ngood_image_paths = []\\n\\nfor path in valid_image_paths:\\n    try:\\n        img_raw = tf.io.read_file(path)\\n        img = tf.image.decode_jpeg(img_raw, channels=3)\\n        good_image_paths.append(path)\\n    except:\\n        print(f\"Skipping invalid image: {path}\")\\n\\nwith open(\\'good_image_paths.txt\\', \\'w\\') as f:\\n    for path in good_image_paths:\\n        f.write(f\"{path}\\n\")\\n'"
      ]
     },
     "execution_count": 5,
     "metadata": {},
     "output_type": "execute_result"
    }
   ],
   "source": [
    "'''\n",
    "good_image_paths = []\n",
    "\n",
    "for path in valid_image_paths:\n",
    "    try:\n",
    "        img_raw = tf.io.read_file(path)\n",
    "        img = tf.image.decode_jpeg(img_raw, channels=3)\n",
    "        good_image_paths.append(path)\n",
    "    except:\n",
    "        print(f\"Skipping invalid image: {path}\")\n",
    "\n",
    "with open('good_image_paths.txt', 'w') as f:\n",
    "    for path in good_image_paths:\n",
    "        f.write(f\"{path}\\n\")\n",
    "'''"
   ]
  },
  {
   "cell_type": "code",
   "execution_count": 6,
   "id": "d86fc996-e286-4a93-bccf-99bb7029d6af",
   "metadata": {},
   "outputs": [],
   "source": [
    "with open('good_image_paths.txt', 'r') as f:\n",
    "    image_paths = [line.strip() for line in f]\n",
    "\n",
    "filenames = [os.path.basename(p) for p in image_paths]\n",
    "metadata = metadata[metadata['filename'].isin(filenames)].reset_index(drop=True)\n"
   ]
  },
  {
   "cell_type": "markdown",
   "id": "c300f421",
   "metadata": {},
   "source": [
    "## Create Lookup Dictionaries for Metadata\n",
    "\n",
    "We create dictionaries that map filenames to metadata features (sex, age, size) and class labels for training."
   ]
  },
  {
   "cell_type": "code",
   "execution_count": 7,
   "id": "4bb39d3f-279f-4bf8-a103-9ce349aa56ff",
   "metadata": {},
   "outputs": [],
   "source": [
    "# Create lookup dictionaries\n",
    "label_lookup = dict(zip(metadata['filename'], metadata['diagnosis_1']))\n",
    "\n",
    "# Lists for matched data\n",
    "valid_image_paths = []\n",
    "labels = []\n",
    "\n",
    "for path, fname in zip(image_paths, filenames):\n",
    "    if fname in label_lookup:\n",
    "        valid_image_paths.append(path)\n",
    "        labels.append(label_lookup[fname])\n"
   ]
  },
  {
   "cell_type": "markdown",
   "id": "cd9629a8",
   "metadata": {},
   "source": [
    "## Train/Validation/Test Split\n",
    "\n",
    "We split the dataset into training+validation (90%) and test (10%) sets. This ensures we have a hold-out set for final evaluation."
   ]
  },
  {
   "cell_type": "code",
   "execution_count": 10,
   "id": "4f25d0af-dd6e-4cb1-8247-f72f9d3d5ce0",
   "metadata": {},
   "outputs": [],
   "source": [
    "trainval_paths, test_paths, trainval_labels, test_labels = sklearn.model_selection.train_test_split(\n",
    "    valid_image_paths, labels,\n",
    "    test_size=0.1, random_state=42, shuffle=True\n",
    ")\n"
   ]
  },
  {
   "cell_type": "code",
   "execution_count": 11,
   "id": "fd7ec6bf-dd2f-4ab3-ae49-683d61057621",
   "metadata": {},
   "outputs": [
    {
     "data": {
      "text/plain": [
       "436973"
      ]
     },
     "execution_count": 11,
     "metadata": {},
     "output_type": "execute_result"
    }
   ],
   "source": [
    "len(trainval_paths)"
   ]
  },
  {
   "cell_type": "markdown",
   "id": "ae87d4a6",
   "metadata": {},
   "source": [
    "## Balancing Classes\n",
    "\n",
    "To ensure balanced classes, we sample 10,000 images per class from the training+validation data. We then split these into 8,000 for training and 2,000 for validation and copy them into separate folders for later use with `image_dataset_from_directory`."
   ]
  },
  {
   "cell_type": "code",
   "execution_count": 12,
   "id": "3e277790-0f88-4b87-ab8a-8265ed77fe89",
   "metadata": {},
   "outputs": [],
   "source": [
    "from collections import defaultdict\n",
    "import numpy as np\n",
    "import shutil\n",
    "import os\n",
    "\n",
    "# Group filenames by class\n",
    "label_to_paths = defaultdict(list)\n",
    "for path, label in zip(trainval_paths, trainval_labels):\n",
    "    label_to_paths[label].append(path)\n",
    "\n",
    "# Sample train set (balanced)\n",
    "train_paths, train_labels = [], []\n",
    "for label in [0, 1]:\n",
    "    paths = label_to_paths[label]\n",
    "    np.random.seed(42)\n",
    "    sampled_paths = np.random.choice(paths, 5000, replace=False)\n",
    "    train_p = sampled_paths[:4000]\n",
    "    train_paths.extend(train_p)\n",
    "    train_labels.extend([label] * 4000)\n",
    "\n",
    "# Sample val set (representative of real-world 96/4 split)\n",
    "val_paths, val_labels = [], []\n",
    "\n",
    "np.random.seed(42)\n",
    "benign_val = np.random.choice(label_to_paths[0], 960, replace=False)\n",
    "malignant_val = np.random.choice(label_to_paths[1], 40, replace=False)\n",
    "\n",
    "val_paths.extend(benign_val)\n",
    "val_labels.extend([0] * 960)\n",
    "val_paths.extend(malignant_val)\n",
    "val_labels.extend([1] * 40)\n",
    "\n",
    "\n",
    "# Create new folders for train/val\n",
    "for folder in ['images_train_balanced', 'images_val_balanced']:\n",
    "    os.makedirs(folder, exist_ok=True)\n",
    "\n",
    "# Copy files into balanced folders\n",
    "for path in train_paths:\n",
    "    shutil.copy(path, f'images_train_balanced/{os.path.basename(path)}')\n",
    "\n",
    "for path in val_paths:\n",
    "    shutil.copy(path, f'images_val_balanced/{os.path.basename(path)}')\n"
   ]
  },
  {
   "cell_type": "code",
   "execution_count": 10,
   "id": "ee3a11e9-809f-441e-9d06-4417cb9a2962",
   "metadata": {},
   "outputs": [],
   "source": [
    "\n",
    "import os\n",
    "import shutil\n",
    "os.makedirs('./images_test', exist_ok=True)\n",
    "\n",
    "for path in test_paths:\n",
    "    filename = os.path.basename(path)\n",
    "    shutil.copy(path, f'./images_test/{filename}')\n"
   ]
  },
  {
   "cell_type": "markdown",
   "id": "2c64ef49",
   "metadata": {},
   "source": [
    "## Create TensorFlow Datasets\n",
    "\n",
    "We use `image_dataset_from_directory` to create TensorFlow datasets for training, validation, and testing. All images are resized to 128×128 pixels and batched for efficient training."
   ]
  },
  {
   "cell_type": "code",
   "execution_count": 13,
   "id": "98116eca-8904-4444-9aef-0db7b4de2218",
   "metadata": {},
   "outputs": [
    {
     "name": "stdout",
     "output_type": "stream",
     "text": [
      "Found 8000 files belonging to 2 classes.\n",
      "Found 1000 files belonging to 2 classes.\n"
     ]
    }
   ],
   "source": [
    "train_image_ds = tf.keras.utils.image_dataset_from_directory(\n",
    "    directory='images_train_balanced',\n",
    "    labels=train_labels,\n",
    "    label_mode='int',\n",
    "    batch_size=64,\n",
    "    image_size=(128, 128),\n",
    "    shuffle=True,\n",
    "    seed=123\n",
    ")\n",
    "\n",
    "val_image_ds = tf.keras.utils.image_dataset_from_directory(\n",
    "    directory='images_val_balanced',\n",
    "    labels=val_labels,\n",
    "    label_mode='int',\n",
    "    batch_size=64,\n",
    "    image_size=(128, 128),\n",
    "    shuffle=True,\n",
    "    seed=123\n",
    ")"
   ]
  },
  {
   "cell_type": "code",
   "execution_count": 14,
   "id": "bc8b685d-1679-4dd3-a3d1-3ae8e65e4f8e",
   "metadata": {},
   "outputs": [
    {
     "name": "stdout",
     "output_type": "stream",
     "text": [
      "Found 48553 files belonging to 2 classes.\n"
     ]
    }
   ],
   "source": [
    "# Test filenames and labels\n",
    "test_path_to_label = {os.path.basename(p): l for p, l in zip(test_paths, test_labels)}\n",
    "test_filenames = [os.path.basename(p) for p in test_paths]\n",
    "test_labels_sorted = [test_path_to_label[fname] for fname in test_filenames]\n",
    "\n",
    "test_image_ds = tf.keras.utils.image_dataset_from_directory(\n",
    "    directory='./images_test',\n",
    "    labels=test_labels_sorted,\n",
    "    label_mode='int',\n",
    "    batch_size=64,\n",
    "    image_size=(128, 128),\n",
    "    shuffle=False\n",
    ")\n"
   ]
  },
  {
   "cell_type": "markdown",
   "id": "10ff368d",
   "metadata": {},
   "source": [
    "## Model Building and Training\n",
    "\n",
    "We use a pre-trained ResNet50 model as the feature extractor. Initially, we freeze the base model and train only the custom classification head. Then we unfreeze and fine-tune the entire model using a lower learning rate. Early stopping is used to prevent overfitting."
   ]
  },
  {
   "cell_type": "code",
   "execution_count": 15,
   "id": "15d6fe46-40ab-464c-9090-b75e238f2dc1",
   "metadata": {},
   "outputs": [
    {
     "name": "stdout",
     "output_type": "stream",
     "text": [
      "Downloading data from https://storage.googleapis.com/tensorflow/keras-applications/resnet/resnet50_weights_tf_dim_ordering_tf_kernels_notop.h5\n",
      "\u001b[1m94765736/94765736\u001b[0m \u001b[32m━━━━━━━━━━━━━━━━━━━━\u001b[0m\u001b[37m\u001b[0m \u001b[1m3s\u001b[0m 0us/step\n",
      "Epoch 1/100\n",
      "\u001b[1m125/125\u001b[0m \u001b[32m━━━━━━━━━━━━━━━━━━━━\u001b[0m\u001b[37m\u001b[0m \u001b[1m58s\u001b[0m 449ms/step - accuracy: 0.8066 - loss: 0.4592 - val_accuracy: 0.1310 - val_loss: 2.1216\n",
      "Epoch 2/100\n",
      "\u001b[1m125/125\u001b[0m \u001b[32m━━━━━━━━━━━━━━━━━━━━\u001b[0m\u001b[37m\u001b[0m \u001b[1m56s\u001b[0m 448ms/step - accuracy: 0.8938 - loss: 0.2960 - val_accuracy: 0.1410 - val_loss: 1.9196\n",
      "Epoch 3/100\n",
      "\u001b[1m125/125\u001b[0m \u001b[32m━━━━━━━━━━━━━━━━━━━━\u001b[0m\u001b[37m\u001b[0m \u001b[1m57s\u001b[0m 453ms/step - accuracy: 0.9082 - loss: 0.2619 - val_accuracy: 0.1340 - val_loss: 2.0883\n",
      "Epoch 4/100\n",
      "\u001b[1m125/125\u001b[0m \u001b[32m━━━━━━━━━━━━━━━━━━━━\u001b[0m\u001b[37m\u001b[0m \u001b[1m57s\u001b[0m 452ms/step - accuracy: 0.9146 - loss: 0.2379 - val_accuracy: 0.1380 - val_loss: 2.0659\n",
      "Epoch 5/100\n",
      "\u001b[1m125/125\u001b[0m \u001b[32m━━━━━━━━━━━━━━━━━━━━\u001b[0m\u001b[37m\u001b[0m \u001b[1m56s\u001b[0m 449ms/step - accuracy: 0.9256 - loss: 0.2145 - val_accuracy: 0.1450 - val_loss: 1.9865\n",
      "Epoch 6/100\n",
      "\u001b[1m125/125\u001b[0m \u001b[32m━━━━━━━━━━━━━━━━━━━━\u001b[0m\u001b[37m\u001b[0m \u001b[1m56s\u001b[0m 445ms/step - accuracy: 0.9338 - loss: 0.1936 - val_accuracy: 0.1450 - val_loss: 2.0209\n",
      "Epoch 7/100\n",
      "\u001b[1m125/125\u001b[0m \u001b[32m━━━━━━━━━━━━━━━━━━━━\u001b[0m\u001b[37m\u001b[0m \u001b[1m56s\u001b[0m 446ms/step - accuracy: 0.9378 - loss: 0.1763 - val_accuracy: 0.1520 - val_loss: 1.9420\n",
      "Epoch 8/100\n",
      "\u001b[1m125/125\u001b[0m \u001b[32m━━━━━━━━━━━━━━━━━━━━\u001b[0m\u001b[37m\u001b[0m \u001b[1m58s\u001b[0m 465ms/step - accuracy: 0.9432 - loss: 0.1633 - val_accuracy: 0.1630 - val_loss: 2.0101\n",
      "Epoch 9/100\n",
      "\u001b[1m125/125\u001b[0m \u001b[32m━━━━━━━━━━━━━━━━━━━━\u001b[0m\u001b[37m\u001b[0m \u001b[1m55s\u001b[0m 439ms/step - accuracy: 0.9465 - loss: 0.1449 - val_accuracy: 0.1480 - val_loss: 2.4530\n",
      "Epoch 10/100\n",
      "\u001b[1m125/125\u001b[0m \u001b[32m━━━━━━━━━━━━━━━━━━━━\u001b[0m\u001b[37m\u001b[0m \u001b[1m55s\u001b[0m 440ms/step - accuracy: 0.9546 - loss: 0.1324 - val_accuracy: 0.1620 - val_loss: 2.4538\n",
      "Epoch 11/100\n",
      "\u001b[1m125/125\u001b[0m \u001b[32m━━━━━━━━━━━━━━━━━━━━\u001b[0m\u001b[37m\u001b[0m \u001b[1m55s\u001b[0m 439ms/step - accuracy: 0.9552 - loss: 0.1205 - val_accuracy: 0.1690 - val_loss: 2.5093\n",
      "Epoch 12/100\n",
      "\u001b[1m125/125\u001b[0m \u001b[32m━━━━━━━━━━━━━━━━━━━━\u001b[0m\u001b[37m\u001b[0m \u001b[1m56s\u001b[0m 447ms/step - accuracy: 0.9620 - loss: 0.1100 - val_accuracy: 0.1740 - val_loss: 2.8468\n",
      "Epoch 13/100\n",
      "\u001b[1m125/125\u001b[0m \u001b[32m━━━━━━━━━━━━━━━━━━━━\u001b[0m\u001b[37m\u001b[0m \u001b[1m55s\u001b[0m 441ms/step - accuracy: 0.9653 - loss: 0.1003 - val_accuracy: 0.1980 - val_loss: 2.4890\n",
      "Epoch 14/100\n",
      "\u001b[1m125/125\u001b[0m \u001b[32m━━━━━━━━━━━━━━━━━━━━\u001b[0m\u001b[37m\u001b[0m \u001b[1m57s\u001b[0m 457ms/step - accuracy: 0.9691 - loss: 0.0891 - val_accuracy: 0.1870 - val_loss: 2.9851\n",
      "Epoch 15/100\n",
      "\u001b[1m125/125\u001b[0m \u001b[32m━━━━━━━━━━━━━━━━━━━━\u001b[0m\u001b[37m\u001b[0m \u001b[1m57s\u001b[0m 456ms/step - accuracy: 0.9718 - loss: 0.0827 - val_accuracy: 0.1840 - val_loss: 3.4230\n",
      "Epoch 16/100\n",
      "\u001b[1m125/125\u001b[0m \u001b[32m━━━━━━━━━━━━━━━━━━━━\u001b[0m\u001b[37m\u001b[0m \u001b[1m56s\u001b[0m 450ms/step - accuracy: 0.9768 - loss: 0.0716 - val_accuracy: 0.2300 - val_loss: 2.6206\n",
      "Epoch 17/100\n",
      "\u001b[1m125/125\u001b[0m \u001b[32m━━━━━━━━━━━━━━━━━━━━\u001b[0m\u001b[37m\u001b[0m \u001b[1m58s\u001b[0m 463ms/step - accuracy: 0.9755 - loss: 0.0747 - val_accuracy: 0.1910 - val_loss: 3.6237\n",
      "Epoch 1/50\n",
      "\u001b[1m125/125\u001b[0m \u001b[32m━━━━━━━━━━━━━━━━━━━━\u001b[0m\u001b[37m\u001b[0m \u001b[1m244s\u001b[0m 2s/step - accuracy: 0.8541 - loss: 0.3756 - val_accuracy: 0.1210 - val_loss: 2.2345\n",
      "Epoch 2/50\n",
      "\u001b[1m125/125\u001b[0m \u001b[32m━━━━━━━━━━━━━━━━━━━━\u001b[0m\u001b[37m\u001b[0m \u001b[1m235s\u001b[0m 2s/step - accuracy: 0.9229 - loss: 0.2280 - val_accuracy: 0.1350 - val_loss: 2.2452\n",
      "Epoch 3/50\n",
      "\u001b[1m125/125\u001b[0m \u001b[32m━━━━━━━━━━━━━━━━━━━━\u001b[0m\u001b[37m\u001b[0m \u001b[1m236s\u001b[0m 2s/step - accuracy: 0.9394 - loss: 0.1769 - val_accuracy: 0.1580 - val_loss: 2.4792\n",
      "Epoch 4/50\n",
      "\u001b[1m125/125\u001b[0m \u001b[32m━━━━━━━━━━━━━━━━━━━━\u001b[0m\u001b[37m\u001b[0m \u001b[1m234s\u001b[0m 2s/step - accuracy: 0.9567 - loss: 0.1256 - val_accuracy: 0.1800 - val_loss: 2.7618\n",
      "Epoch 5/50\n",
      "\u001b[1m125/125\u001b[0m \u001b[32m━━━━━━━━━━━━━━━━━━━━\u001b[0m\u001b[37m\u001b[0m \u001b[1m231s\u001b[0m 2s/step - accuracy: 0.9724 - loss: 0.0896 - val_accuracy: 0.2000 - val_loss: 3.2344\n",
      "Epoch 6/50\n",
      "\u001b[1m125/125\u001b[0m \u001b[32m━━━━━━━━━━━━━━━━━━━━\u001b[0m\u001b[37m\u001b[0m \u001b[1m233s\u001b[0m 2s/step - accuracy: 0.9825 - loss: 0.0621 - val_accuracy: 0.2180 - val_loss: 3.7144\n",
      "Epoch 7/50\n",
      "\u001b[1m125/125\u001b[0m \u001b[32m━━━━━━━━━━━━━━━━━━━━\u001b[0m\u001b[37m\u001b[0m \u001b[1m230s\u001b[0m 2s/step - accuracy: 0.9906 - loss: 0.0406 - val_accuracy: 0.2210 - val_loss: 4.1841\n",
      "Epoch 8/50\n",
      "\u001b[1m125/125\u001b[0m \u001b[32m━━━━━━━━━━━━━━━━━━━━\u001b[0m\u001b[37m\u001b[0m \u001b[1m232s\u001b[0m 2s/step - accuracy: 0.9971 - loss: 0.0237 - val_accuracy: 0.2220 - val_loss: 4.5642\n",
      "Epoch 9/50\n",
      "\u001b[1m125/125\u001b[0m \u001b[32m━━━━━━━━━━━━━━━━━━━━\u001b[0m\u001b[37m\u001b[0m \u001b[1m231s\u001b[0m 2s/step - accuracy: 0.9983 - loss: 0.0162 - val_accuracy: 0.2250 - val_loss: 4.9214\n"
     ]
    }
   ],
   "source": [
    "from tensorflow.keras.applications import ResNet50\n",
    "from tensorflow.keras.models import Model\n",
    "from tensorflow.keras.layers import Dense, GlobalAveragePooling2D, Input\n",
    "from tensorflow.keras.optimizers import Adam\n",
    "from tensorflow.keras.callbacks import EarlyStopping\n",
    "\n",
    "# Load the base model\n",
    "base_model = ResNet50(input_shape=(128, 128, 3), include_top=False, weights='imagenet')\n",
    "base_model.trainable = False  # Freeze base model\n",
    "\n",
    "# Add custom classification head\n",
    "inputs = Input(shape=(128, 128, 3))\n",
    "x = base_model(inputs, training=False)\n",
    "x = GlobalAveragePooling2D()(x)\n",
    "x = Dense(64, activation='relu')(x)\n",
    "outputs = Dense(1, activation='sigmoid')(x)  # Binary classification\n",
    "model = Model(inputs, outputs)\n",
    "\n",
    "# Compile model\n",
    "model.compile(optimizer=Adam(learning_rate=0.001),\n",
    "              loss='binary_crossentropy',\n",
    "              metrics=['accuracy'])\n",
    "\n",
    "# Train top layers first\n",
    "history = model.fit(train_image_ds,\n",
    "                    validation_data=val_image_ds,\n",
    "                    epochs=100,\n",
    "                    callbacks=[EarlyStopping(patience=15, restore_best_weights=True)])\n",
    "\n",
    "# Unfreeze and fine-tune\n",
    "base_model.trainable = True\n",
    "model.compile(optimizer=Adam(learning_rate=1e-5),\n",
    "              loss='binary_crossentropy',\n",
    "              metrics=['accuracy'])\n",
    "\n",
    "# Fine-tune the whole model\n",
    "history_finetune = model.fit(train_image_ds,\n",
    "                             validation_data=val_image_ds,\n",
    "                             epochs=50,\n",
    "                             callbacks=[EarlyStopping(patience=8, restore_best_weights=True)])\n"
   ]
  },
  {
   "cell_type": "markdown",
   "id": "68349ad2",
   "metadata": {},
   "source": [
    "## Model Evaluation on Test Set\n",
    "\n",
    "We evaluate the model on the hold-out test set and display the classification report and confusion matrix. This helps assess performance on previously unseen data."
   ]
  },
  {
   "cell_type": "code",
   "execution_count": 16,
   "id": "3b1c1dde-0529-4e52-812d-12e1b830239c",
   "metadata": {},
   "outputs": [
    {
     "name": "stdout",
     "output_type": "stream",
     "text": [
      "\u001b[1m759/759\u001b[0m \u001b[32m━━━━━━━━━━━━━━━━━━━━\u001b[0m\u001b[37m\u001b[0m \u001b[1m307s\u001b[0m 403ms/step - accuracy: 0.3041 - loss: 1.7867\n",
      "Test accuracy: 0.1267\n"
     ]
    }
   ],
   "source": [
    "test_loss, test_accuracy = model.evaluate(test_image_ds)\n",
    "print(f\"Test accuracy: {test_accuracy:.4f}\")"
   ]
  },
  {
   "cell_type": "code",
   "execution_count": 17,
   "id": "7d620d35-1b2f-4be5-bc54-60dc41df0650",
   "metadata": {},
   "outputs": [
    {
     "name": "stdout",
     "output_type": "stream",
     "text": [
      "\u001b[1m759/759\u001b[0m \u001b[32m━━━━━━━━━━━━━━━━━━━━\u001b[0m\u001b[37m\u001b[0m \u001b[1m301s\u001b[0m 396ms/step\n"
     ]
    }
   ],
   "source": [
    "y_pred_probs = model.predict(test_image_ds)\n",
    "y_pred = np.round(y_pred_probs).astype(int)"
   ]
  },
  {
   "cell_type": "code",
   "execution_count": 18,
   "id": "0977fdea-802f-41f1-9127-db13cff3d8f0",
   "metadata": {},
   "outputs": [],
   "source": [
    "y_true = np.array(test_labels_sorted)"
   ]
  },
  {
   "cell_type": "code",
   "execution_count": 19,
   "id": "7959f465-046c-431c-afad-3a97a6f13f32",
   "metadata": {},
   "outputs": [
    {
     "data": {
      "text/plain": [
       "<sklearn.metrics._plot.confusion_matrix.ConfusionMatrixDisplay at 0x3138eee10>"
      ]
     },
     "execution_count": 19,
     "metadata": {},
     "output_type": "execute_result"
    },
    {
     "data": {
      "image/png": "[encoded data removed]",
      "text/plain": [
       "<Figure size 640x480 with 2 Axes>"
      ]
     },
     "metadata": {},
     "output_type": "display_data"
    }
   ],
   "source": [
    "from sklearn.metrics import classification_report, confusion_matrix, ConfusionMatrixDisplay\n",
    "\n",
    "# Confusion matrix\n",
    "cm = confusion_matrix(y_true, y_pred)\n",
    "disp = ConfusionMatrixDisplay(confusion_matrix=cm, display_labels=['Benign', 'Malignant'])\n",
    "disp.plot(cmap='Blues',values_format='d')\n"
   ]
  },
  {
   "cell_type": "code",
   "execution_count": 20,
   "id": "360f3c10-2524-4608-9fbc-d521f536ad43",
   "metadata": {},
   "outputs": [
    {
     "name": "stdout",
     "output_type": "stream",
     "text": [
      "              precision    recall  f1-score   support\n",
      "\n",
      "      Benign       0.96      0.10      0.18     46727\n",
      "   Malignant       0.04      0.90      0.07      1826\n",
      "\n",
      "    accuracy                           0.13     48553\n",
      "   macro avg       0.50      0.50      0.12     48553\n",
      "weighted avg       0.93      0.13      0.17     48553\n",
      "\n"
     ]
    }
   ],
   "source": [
    "print(classification_report(y_true, y_pred, target_names=['Benign', 'Malignant']))"
   ]
  },
  {
   "cell_type": "markdown",
   "id": "38673476",
   "metadata": {},
   "source": [
    "## ROC Curve and AUC\n",
    "We compute and plot the ROC curve and AUC to evaluate the model’s ability to distinguish between benign and malignant lesions.\n"
   ]
  },
  {
   "cell_type": "code",
   "execution_count": null,
   "id": "a2c74f5f-2efb-45a2-85c4-9837db3196be",
   "metadata": {},
   "outputs": [],
   "source": [
    "from sklearn.metrics import roc_auc_score\n",
    "\n",
    "\n",
    "auc = roc_auc_score(y_true, y_pred_probs)\n",
    "print(f\"AUC: {auc:.4f}\")\n"
   ]
  },
  {
   "cell_type": "code",
   "execution_count": null,
   "id": "8ebbdfb3-776c-454a-a954-35145c8379a0",
   "metadata": {},
   "outputs": [],
   "source": [
    "from sklearn.metrics import roc_curve\n",
    "import matplotlib.pyplot as plt\n",
    "\n",
    "# Get FPR (false positive rate), TPR (true positive rate), and thresholds\n",
    "fpr, tpr, thresholds = roc_curve(y_true, y_pred_probs)\n",
    "\n",
    "# Plot\n",
    "plt.figure()\n",
    "plt.plot(fpr, tpr, label=f\"AUC = {auc:.4f}\")\n",
    "plt.plot([0, 1], [0, 1], 'k--', label=\"Random\")\n",
    "plt.xlabel(\"False Positive Rate\")\n",
    "plt.ylabel(\"True Positive Rate\")\n",
    "plt.title(\"ROC Curve\")\n",
    "plt.legend(loc=\"lower right\")\n",
    "plt.grid(True)\n",
    "plt.show()\n"
   ]
  },
  {
   "cell_type": "markdown",
   "id": "ff1dcbb0",
   "metadata": {},
   "source": [
    "## Confusion Matrix on Validation Set\n",
    "We evaluate model predictions on the validation set and display a confusion matrix to identify misclassifications.\n"
   ]
  },
  {
   "cell_type": "code",
   "execution_count": 21,
   "id": "5a82b1af-c820-4ae7-91c9-0d4ebd1ff56d",
   "metadata": {},
   "outputs": [
    {
     "name": "stderr",
     "output_type": "stream",
     "text": [
      "2025-05-13 16:50:48.663873: I tensorflow/core/framework/local_rendezvous.cc:407] Local rendezvous is aborting with status: OUT_OF_RANGE: End of sequence\n"
     ]
    },
    {
     "data": {
      "image/png": "[encoded data removed]",
      "text/plain": [
       "<Figure size 640x480 with 2 Axes>"
      ]
     },
     "metadata": {},
     "output_type": "display_data"
    }
   ],
   "source": [
    "import matplotlib.pyplot as plt\n",
    "y_true = []\n",
    "y_pred = []\n",
    "\n",
    "# Loop through the shuffled dataset in the same order used for prediction\n",
    "for images, labels in val_image_ds:\n",
    "    preds = model.predict(images, verbose=0)\n",
    "    y_pred.extend(np.round(preds).astype(int).flatten())  # or np.argmax if softmax\n",
    "    y_true.extend(labels.numpy())\n",
    "\n",
    "y_true = np.array(y_true)\n",
    "y_pred = np.array(y_pred)\n",
    "\n",
    "# Confusion Matrix\n",
    "from sklearn.metrics import confusion_matrix, ConfusionMatrixDisplay\n",
    "cm = confusion_matrix(y_true, y_pred)\n",
    "disp = ConfusionMatrixDisplay(confusion_matrix=cm, display_labels=['Benign', 'Malignant'])\n",
    "disp.plot(cmap='Blues', values_format='d')\n",
    "plt.show()"
   ]
  },
  {
   "cell_type": "code",
   "execution_count": 22,
   "id": "1987c56a-9313-4008-88d9-2ece8081556b",
   "metadata": {},
   "outputs": [
    {
     "name": "stdout",
     "output_type": "stream",
     "text": [
      "\u001b[1m16/16\u001b[0m \u001b[32m━━━━━━━━━━━━━━━━━━━━\u001b[0m\u001b[37m\u001b[0m \u001b[1m6s\u001b[0m 371ms/step - accuracy: 0.1259 - loss: 2.2091\n"
     ]
    }
   ],
   "source": [
    "test_loss, test_accuracy = model.evaluate(val_image_ds)"
   ]
  },
  {
   "cell_type": "markdown",
   "id": "62b691c0",
   "metadata": {},
   "source": [
    "## Save Trained Model\n",
    "\n",
    "We save the trained model to disk for future inference or fine-tuning."
   ]
  },
  {
   "cell_type": "code",
   "execution_count": 23,
   "id": "badc6407-655a-4c66-8b2a-56dbdc366bbe",
   "metadata": {},
   "outputs": [],
   "source": [
    "model.save('model_5000.keras')"
   ]
  },
  {
   "cell_type": "markdown",
   "id": "c189f8e2",
   "metadata": {},
   "source": [
    "### Find Best Threshold\n",
    "\n",
    "We evaluate multiple classification thresholds using the F1-score and choose the best one to optimize performance on the test set."
   ]
  },
  {
   "cell_type": "code",
   "execution_count": 24,
   "id": "c5ae4588-992e-4d19-9cd0-1af3b99cbd8e",
   "metadata": {},
   "outputs": [
    {
     "name": "stderr",
     "output_type": "stream",
     "text": [
      "2025-05-13 16:51:02.014395: I tensorflow/core/framework/local_rendezvous.cc:407] Local rendezvous is aborting with status: OUT_OF_RANGE: End of sequence\n"
     ]
    }
   ],
   "source": [
    "import numpy as np\n",
    "\n",
    "# Get predictions and true labels from val_image_ds\n",
    "y_probs = []\n",
    "y_true = []\n",
    "\n",
    "for images, labels in val_image_ds:\n",
    "    preds = model.predict(images, verbose=0).flatten()  # shape (batch_size,)\n",
    "    y_probs.extend(preds)\n",
    "    y_true.extend(labels.numpy())\n",
    "\n",
    "y_probs = np.array(y_probs)\n",
    "y_true = np.array(y_true)\n"
   ]
  },
  {
   "cell_type": "code",
   "execution_count": 25,
   "id": "3b039217-1ee1-4fad-8a07-c61ef8bdd739",
   "metadata": {},
   "outputs": [
    {
     "name": "stdout",
     "output_type": "stream",
     "text": [
      "Best threshold: 0.99, F1-score: 0.1200\n"
     ]
    }
   ],
   "source": [
    "from sklearn.metrics import f1_score\n",
    "\n",
    "thresholds = np.linspace(0, 1, 100)\n",
    "f1_scores = []\n",
    "\n",
    "for thresh in thresholds:\n",
    "    y_pred = (y_probs > thresh).astype(int)\n",
    "    f1_scores.append(f1_score(y_true, y_pred))\n",
    "\n",
    "best_thresh = thresholds[np.argmax(f1_scores)]\n",
    "print(f\"Best threshold: {best_thresh:.2f}, F1-score: {max(f1_scores):.4f}\")\n"
   ]
  },
  {
   "cell_type": "code",
   "execution_count": 26,
   "id": "d8ed2dbb-9972-4e77-b99f-4da2ff0d2e47",
   "metadata": {},
   "outputs": [
    {
     "name": "stdout",
     "output_type": "stream",
     "text": [
      "\u001b[1m759/759\u001b[0m \u001b[32m━━━━━━━━━━━━━━━━━━━━\u001b[0m\u001b[37m\u001b[0m \u001b[1m302s\u001b[0m 397ms/step\n"
     ]
    }
   ],
   "source": [
    "y_pred_probs = model.predict(test_image_ds)\n",
    "y_test_pred = (y_pred_probs > best_thresh).astype(int)\n"
   ]
  },
  {
   "cell_type": "code",
   "execution_count": 27,
   "id": "a7dcba3b-0958-4f88-8f1a-ac9ecc349316",
   "metadata": {},
   "outputs": [],
   "source": [
    "y_true = np.array(test_labels_sorted)"
   ]
  },
  {
   "cell_type": "code",
   "execution_count": 28,
   "id": "6c31e115-7dc5-4984-9d70-f845894615ed",
   "metadata": {},
   "outputs": [
    {
     "data": {
      "text/plain": [
       "<sklearn.metrics._plot.confusion_matrix.ConfusionMatrixDisplay at 0x323276dd0>"
      ]
     },
     "execution_count": 28,
     "metadata": {},
     "output_type": "execute_result"
    },
    {
     "data": {
      "image/png": "[encoded data removed]",
      "text/plain": [
       "<Figure size 640x480 with 2 Axes>"
      ]
     },
     "metadata": {},
     "output_type": "display_data"
    }
   ],
   "source": [
    "cm = confusion_matrix(y_true, y_test_pred)\n",
    "disp = ConfusionMatrixDisplay(confusion_matrix=cm, display_labels=['Benign', 'Malignant'])\n",
    "disp.plot(cmap='Blues',values_format='d')"
   ]
  },
  {
   "cell_type": "code",
   "execution_count": null,
   "id": "f3944dd3-130a-4c91-ab85-e3f1658d0e08",
   "metadata": {},
   "outputs": [],
   "source": []
  }
 ],
 "metadata": {
  "kernelspec": {
   "display_name": "Python 3 (ipykernel)",
   "language": "python",
   "name": "python3"
  },
  "language_info": {
   "codemirror_mode": {
    "name": "ipython",
    "version": 3
   },
   "file_extension": ".py",
   "mimetype": "text/x-python",
   "name": "python",
   "nbconvert_exporter": "python",
   "pygments_lexer": "ipython3",
   "version": "3.11.5"
  }
 },
 "nbformat": 4,
 "nbformat_minor": 5
}
