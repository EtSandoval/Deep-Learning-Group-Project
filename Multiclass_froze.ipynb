{
 "cells": [
  {
   "cell_type": "code",
   "execution_count": 1,
   "id": "134513bb-6ec1-4e19-892b-0b45b766b299",
   "metadata": {},
   "outputs": [],
   "source": [
    "import tensorflow as tf\n",
    "from tensorflow import keras\n",
    "from tensorflow.keras import layers\n",
    "import pandas as pd\n",
    "import numpy as np\n",
    "import glob\n",
    "import os\n",
    "import sklearn.model_selection"
   ]
  },
  {
   "cell_type": "code",
   "execution_count": 2,
   "id": "47321e5e-7369-4734-bad7-ef1044205635",
   "metadata": {},
   "outputs": [
    {
     "name": "stderr",
     "output_type": "stream",
     "text": [
      "/var/folders/0b/33n254b510726mq07nrfcfbw0000gn/T/ipykernel_10153/3712885323.py:1: DtypeWarning: Columns (6,9,10,11,13,14,15,16,17,18,19,22,23,25,26,27,28,30,35) have mixed types. Specify dtype option on import or set low_memory=False.\n",
      "  metadata = pd.read_csv('metadata.csv')\n"
     ]
    }
   ],
   "source": [
    "\n",
    "metadata = pd.read_csv('metadata.csv')\n",
    "metadata = metadata[['isic_id','age_approx','clin_size_long_diam_mm','sex','diagnosis_1', 'diagnosis']]\n",
    "# encode columns\n",
    "metadata['sex'] = metadata['sex'].map({'male': 0, 'female': 1})\n",
    "\n",
    "metadata['benignORmalignant'] = metadata['diagnosis_1']\n",
    "metadata['diagnosis_1'] = metadata['diagnosis_1'].map({'Benign': 0, 'Malignant': 1})\n",
    "\n",
    "# missing values\n",
    "metadata['age_approx'] = metadata['age_approx'].fillna(metadata['age_approx'].mean())\n",
    "metadata['clin_size_long_diam_mm'] = metadata['clin_size_long_diam_mm'].fillna(metadata['clin_size_long_diam_mm'].mean())\n",
    "metadata = metadata.dropna()\n",
    "\n",
    "# Create filename field\n",
    "metadata['filename'] = metadata['isic_id'].astype(str) + '.jpg'\n"
   ]
  },
  {
   "cell_type": "code",
   "execution_count": 3,
   "id": "ab3d963b",
   "metadata": {},
   "outputs": [],
   "source": [
    "metadata = metadata[metadata['benignORmalignant'] != 'Indeterminate']"
   ]
  },
  {
   "cell_type": "code",
   "execution_count": 4,
   "id": "4393dc5c",
   "metadata": {},
   "outputs": [
    {
     "data": {
      "text/html": [
       "<div>\n",
       "<style scoped>\n",
       "    .dataframe tbody tr th:only-of-type {\n",
       "        vertical-align: middle;\n",
       "    }\n",
       "\n",
       "    .dataframe tbody tr th {\n",
       "        vertical-align: top;\n",
       "    }\n",
       "\n",
       "    .dataframe thead th {\n",
       "        text-align: right;\n",
       "    }\n",
       "</style>\n",
       "<table border=\"1\" class=\"dataframe\">\n",
       "  <thead>\n",
       "    <tr style=\"text-align: right;\">\n",
       "      <th></th>\n",
       "      <th>isic_id</th>\n",
       "      <th>age_approx</th>\n",
       "      <th>clin_size_long_diam_mm</th>\n",
       "      <th>sex</th>\n",
       "      <th>diagnosis_1</th>\n",
       "      <th>diagnosis</th>\n",
       "      <th>benignORmalignant</th>\n",
       "      <th>filename</th>\n",
       "    </tr>\n",
       "  </thead>\n",
       "  <tbody>\n",
       "    <tr>\n",
       "      <th>3012</th>\n",
       "      <td>ISIC_7559201</td>\n",
       "      <td>55.0</td>\n",
       "      <td>6.6</td>\n",
       "      <td>1.0</td>\n",
       "      <td>0.0</td>\n",
       "      <td>nevus</td>\n",
       "      <td>Benign</td>\n",
       "      <td>ISIC_7559201.jpg</td>\n",
       "    </tr>\n",
       "    <tr>\n",
       "      <th>3014</th>\n",
       "      <td>ISIC_5257439</td>\n",
       "      <td>40.0</td>\n",
       "      <td>4.2</td>\n",
       "      <td>1.0</td>\n",
       "      <td>0.0</td>\n",
       "      <td>nevus</td>\n",
       "      <td>Benign</td>\n",
       "      <td>ISIC_5257439.jpg</td>\n",
       "    </tr>\n",
       "    <tr>\n",
       "      <th>3017</th>\n",
       "      <td>ISIC_0469776</td>\n",
       "      <td>50.0</td>\n",
       "      <td>3.9</td>\n",
       "      <td>1.0</td>\n",
       "      <td>0.0</td>\n",
       "      <td>nevus</td>\n",
       "      <td>Benign</td>\n",
       "      <td>ISIC_0469776.jpg</td>\n",
       "    </tr>\n",
       "    <tr>\n",
       "      <th>3020</th>\n",
       "      <td>ISIC_1648650</td>\n",
       "      <td>40.0</td>\n",
       "      <td>4.2</td>\n",
       "      <td>1.0</td>\n",
       "      <td>0.0</td>\n",
       "      <td>nevus</td>\n",
       "      <td>Benign</td>\n",
       "      <td>ISIC_1648650.jpg</td>\n",
       "    </tr>\n",
       "    <tr>\n",
       "      <th>3021</th>\n",
       "      <td>ISIC_7529219</td>\n",
       "      <td>30.0</td>\n",
       "      <td>6.6</td>\n",
       "      <td>1.0</td>\n",
       "      <td>0.0</td>\n",
       "      <td>nevus</td>\n",
       "      <td>Benign</td>\n",
       "      <td>ISIC_7529219.jpg</td>\n",
       "    </tr>\n",
       "  </tbody>\n",
       "</table>\n",
       "</div>"
      ],
      "text/plain": [
       "           isic_id  age_approx  clin_size_long_diam_mm  sex  diagnosis_1  \\\n",
       "3012  ISIC_7559201        55.0                     6.6  1.0          0.0   \n",
       "3014  ISIC_5257439        40.0                     4.2  1.0          0.0   \n",
       "3017  ISIC_0469776        50.0                     3.9  1.0          0.0   \n",
       "3020  ISIC_1648650        40.0                     4.2  1.0          0.0   \n",
       "3021  ISIC_7529219        30.0                     6.6  1.0          0.0   \n",
       "\n",
       "     diagnosis benignORmalignant          filename  \n",
       "3012     nevus            Benign  ISIC_7559201.jpg  \n",
       "3014     nevus            Benign  ISIC_5257439.jpg  \n",
       "3017     nevus            Benign  ISIC_0469776.jpg  \n",
       "3020     nevus            Benign  ISIC_1648650.jpg  \n",
       "3021     nevus            Benign  ISIC_7529219.jpg  "
      ]
     },
     "execution_count": 4,
     "metadata": {},
     "output_type": "execute_result"
    }
   ],
   "source": [
    "metadata.head()"
   ]
  },
  {
   "cell_type": "code",
   "execution_count": 5,
   "id": "37556880",
   "metadata": {},
   "outputs": [],
   "source": [
    "diag1_malignant_df = metadata[metadata['benignORmalignant']=='Malignant']"
   ]
  },
  {
   "cell_type": "code",
   "execution_count": 6,
   "id": "327cd5b1",
   "metadata": {},
   "outputs": [
    {
     "data": {
      "text/html": [
       "<div>\n",
       "<style scoped>\n",
       "    .dataframe tbody tr th:only-of-type {\n",
       "        vertical-align: middle;\n",
       "    }\n",
       "\n",
       "    .dataframe tbody tr th {\n",
       "        vertical-align: top;\n",
       "    }\n",
       "\n",
       "    .dataframe thead th {\n",
       "        text-align: right;\n",
       "    }\n",
       "</style>\n",
       "<table border=\"1\" class=\"dataframe\">\n",
       "  <thead>\n",
       "    <tr style=\"text-align: right;\">\n",
       "      <th></th>\n",
       "      <th>isic_id</th>\n",
       "      <th>age_approx</th>\n",
       "      <th>clin_size_long_diam_mm</th>\n",
       "      <th>sex</th>\n",
       "      <th>diagnosis_1</th>\n",
       "      <th>diagnosis</th>\n",
       "      <th>benignORmalignant</th>\n",
       "      <th>filename</th>\n",
       "    </tr>\n",
       "  </thead>\n",
       "  <tbody>\n",
       "    <tr>\n",
       "      <th>3025</th>\n",
       "      <td>ISIC_7244280</td>\n",
       "      <td>65.0</td>\n",
       "      <td>8.7</td>\n",
       "      <td>1.0</td>\n",
       "      <td>1.0</td>\n",
       "      <td>melanoma</td>\n",
       "      <td>Malignant</td>\n",
       "      <td>ISIC_7244280.jpg</td>\n",
       "    </tr>\n",
       "    <tr>\n",
       "      <th>3046</th>\n",
       "      <td>ISIC_5054247</td>\n",
       "      <td>65.0</td>\n",
       "      <td>8.7</td>\n",
       "      <td>1.0</td>\n",
       "      <td>1.0</td>\n",
       "      <td>melanoma</td>\n",
       "      <td>Malignant</td>\n",
       "      <td>ISIC_5054247.jpg</td>\n",
       "    </tr>\n",
       "    <tr>\n",
       "      <th>3053</th>\n",
       "      <td>ISIC_6683697</td>\n",
       "      <td>65.0</td>\n",
       "      <td>8.7</td>\n",
       "      <td>1.0</td>\n",
       "      <td>1.0</td>\n",
       "      <td>melanoma</td>\n",
       "      <td>Malignant</td>\n",
       "      <td>ISIC_6683697.jpg</td>\n",
       "    </tr>\n",
       "    <tr>\n",
       "      <th>3055</th>\n",
       "      <td>ISIC_1633321</td>\n",
       "      <td>80.0</td>\n",
       "      <td>10.1</td>\n",
       "      <td>0.0</td>\n",
       "      <td>1.0</td>\n",
       "      <td>melanoma</td>\n",
       "      <td>Malignant</td>\n",
       "      <td>ISIC_1633321.jpg</td>\n",
       "    </tr>\n",
       "    <tr>\n",
       "      <th>3061</th>\n",
       "      <td>ISIC_8353193</td>\n",
       "      <td>65.0</td>\n",
       "      <td>8.7</td>\n",
       "      <td>1.0</td>\n",
       "      <td>1.0</td>\n",
       "      <td>melanoma</td>\n",
       "      <td>Malignant</td>\n",
       "      <td>ISIC_8353193.jpg</td>\n",
       "    </tr>\n",
       "  </tbody>\n",
       "</table>\n",
       "</div>"
      ],
      "text/plain": [
       "           isic_id  age_approx  clin_size_long_diam_mm  sex  diagnosis_1  \\\n",
       "3025  ISIC_7244280        65.0                     8.7  1.0          1.0   \n",
       "3046  ISIC_5054247        65.0                     8.7  1.0          1.0   \n",
       "3053  ISIC_6683697        65.0                     8.7  1.0          1.0   \n",
       "3055  ISIC_1633321        80.0                    10.1  0.0          1.0   \n",
       "3061  ISIC_8353193        65.0                     8.7  1.0          1.0   \n",
       "\n",
       "     diagnosis benignORmalignant          filename  \n",
       "3025  melanoma         Malignant  ISIC_7244280.jpg  \n",
       "3046  melanoma         Malignant  ISIC_5054247.jpg  \n",
       "3053  melanoma         Malignant  ISIC_6683697.jpg  \n",
       "3055  melanoma         Malignant  ISIC_1633321.jpg  \n",
       "3061  melanoma         Malignant  ISIC_8353193.jpg  "
      ]
     },
     "execution_count": 6,
     "metadata": {},
     "output_type": "execute_result"
    }
   ],
   "source": [
    "diag1_malignant_df.head()"
   ]
  },
  {
   "cell_type": "code",
   "execution_count": 7,
   "id": "fd60763c",
   "metadata": {},
   "outputs": [
    {
     "data": {
      "text/plain": [
       "diagnosis\n",
       "melanoma                   8752\n",
       "basal cell carcinoma       5901\n",
       "squamous cell carcinoma    1575\n",
       "melanoma metastasis         687\n",
       "seborrheic keratosis         17\n",
       "solar lentigo                 5\n",
       "Name: count, dtype: int64"
      ]
     },
     "execution_count": 7,
     "metadata": {},
     "output_type": "execute_result"
    }
   ],
   "source": [
    "diag1_malignant_df['diagnosis'].value_counts()"
   ]
  },
  {
   "cell_type": "code",
   "execution_count": 8,
   "id": "e2a21c24-8fca-4f42-afaf-f9bb3e73f84f",
   "metadata": {},
   "outputs": [
    {
     "data": {
      "text/plain": [
       "diagnosis\n",
       "nevus                             36708\n",
       "melanoma                           8752\n",
       "basal cell carcinoma               5901\n",
       "seborrheic keratosis               2364\n",
       "squamous cell carcinoma            1575\n",
       "pigmented benign keratosis         1254\n",
       "melanoma metastasis                 687\n",
       "solar lentigo                       659\n",
       "dermatofibroma                      447\n",
       "scar                                385\n",
       "vascular lesion                     372\n",
       "lichenoid keratosis                 331\n",
       "acrochordon                         302\n",
       "lentigo NOS                         275\n",
       "verruca                             117\n",
       "angioma                              71\n",
       "lentigo simplex                      54\n",
       "other                                35\n",
       "neurofibroma                         26\n",
       "angiokeratoma                        11\n",
       "sebaceous hyperplasia                 7\n",
       "angiofibroma or fibrous papule        6\n",
       "clear cell acanthoma                  6\n",
       "adnexal tumor                         3\n",
       "pyogenic granuloma                    3\n",
       "cafe-au-lait macule                   2\n",
       "sebaceous adenoma                     2\n",
       "mucosal melanosis                     2\n",
       "nevus spilus                          1\n",
       "Name: count, dtype: int64"
      ]
     },
     "execution_count": 8,
     "metadata": {},
     "output_type": "execute_result"
    }
   ],
   "source": [
    "metadata['diagnosis'].value_counts()\n",
    "#drop malignant AND have these: 'seborrheic keratosis', 'solar lentigo', 'other' \n",
    "# where malignant in diagnosis_1, use diagnosis value"
   ]
  },
  {
   "cell_type": "code",
   "execution_count": 9,
   "id": "97aa68ab",
   "metadata": {},
   "outputs": [
    {
     "data": {
      "text/plain": [
       "benignORmalignant\n",
       "Benign       43421\n",
       "Malignant    16937\n",
       "Name: count, dtype: int64"
      ]
     },
     "execution_count": 9,
     "metadata": {},
     "output_type": "execute_result"
    }
   ],
   "source": [
    "metadata['benignORmalignant'].value_counts()"
   ]
  },
  {
   "cell_type": "code",
   "execution_count": 10,
   "id": "d0de0042",
   "metadata": {},
   "outputs": [],
   "source": [
    "# Drop rows where diagnosis_1 is 'Malignant' AND diagnosis is in the specified list\n",
    "metadata = metadata[~((metadata['benignORmalignant'] == 'Malignant') & \n",
    "                       (metadata['diagnosis'].isin(['seborrheic keratosis', 'solar lentigo', 'other'])))]"
   ]
  },
  {
   "cell_type": "code",
   "execution_count": 11,
   "id": "5b65caac",
   "metadata": {},
   "outputs": [],
   "source": [
    "metadata['target'] = metadata['benignORmalignant'].apply(lambda x: 'Benign' if x == 'Benign' else np.nan)"
   ]
  },
  {
   "cell_type": "code",
   "execution_count": 12,
   "id": "4ec07105",
   "metadata": {},
   "outputs": [],
   "source": [
    "metadata['target'] = metadata.apply(\n",
    "    lambda row: row['diagnosis'] if row['benignORmalignant'] == 'Malignant' else row['target'], \n",
    "    axis=1\n",
    ")"
   ]
  },
  {
   "cell_type": "code",
   "execution_count": 13,
   "id": "d3fe6449",
   "metadata": {},
   "outputs": [
    {
     "data": {
      "text/plain": [
       "target\n",
       "Benign                     43421\n",
       "melanoma                    8752\n",
       "basal cell carcinoma        5901\n",
       "squamous cell carcinoma     1575\n",
       "melanoma metastasis          687\n",
       "Name: count, dtype: int64"
      ]
     },
     "execution_count": 13,
     "metadata": {},
     "output_type": "execute_result"
    }
   ],
   "source": [
    "metadata['target'].value_counts()"
   ]
  },
  {
   "cell_type": "code",
   "execution_count": 14,
   "id": "6d60ceeb",
   "metadata": {},
   "outputs": [
    {
     "data": {
      "text/plain": [
       "0"
      ]
     },
     "execution_count": 14,
     "metadata": {},
     "output_type": "execute_result"
    }
   ],
   "source": [
    "metadata['target'].isna().sum()"
   ]
  },
  {
   "cell_type": "code",
   "execution_count": 15,
   "id": "e6cd3a72",
   "metadata": {},
   "outputs": [],
   "source": [
    "metadata_encoded = pd.get_dummies(metadata, columns=['target'])\n",
    "bool_cols = metadata_encoded.select_dtypes(bool).columns\n",
    "metadata_encoded[bool_cols] = metadata_encoded[bool_cols].astype(int)"
   ]
  },
  {
   "cell_type": "code",
   "execution_count": 16,
   "id": "1f9b0fab",
   "metadata": {},
   "outputs": [
    {
     "data": {
      "text/html": [
       "<div>\n",
       "<style scoped>\n",
       "    .dataframe tbody tr th:only-of-type {\n",
       "        vertical-align: middle;\n",
       "    }\n",
       "\n",
       "    .dataframe tbody tr th {\n",
       "        vertical-align: top;\n",
       "    }\n",
       "\n",
       "    .dataframe thead th {\n",
       "        text-align: right;\n",
       "    }\n",
       "</style>\n",
       "<table border=\"1\" class=\"dataframe\">\n",
       "  <thead>\n",
       "    <tr style=\"text-align: right;\">\n",
       "      <th></th>\n",
       "      <th>isic_id</th>\n",
       "      <th>age_approx</th>\n",
       "      <th>clin_size_long_diam_mm</th>\n",
       "      <th>sex</th>\n",
       "      <th>diagnosis_1</th>\n",
       "      <th>diagnosis</th>\n",
       "      <th>benignORmalignant</th>\n",
       "      <th>filename</th>\n",
       "      <th>target_Benign</th>\n",
       "      <th>target_basal cell carcinoma</th>\n",
       "      <th>target_melanoma</th>\n",
       "      <th>target_melanoma metastasis</th>\n",
       "      <th>target_squamous cell carcinoma</th>\n",
       "    </tr>\n",
       "  </thead>\n",
       "  <tbody>\n",
       "    <tr>\n",
       "      <th>3012</th>\n",
       "      <td>ISIC_7559201</td>\n",
       "      <td>55.0</td>\n",
       "      <td>6.6</td>\n",
       "      <td>1.0</td>\n",
       "      <td>0.0</td>\n",
       "      <td>nevus</td>\n",
       "      <td>Benign</td>\n",
       "      <td>ISIC_7559201.jpg</td>\n",
       "      <td>1</td>\n",
       "      <td>0</td>\n",
       "      <td>0</td>\n",
       "      <td>0</td>\n",
       "      <td>0</td>\n",
       "    </tr>\n",
       "    <tr>\n",
       "      <th>3014</th>\n",
       "      <td>ISIC_5257439</td>\n",
       "      <td>40.0</td>\n",
       "      <td>4.2</td>\n",
       "      <td>1.0</td>\n",
       "      <td>0.0</td>\n",
       "      <td>nevus</td>\n",
       "      <td>Benign</td>\n",
       "      <td>ISIC_5257439.jpg</td>\n",
       "      <td>1</td>\n",
       "      <td>0</td>\n",
       "      <td>0</td>\n",
       "      <td>0</td>\n",
       "      <td>0</td>\n",
       "    </tr>\n",
       "    <tr>\n",
       "      <th>3017</th>\n",
       "      <td>ISIC_0469776</td>\n",
       "      <td>50.0</td>\n",
       "      <td>3.9</td>\n",
       "      <td>1.0</td>\n",
       "      <td>0.0</td>\n",
       "      <td>nevus</td>\n",
       "      <td>Benign</td>\n",
       "      <td>ISIC_0469776.jpg</td>\n",
       "      <td>1</td>\n",
       "      <td>0</td>\n",
       "      <td>0</td>\n",
       "      <td>0</td>\n",
       "      <td>0</td>\n",
       "    </tr>\n",
       "    <tr>\n",
       "      <th>3020</th>\n",
       "      <td>ISIC_1648650</td>\n",
       "      <td>40.0</td>\n",
       "      <td>4.2</td>\n",
       "      <td>1.0</td>\n",
       "      <td>0.0</td>\n",
       "      <td>nevus</td>\n",
       "      <td>Benign</td>\n",
       "      <td>ISIC_1648650.jpg</td>\n",
       "      <td>1</td>\n",
       "      <td>0</td>\n",
       "      <td>0</td>\n",
       "      <td>0</td>\n",
       "      <td>0</td>\n",
       "    </tr>\n",
       "    <tr>\n",
       "      <th>3021</th>\n",
       "      <td>ISIC_7529219</td>\n",
       "      <td>30.0</td>\n",
       "      <td>6.6</td>\n",
       "      <td>1.0</td>\n",
       "      <td>0.0</td>\n",
       "      <td>nevus</td>\n",
       "      <td>Benign</td>\n",
       "      <td>ISIC_7529219.jpg</td>\n",
       "      <td>1</td>\n",
       "      <td>0</td>\n",
       "      <td>0</td>\n",
       "      <td>0</td>\n",
       "      <td>0</td>\n",
       "    </tr>\n",
       "  </tbody>\n",
       "</table>\n",
       "</div>"
      ],
      "text/plain": [
       "           isic_id  age_approx  clin_size_long_diam_mm  sex  diagnosis_1  \\\n",
       "3012  ISIC_7559201        55.0                     6.6  1.0          0.0   \n",
       "3014  ISIC_5257439        40.0                     4.2  1.0          0.0   \n",
       "3017  ISIC_0469776        50.0                     3.9  1.0          0.0   \n",
       "3020  ISIC_1648650        40.0                     4.2  1.0          0.0   \n",
       "3021  ISIC_7529219        30.0                     6.6  1.0          0.0   \n",
       "\n",
       "     diagnosis benignORmalignant          filename  target_Benign  \\\n",
       "3012     nevus            Benign  ISIC_7559201.jpg              1   \n",
       "3014     nevus            Benign  ISIC_5257439.jpg              1   \n",
       "3017     nevus            Benign  ISIC_0469776.jpg              1   \n",
       "3020     nevus            Benign  ISIC_1648650.jpg              1   \n",
       "3021     nevus            Benign  ISIC_7529219.jpg              1   \n",
       "\n",
       "      target_basal cell carcinoma  target_melanoma  \\\n",
       "3012                            0                0   \n",
       "3014                            0                0   \n",
       "3017                            0                0   \n",
       "3020                            0                0   \n",
       "3021                            0                0   \n",
       "\n",
       "      target_melanoma metastasis  target_squamous cell carcinoma  \n",
       "3012                           0                               0  \n",
       "3014                           0                               0  \n",
       "3017                           0                               0  \n",
       "3020                           0                               0  \n",
       "3021                           0                               0  "
      ]
     },
     "execution_count": 16,
     "metadata": {},
     "output_type": "execute_result"
    }
   ],
   "source": [
    "metadata_encoded.head()"
   ]
  },
  {
   "cell_type": "code",
   "execution_count": 17,
   "id": "6f4b3e43",
   "metadata": {},
   "outputs": [],
   "source": [
    "#above is all pretty much changed/added"
   ]
  },
  {
   "cell_type": "code",
   "execution_count": 18,
   "id": "fe5fde46-1bed-4464-b9db-2803417460e6",
   "metadata": {},
   "outputs": [
    {
     "data": {
      "text/plain": [
       "'\\ngood_image_paths = []\\n\\nfor path in valid_image_paths:\\n    try:\\n        img_raw = tf.io.read_file(path)\\n        img = tf.image.decode_jpeg(img_raw, channels=3)\\n        good_image_paths.append(path)\\n    except:\\n        print(f\"Skipping invalid image: {path}\")\\n\\nwith open(\\'good_image_paths.txt\\', \\'w\\') as f:\\n    for path in good_image_paths:\\n        f.write(f\"{path}\\n\")\\n'"
      ]
     },
     "execution_count": 18,
     "metadata": {},
     "output_type": "execute_result"
    }
   ],
   "source": [
    "'''\n",
    "good_image_paths = []\n",
    "\n",
    "for path in valid_image_paths:\n",
    "    try:\n",
    "        img_raw = tf.io.read_file(path)\n",
    "        img = tf.image.decode_jpeg(img_raw, channels=3)\n",
    "        good_image_paths.append(path)\n",
    "    except:\n",
    "        print(f\"Skipping invalid image: {path}\")\n",
    "\n",
    "with open('good_image_paths.txt', 'w') as f:\n",
    "    for path in good_image_paths:\n",
    "        f.write(f\"{path}\\n\")\n",
    "'''"
   ]
  },
  {
   "cell_type": "code",
   "execution_count": 19,
   "id": "d86fc996-e286-4a93-bccf-99bb7029d6af",
   "metadata": {},
   "outputs": [],
   "source": [
    "with open('good_image_paths.txt', 'r') as f:\n",
    "    image_paths = [line.strip() for line in f]\n",
    "\n",
    "filenames = [os.path.basename(p) for p in image_paths]\n",
    "metadata = metadata[metadata['filename'].isin(filenames)].reset_index(drop=True)\n"
   ]
  },
  {
   "cell_type": "code",
   "execution_count": 20,
   "id": "4bb39d3f-279f-4bf8-a103-9ce349aa56ff",
   "metadata": {},
   "outputs": [],
   "source": [
    "# Create lookup dictionaries\n",
    "label_lookup = dict(zip(metadata['filename'], metadata['target']))\n",
    "\n",
    "sex_lookup = dict(zip(metadata['filename'], metadata['sex']))\n",
    "age_lookup = dict(zip(metadata['filename'], metadata['age_approx']))\n",
    "size_lookup = dict(zip(metadata['filename'], metadata['clin_size_long_diam_mm']))\n",
    "\n",
    "# Lists for matched data\n",
    "valid_image_paths = []\n",
    "labels = []\n",
    "sex_features = []\n",
    "age_features = []\n",
    "size_features = []\n",
    "\n",
    "# Get all unique classes from 'target' and create index mapping\n",
    "all_classes = sorted(metadata['target'].unique())\n",
    "class_to_index = {name: i for i, name in enumerate(all_classes)}\n",
    "\n",
    "\n",
    "for path, fname in zip(image_paths, filenames):\n",
    "    if fname in label_lookup:\n",
    "        valid_image_paths.append(path)\n",
    "        target_str = label_lookup[fname]\n",
    "        class_index = class_to_index[target_str]\n",
    "        labels.append(class_index)\n",
    "        sex_features.append(sex_lookup[fname])\n",
    "        age_features.append(age_lookup[fname])\n",
    "        size_features.append(size_lookup[fname])\n",
    "\n"
   ]
  },
  {
   "cell_type": "code",
   "execution_count": 21,
   "id": "4f25d0af-dd6e-4cb1-8247-f72f9d3d5ce0",
   "metadata": {},
   "outputs": [],
   "source": [
    "trainval_paths, test_paths, trainval_labels, test_labels, \\\n",
    "trainval_sex, test_sex, trainval_age, test_age, trainval_size, test_size = sklearn.model_selection.train_test_split(\n",
    "    valid_image_paths, labels, sex_features, age_features, size_features,\n",
    "    test_size=0.1, random_state=42, shuffle=True\n",
    ")\n"
   ]
  },
  {
   "cell_type": "code",
   "execution_count": 22,
   "id": "fd7ec6bf-dd2f-4ab3-ae49-683d61057621",
   "metadata": {},
   "outputs": [
    {
     "data": {
      "text/plain": [
       "54302"
      ]
     },
     "execution_count": 22,
     "metadata": {},
     "output_type": "execute_result"
    }
   ],
   "source": [
    "len(trainval_paths)"
   ]
  },
  {
   "cell_type": "code",
   "execution_count": 23,
   "id": "db1b63dd-4aa4-443d-9a20-ac1feb2fe87d",
   "metadata": {},
   "outputs": [
    {
     "data": {
      "text/plain": [
       "6034"
      ]
     },
     "execution_count": 23,
     "metadata": {},
     "output_type": "execute_result"
    }
   ],
   "source": [
    "len(test_paths)"
   ]
  },
  {
   "cell_type": "code",
   "execution_count": 24,
   "id": "3e277790-0f88-4b87-ab8a-8265ed77fe89",
   "metadata": {},
   "outputs": [],
   "source": [
    "from collections import defaultdict\n",
    "import numpy as np\n",
    "import shutil\n",
    "import os\n",
    "\n",
    "# Group paths by label\n",
    "label_to_paths = defaultdict(list)\n",
    "for path, label in zip(trainval_paths, trainval_labels):\n",
    "    label_to_paths[label].append(path)\n",
    "\n",
    "# Initialize output lists\n",
    "train_paths, val_paths, train_labels, val_labels = [], [], [], []\n",
    "\n",
    "np.random.seed(42)\n",
    "for label, paths in label_to_paths.items():\n",
    "    if len(paths) < 500:\n",
    "        print(f\" Skipping label {label} (only {len(paths)} images available)\")\n",
    "        continue\n",
    "\n",
    "    sampled_paths = np.random.choice(paths, 500, replace=False)\n",
    "    train_p = sampled_paths[:400]\n",
    "    val_p = sampled_paths[400:]\n",
    "\n",
    "    train_paths.extend(train_p)\n",
    "    train_labels.extend([label] * len(train_p))\n",
    "\n",
    "    val_paths.extend(val_p)\n",
    "    val_labels.extend([label] * len(val_p))\n",
    "\n",
    "# Create new folders for train/val\n",
    "for folder in ['images_train_balanced', 'images_val_balanced']:\n",
    "    os.makedirs(folder, exist_ok=True)\n",
    "\n",
    "# Copy files into folders\n",
    "for path in train_paths:\n",
    "    shutil.copy(path, f'images_train_balanced/{os.path.basename(path)}')\n",
    "\n",
    "for path in val_paths:\n",
    "    shutil.copy(path, f'images_val_balanced/{os.path.basename(path)}')\n"
   ]
  },
  {
   "cell_type": "code",
   "execution_count": 25,
   "id": "ee3a11e9-809f-441e-9d06-4417cb9a2962",
   "metadata": {},
   "outputs": [],
   "source": [
    "\n",
    "import os\n",
    "import shutil\n",
    "os.makedirs('./images_test2', exist_ok=True)\n",
    "\n",
    "for path in test_paths:\n",
    "    filename = os.path.basename(path)\n",
    "    shutil.copy(path, f'./images_test2/{filename}')\n"
   ]
  },
  {
   "cell_type": "code",
   "execution_count": 26,
   "id": "98116eca-8904-4444-9aef-0db7b4de2218",
   "metadata": {},
   "outputs": [
    {
     "name": "stdout",
     "output_type": "stream",
     "text": [
      "Found 2000 files belonging to 5 classes.\n",
      "Found 500 files belonging to 5 classes.\n"
     ]
    }
   ],
   "source": [
    "\n",
    "\n",
    "train_image_ds = tf.keras.utils.image_dataset_from_directory(\n",
    "    directory='images_train_balanced',\n",
    "    labels=train_labels,\n",
    "    label_mode='categorical',\n",
    "    batch_size=64,\n",
    "    image_size=(128, 128),\n",
    "    shuffle=True,\n",
    "    seed=123\n",
    ")\n",
    "\n",
    "val_image_ds = tf.keras.utils.image_dataset_from_directory(\n",
    "    directory='images_val_balanced',\n",
    "    labels=val_labels,\n",
    "    label_mode='categorical',\n",
    "    batch_size=64,\n",
    "    image_size=(128, 128),\n",
    "    shuffle=True,\n",
    "    seed=123\n",
    ")"
   ]
  },
  {
   "cell_type": "code",
   "execution_count": 27,
   "id": "bc8b685d-1679-4dd3-a3d1-3ae8e65e4f8e",
   "metadata": {},
   "outputs": [
    {
     "name": "stdout",
     "output_type": "stream",
     "text": [
      "Found 6034 files belonging to 5 classes.\n"
     ]
    }
   ],
   "source": [
    "# Test filenames and labels\n",
    "test_path_to_label = {os.path.basename(p): l for p, l in zip(test_paths, test_labels)}\n",
    "test_filenames = [os.path.basename(p) for p in test_paths]\n",
    "test_labels_sorted = [test_path_to_label[fname] for fname in test_filenames]\n",
    "\n",
    "test_image_ds = tf.keras.utils.image_dataset_from_directory(\n",
    "    directory='./images_test2',\n",
    "    labels=test_labels_sorted,\n",
    "    label_mode='categorical',\n",
    "    batch_size=64,\n",
    "    image_size=(128, 128),\n",
    "    shuffle=False\n",
    ")\n"
   ]
  },
  {
   "cell_type": "code",
   "execution_count": 28,
   "id": "97c0a83f-d015-4894-81f6-aaae29d7c034",
   "metadata": {},
   "outputs": [],
   "source": [
    "data_augmentation = tf.keras.Sequential([\n",
    "    layers.RandomFlip(\"horizontal\"),\n",
    "    layers.RandomRotation(0.1),\n",
    "    layers.RandomZoom(0.1),\n",
    "])\n",
    "augmented_train_image_ds = train_image_ds.map(lambda x, y: (data_augmentation(x, training=True), y))\n"
   ]
  },
  {
   "cell_type": "code",
   "execution_count": 29,
   "id": "68521d8d-dbbf-4844-8f10-2b2cb4651465",
   "metadata": {},
   "outputs": [],
   "source": [
    "train_metadata_ds = tf.data.Dataset.from_tensor_slices(\n",
    "    tf.stack([trainval_sex[:len(train_image_ds)], trainval_age[:len(train_image_ds)], trainval_size[:len(train_image_ds)]], axis=1)\n",
    ")\n",
    "\n",
    "val_metadata_ds = tf.data.Dataset.from_tensor_slices(\n",
    "    tf.stack([trainval_sex[len(train_image_ds):], trainval_age[len(train_image_ds):], trainval_size[len(train_image_ds):]], axis=1)\n",
    ")\n",
    "\n",
    "test_metadata_ds = tf.data.Dataset.from_tensor_slices(\n",
    "    tf.stack([test_sex, test_age, test_size], axis=1)\n",
    ")\n"
   ]
  },
  {
   "cell_type": "code",
   "execution_count": 30,
   "id": "da5b83a8-2a2f-4bd8-8df5-6782efaa3112",
   "metadata": {},
   "outputs": [],
   "source": [
    "train_images_only_ds = train_image_ds.map(lambda x, y: x)\n",
    "train_labels_only_ds = train_image_ds.map(lambda x, y: y)\n",
    "\n",
    "train_inputs_ds = tf.data.Dataset.zip((train_images_only_ds, train_metadata_ds))\n",
    "final_train_ds = tf.data.Dataset.zip((train_inputs_ds, train_labels_only_ds)).prefetch(tf.data.AUTOTUNE)\n",
    "\n",
    "val_images_only_ds = val_image_ds.map(lambda x, y: x)\n",
    "val_labels_only_ds = val_image_ds.map(lambda x, y: y)\n",
    "\n",
    "val_inputs_ds = tf.data.Dataset.zip((val_images_only_ds, val_metadata_ds))\n",
    "final_val_ds = tf.data.Dataset.zip((val_inputs_ds, val_labels_only_ds)).prefetch(tf.data.AUTOTUNE)\n",
    "\n",
    "test_images_only_ds = test_image_ds.map(lambda x, y: x)\n",
    "test_labels_only_ds = test_image_ds.map(lambda x, y: y)\n",
    "\n",
    "test_inputs_ds = tf.data.Dataset.zip((test_images_only_ds, test_metadata_ds))\n",
    "final_test_ds = tf.data.Dataset.zip((test_inputs_ds, test_labels_only_ds)).prefetch(tf.data.AUTOTUNE)\n",
    "\n",
    "\n"
   ]
  },
  {
   "cell_type": "code",
   "execution_count": 31,
   "id": "15d6fe46-40ab-464c-9090-b75e238f2dc1",
   "metadata": {},
   "outputs": [
    {
     "name": "stdout",
     "output_type": "stream",
     "text": [
      "Epoch 1/20\n",
      "\u001b[1m32/32\u001b[0m \u001b[32m━━━━━━━━━━━━━━━━━━━━\u001b[0m\u001b[37m\u001b[0m \u001b[1m9s\u001b[0m 223ms/step - accuracy: 0.3148 - loss: 1.6359 - val_accuracy: 0.4000 - val_loss: 1.3307\n",
      "Epoch 2/20\n",
      "\u001b[1m32/32\u001b[0m \u001b[32m━━━━━━━━━━━━━━━━━━━━\u001b[0m\u001b[37m\u001b[0m \u001b[1m7s\u001b[0m 203ms/step - accuracy: 0.3774 - loss: 1.3331 - val_accuracy: 0.4000 - val_loss: 1.3042\n",
      "Epoch 3/20\n",
      "\u001b[1m32/32\u001b[0m \u001b[32m━━━━━━━━━━━━━━━━━━━━\u001b[0m\u001b[37m\u001b[0m \u001b[1m7s\u001b[0m 203ms/step - accuracy: 0.4118 - loss: 1.3075 - val_accuracy: 0.4260 - val_loss: 1.2798\n",
      "Epoch 4/20\n",
      "\u001b[1m32/32\u001b[0m \u001b[32m━━━━━━━━━━━━━━━━━━━━\u001b[0m\u001b[37m\u001b[0m \u001b[1m7s\u001b[0m 207ms/step - accuracy: 0.4484 - loss: 1.2343 - val_accuracy: 0.4480 - val_loss: 1.2431\n",
      "Epoch 5/20\n",
      "\u001b[1m32/32\u001b[0m \u001b[32m━━━━━━━━━━━━━━━━━━━━\u001b[0m\u001b[37m\u001b[0m \u001b[1m7s\u001b[0m 204ms/step - accuracy: 0.4754 - loss: 1.2212 - val_accuracy: 0.4260 - val_loss: 1.2482\n",
      "Epoch 6/20\n",
      "\u001b[1m32/32\u001b[0m \u001b[32m━━━━━━━━━━━━━━━━━━━━\u001b[0m\u001b[37m\u001b[0m \u001b[1m7s\u001b[0m 209ms/step - accuracy: 0.5108 - loss: 1.1544 - val_accuracy: 0.4620 - val_loss: 1.2079\n",
      "Epoch 7/20\n",
      "\u001b[1m32/32\u001b[0m \u001b[32m━━━━━━━━━━━━━━━━━━━━\u001b[0m\u001b[37m\u001b[0m \u001b[1m7s\u001b[0m 207ms/step - accuracy: 0.5284 - loss: 1.1272 - val_accuracy: 0.4700 - val_loss: 1.2061\n",
      "Epoch 8/20\n",
      "\u001b[1m32/32\u001b[0m \u001b[32m━━━━━━━━━━━━━━━━━━━━\u001b[0m\u001b[37m\u001b[0m \u001b[1m7s\u001b[0m 208ms/step - accuracy: 0.5248 - loss: 1.1313 - val_accuracy: 0.4960 - val_loss: 1.2103\n",
      "Epoch 9/20\n",
      "\u001b[1m32/32\u001b[0m \u001b[32m━━━━━━━━━━━━━━━━━━━━\u001b[0m\u001b[37m\u001b[0m \u001b[1m7s\u001b[0m 214ms/step - accuracy: 0.5625 - loss: 1.0796 - val_accuracy: 0.4660 - val_loss: 1.2034\n",
      "Epoch 10/20\n",
      "\u001b[1m32/32\u001b[0m \u001b[32m━━━━━━━━━━━━━━━━━━━━\u001b[0m\u001b[37m\u001b[0m \u001b[1m7s\u001b[0m 211ms/step - accuracy: 0.5826 - loss: 1.0641 - val_accuracy: 0.4560 - val_loss: 1.2206\n",
      "Epoch 11/20\n",
      "\u001b[1m32/32\u001b[0m \u001b[32m━━━━━━━━━━━━━━━━━━━━\u001b[0m\u001b[37m\u001b[0m \u001b[1m7s\u001b[0m 211ms/step - accuracy: 0.5603 - loss: 1.0515 - val_accuracy: 0.4780 - val_loss: 1.2430\n",
      "Epoch 12/20\n",
      "\u001b[1m32/32\u001b[0m \u001b[32m━━━━━━━━━━━━━━━━━━━━\u001b[0m\u001b[37m\u001b[0m \u001b[1m7s\u001b[0m 206ms/step - accuracy: 0.5578 - loss: 1.0559 - val_accuracy: 0.4860 - val_loss: 1.2011\n",
      "Epoch 13/20\n",
      "\u001b[1m32/32\u001b[0m \u001b[32m━━━━━━━━━━━━━━━━━━━━\u001b[0m\u001b[37m\u001b[0m \u001b[1m7s\u001b[0m 211ms/step - accuracy: 0.5906 - loss: 0.9968 - val_accuracy: 0.4300 - val_loss: 1.2473\n",
      "Epoch 14/20\n",
      "\u001b[1m32/32\u001b[0m \u001b[32m━━━━━━━━━━━━━━━━━━━━\u001b[0m\u001b[37m\u001b[0m \u001b[1m7s\u001b[0m 209ms/step - accuracy: 0.5984 - loss: 1.0012 - val_accuracy: 0.4580 - val_loss: 1.2231\n",
      "Epoch 15/20\n",
      "\u001b[1m32/32\u001b[0m \u001b[32m━━━━━━━━━━━━━━━━━━━━\u001b[0m\u001b[37m\u001b[0m \u001b[1m7s\u001b[0m 209ms/step - accuracy: 0.6131 - loss: 0.9805 - val_accuracy: 0.4720 - val_loss: 1.2106\n",
      "Epoch 16/20\n",
      "\u001b[1m32/32\u001b[0m \u001b[32m━━━━━━━━━━━━━━━━━━━━\u001b[0m\u001b[37m\u001b[0m \u001b[1m7s\u001b[0m 218ms/step - accuracy: 0.6027 - loss: 0.9619 - val_accuracy: 0.4540 - val_loss: 1.2429\n",
      "Epoch 17/20\n",
      "\u001b[1m32/32\u001b[0m \u001b[32m━━━━━━━━━━━━━━━━━━━━\u001b[0m\u001b[37m\u001b[0m \u001b[1m7s\u001b[0m 214ms/step - accuracy: 0.6390 - loss: 0.9315 - val_accuracy: 0.4840 - val_loss: 1.2239\n"
     ]
    },
    {
     "data": {
      "text/plain": [
       "\"\\n# Unfreeze and fine-tune\\nbase_model.trainable = True\\nmodel.compile(optimizer=Adam(learning_rate=1e-5),\\n              loss='categorical_crossentropy',\\n              metrics=['accuracy'])\\n\\n# Fine-tune the whole model\\nhistory_finetune = model.fit(train_image_ds,\\n                             validation_data=val_image_ds,\\n                             epochs=50,\\n                             callbacks=[EarlyStopping(patience=8, restore_best_weights=True)])\\n\""
      ]
     },
     "execution_count": 31,
     "metadata": {},
     "output_type": "execute_result"
    }
   ],
   "source": [
    "from tensorflow.keras.applications import MobileNetV2\n",
    "from tensorflow.keras.models import Model\n",
    "from tensorflow.keras.layers import Dense, GlobalAveragePooling2D, Input\n",
    "from tensorflow.keras.optimizers import Adam\n",
    "from tensorflow.keras.callbacks import EarlyStopping\n",
    "\n",
    "# Set this based on your class mapping\n",
    "num_classes = len(all_classes)  # all_classes = sorted(metadata['target'].unique())\n",
    "\n",
    "# Load the base model\n",
    "base_model = MobileNetV2(input_shape=(128, 128, 3), include_top=False, weights='imagenet')\n",
    "base_model.trainable = False  # Freeze base model\n",
    "\n",
    "# Add custom classification head\n",
    "inputs = Input(shape=(128, 128, 3))\n",
    "x = base_model(inputs, training=False)\n",
    "x = GlobalAveragePooling2D()(x)\n",
    "x = Dense(64, activation='relu')(x)\n",
    "outputs = Dense(num_classes, activation='softmax')(x)  # Multiclass classification\n",
    "model = Model(inputs, outputs)\n",
    "\n",
    "# Compile model\n",
    "model.compile(optimizer=Adam(learning_rate=0.001),\n",
    "              loss='categorical_crossentropy',\n",
    "              metrics=['accuracy'])\n",
    "\n",
    "# Train top layers first\n",
    "history = model.fit(train_image_ds,\n",
    "                    validation_data=val_image_ds,\n",
    "                    epochs=20,\n",
    "                    callbacks=[EarlyStopping(patience=5, restore_best_weights=True)])\n",
    "'''\n",
    "# Unfreeze and fine-tune\n",
    "base_model.trainable = True\n",
    "model.compile(optimizer=Adam(learning_rate=1e-5),\n",
    "              loss='categorical_crossentropy',\n",
    "              metrics=['accuracy'])\n",
    "\n",
    "# Fine-tune the whole model\n",
    "history_finetune = model.fit(train_image_ds,\n",
    "                             validation_data=val_image_ds,\n",
    "                             epochs=50,\n",
    "                             callbacks=[EarlyStopping(patience=8, restore_best_weights=True)])\n",
    "'''"
   ]
  },
  {
   "cell_type": "code",
   "execution_count": 32,
   "id": "3b1c1dde-0529-4e52-812d-12e1b830239c",
   "metadata": {},
   "outputs": [
    {
     "name": "stderr",
     "output_type": "stream",
     "text": [
      "2025-05-14 23:18:04.483712: I tensorflow/core/framework/local_rendezvous.cc:407] Local rendezvous is aborting with status: OUT_OF_RANGE: End of sequence\n"
     ]
    }
   ],
   "source": [
    "import numpy as np\n",
    "\n",
    "y_true = []\n",
    "y_pred = []\n",
    "\n",
    "for images, labels in test_image_ds:\n",
    "    preds = model.predict(images, verbose=0)               # shape: (batch_size, num_classes)\n",
    "    y_pred.extend(np.argmax(preds, axis=1))                # Convert softmax output to predicted class index\n",
    "    y_true.extend(np.argmax(labels.numpy(), axis=1))       # Convert one-hot labels to true class index\n",
    "\n",
    "y_pred = np.array(y_pred)\n",
    "y_true = np.array(y_true)\n"
   ]
  },
  {
   "cell_type": "code",
   "execution_count": 33,
   "id": "7d620d35-1b2f-4be5-bc54-60dc41df0650",
   "metadata": {},
   "outputs": [
    {
     "data": {
      "image/png": "[encoded data removed]",
      "text/plain": [
       "<Figure size 1000x800 with 2 Axes>"
      ]
     },
     "metadata": {},
     "output_type": "display_data"
    }
   ],
   "source": [
    "from sklearn.metrics import confusion_matrix, ConfusionMatrixDisplay\n",
    "import matplotlib.pyplot as plt\n",
    "cm = confusion_matrix(y_true, y_pred)\n",
    "\n",
    "fig, ax = plt.subplots(figsize=(10, 8))  # You can adjust width and height here\n",
    "disp = ConfusionMatrixDisplay(confusion_matrix=cm, display_labels=all_classes)\n",
    "disp.plot(cmap='Blues', values_format='d', ax=ax)\n",
    "plt.title(\"Confusion Matrix\")\n",
    "plt.xticks(rotation=45)\n",
    "plt.tight_layout()\n",
    "plt.show()"
   ]
  },
  {
   "cell_type": "code",
   "execution_count": 34,
   "id": "0977fdea-802f-41f1-9127-db13cff3d8f0",
   "metadata": {},
   "outputs": [
    {
     "name": "stdout",
     "output_type": "stream",
     "text": [
      "                         precision    recall  f1-score   support\n",
      "\n",
      "                 Benign       0.72      0.26      0.39      4367\n",
      "   basal cell carcinoma       0.11      0.27      0.15       587\n",
      "               melanoma       0.15      0.16      0.16       869\n",
      "    melanoma metastasis       0.01      0.12      0.02        69\n",
      "squamous cell carcinoma       0.02      0.25      0.05       142\n",
      "\n",
      "               accuracy                           0.25      6034\n",
      "              macro avg       0.20      0.21      0.15      6034\n",
      "           weighted avg       0.56      0.25      0.32      6034\n",
      "\n"
     ]
    }
   ],
   "source": [
    "from sklearn.metrics import classification_report\n",
    "\n",
    "print(classification_report(y_true, y_pred, target_names=all_classes))\n"
   ]
  },
  {
   "cell_type": "code",
   "execution_count": 35,
   "id": "badc6407-655a-4c66-8b2a-56dbdc366bbe",
   "metadata": {},
   "outputs": [],
   "source": [
    "model.save('model_multiclass_unfreeze.keras')"
   ]
  },
  {
   "cell_type": "code",
   "execution_count": null,
   "id": "0b7871c7-a16a-41c6-a60b-09e880f062c2",
   "metadata": {},
   "outputs": [],
   "source": []
  }
 ],
 "metadata": {
  "kernelspec": {
   "display_name": "Python 3 (ipykernel)",
   "language": "python",
   "name": "python3"
  },
  "language_info": {
   "codemirror_mode": {
    "name": "ipython",
    "version": 3
   },
   "file_extension": ".py",
   "mimetype": "text/x-python",
   "name": "python",
   "nbconvert_exporter": "python",
   "pygments_lexer": "ipython3",
   "version": "3.11.8"
  }
 },
 "nbformat": 4,
 "nbformat_minor": 5
}
