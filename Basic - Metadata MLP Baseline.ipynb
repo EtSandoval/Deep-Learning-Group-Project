{
 "cells": [
  {
   "cell_type": "code",
   "execution_count": 15,
   "metadata": {
    "id": "2zudNBrWLiQO"
   },
   "outputs": [],
   "source": [
    "import pandas as pd\n",
    "import numpy as np\n",
    "\n",
    "from tensorflow.keras.models import Model\n",
    "from tensorflow.keras.layers import Dense, Embedding, Flatten, Add, Input, Activation, Dropout\n",
    "from tensorflow.keras.utils import plot_model, to_categorical\n",
    "from tensorflow.keras.callbacks import EarlyStopping, ModelCheckpoint\n",
    "from tensorflow.keras.losses import BinaryCrossentropy\n",
    "\n",
    "from sklearn.preprocessing import MinMaxScaler\n",
    "from IPython.display import Image\n",
    "\n",
    "import matplotlib.pyplot as plt"
   ]
  },
  {
   "cell_type": "markdown",
   "metadata": {},
   "source": [
    "## Load and Clean the Metadata\n",
    "\n",
    "We begin by loading the metadata from `train_metadata.csv`. \n",
    "This step includes:\n",
    "- Converting columns to numeric types.\n",
    "- Handling missing values (e.g. replacing with mean or dropping).\n",
    "- Downsampling for faster processing."
   ]
  },
  {
   "cell_type": "code",
   "execution_count": 4,
   "metadata": {
    "id": "--u6AdVyNMHI"
   },
   "outputs": [],
   "source": [
    "metadata_test = pd.read_csv('test_metadata.csv')\n",
    "metadata_val = pd.read_csv('val_metadata.csv')\n",
    "new_metadata_train = pd.read_csv('train_metadata.csv')"
   ]
  },
  {
   "cell_type": "code",
   "execution_count": 5,
   "metadata": {
    "colab": {
     "base_uri": "https://localhost:8080/"
    },
    "id": "6MurdB2Nhbwc",
    "outputId": "e4959852-20da-4260-9318-569a99a719d5"
   },
   "outputs": [
    {
     "name": "stdout",
     "output_type": "stream",
     "text": [
      "Missing values in 'clin_size_long_diam_mm' for meta val data: 18574\n",
      "Missing values in 'age_approx' for meta val data: 945\n",
      "Missing values in 'sex' for new meta val data: 2760\n",
      "Missing values in 'diagnosis_1' for meta val data: 0\n",
      "values in meta val data: 349531\n"
     ]
    }
   ],
   "source": [
    "# double checking which values should be cleaned or filled\n",
    "missing_values = metadata_val['clin_size_long_diam_mm'].isna().sum()\n",
    "print(f\"Missing values in 'clin_size_long_diam_mm' for meta val data: {missing_values}\")\n",
    "\n",
    "missing_values = metadata_val['age_approx'].isna().sum()\n",
    "print(f\"Missing values in 'age_approx' for meta val data: {missing_values}\")\n",
    "\n",
    "missing_values = metadata_val['sex'].isna().sum()\n",
    "print(f\"Missing values in 'sex' for new meta val data: {missing_values}\")\n",
    "\n",
    "missing_values = metadata_val['diagnosis_1'].isna().sum()\n",
    "print(f\"Missing values in 'diagnosis_1' for meta val data: {missing_values}\")\n",
    "\n",
    "print(f'values in meta val data: {len(new_metadata_train)}')"
   ]
  },
  {
   "cell_type": "code",
   "execution_count": 6,
   "metadata": {
    "colab": {
     "base_uri": "https://localhost:8080/"
    },
    "id": "mLHjrsxhVdm2",
    "outputId": "6b4727cd-7ee2-4fa9-c0f3-e4a3c385ffcb"
   },
   "outputs": [
    {
     "name": "stdout",
     "output_type": "stream",
     "text": [
      "Missing values in 'clin_size_long_diam_mm' for new meta train data: 65517\n",
      "Missing values in 'age_approx' for new meta train data: 3398\n",
      "Missing values in 'sex' for new meta train data: 9608\n",
      "Missing values in 'diagnosis_1' for new meta train data: 0\n",
      "values in new meta train data: 349531\n"
     ]
    }
   ],
   "source": [
    "missing_values = new_metadata_train['clin_size_long_diam_mm'].isna().sum()\n",
    "print(f\"Missing values in 'clin_size_long_diam_mm' for new meta train data: {missing_values}\")\n",
    "\n",
    "missing_values = new_metadata_train['age_approx'].isna().sum()\n",
    "print(f\"Missing values in 'age_approx' for new meta train data: {missing_values}\")\n",
    "\n",
    "missing_values = new_metadata_train['sex'].isna().sum()\n",
    "print(f\"Missing values in 'sex' for new meta train data: {missing_values}\")\n",
    "\n",
    "missing_values = new_metadata_train['diagnosis_1'].isna().sum()\n",
    "print(f\"Missing values in 'diagnosis_1' for new meta train data: {missing_values}\")\n",
    "\n",
    "print(f'values in new meta train data: {len(new_metadata_train)}')"
   ]
  },
  {
   "cell_type": "code",
   "execution_count": 7,
   "metadata": {
    "colab": {
     "base_uri": "https://localhost:8080/",
     "height": 206
    },
    "id": "TZrayj0WUn-h",
    "outputId": "99a5a1d6-acb5-43a3-b5e4-cdbabad5bfd8"
   },
   "outputs": [
    {
     "data": {
      "text/html": [
       "<div>\n",
       "<style scoped>\n",
       "    .dataframe tbody tr th:only-of-type {\n",
       "        vertical-align: middle;\n",
       "    }\n",
       "\n",
       "    .dataframe tbody tr th {\n",
       "        vertical-align: top;\n",
       "    }\n",
       "\n",
       "    .dataframe thead th {\n",
       "        text-align: right;\n",
       "    }\n",
       "</style>\n",
       "<table border=\"1\" class=\"dataframe\">\n",
       "  <thead>\n",
       "    <tr style=\"text-align: right;\">\n",
       "      <th></th>\n",
       "      <th>age_approx</th>\n",
       "      <th>clin_size_long_diam_mm</th>\n",
       "      <th>sex</th>\n",
       "      <th>diagnosis_1</th>\n",
       "    </tr>\n",
       "  </thead>\n",
       "  <tbody>\n",
       "    <tr>\n",
       "      <th>0</th>\n",
       "      <td>45.0</td>\n",
       "      <td>2.60</td>\n",
       "      <td>1.0</td>\n",
       "      <td>0.0</td>\n",
       "    </tr>\n",
       "    <tr>\n",
       "      <th>1</th>\n",
       "      <td>70.0</td>\n",
       "      <td>4.32</td>\n",
       "      <td>0.0</td>\n",
       "      <td>0.0</td>\n",
       "    </tr>\n",
       "    <tr>\n",
       "      <th>2</th>\n",
       "      <td>40.0</td>\n",
       "      <td>2.62</td>\n",
       "      <td>0.0</td>\n",
       "      <td>0.0</td>\n",
       "    </tr>\n",
       "    <tr>\n",
       "      <th>3</th>\n",
       "      <td>65.0</td>\n",
       "      <td>6.20</td>\n",
       "      <td>1.0</td>\n",
       "      <td>0.0</td>\n",
       "    </tr>\n",
       "    <tr>\n",
       "      <th>4</th>\n",
       "      <td>85.0</td>\n",
       "      <td>5.07</td>\n",
       "      <td>1.0</td>\n",
       "      <td>0.0</td>\n",
       "    </tr>\n",
       "  </tbody>\n",
       "</table>\n",
       "</div>"
      ],
      "text/plain": [
       "   age_approx  clin_size_long_diam_mm  sex  diagnosis_1\n",
       "0        45.0                    2.60  1.0          0.0\n",
       "1        70.0                    4.32  0.0          0.0\n",
       "2        40.0                    2.62  0.0          0.0\n",
       "3        65.0                    6.20  1.0          0.0\n",
       "4        85.0                    5.07  1.0          0.0"
      ]
     },
     "execution_count": 7,
     "metadata": {},
     "output_type": "execute_result"
    }
   ],
   "source": [
    "#filling in missing values for clin_size_long_diam_mm\n",
    "\n",
    "meanTestVal = metadata_test['clin_size_long_diam_mm'].mean()\n",
    "metadata_test['clin_size_long_diam_mm'] = metadata_test['clin_size_long_diam_mm'].fillna(meanTestVal)\n",
    "\n",
    "meanTrainVal = new_metadata_train['clin_size_long_diam_mm'].mean()\n",
    "new_metadata_train['clin_size_long_diam_mm'] = new_metadata_train['clin_size_long_diam_mm'].fillna(meanTrainVal)\n",
    "\n",
    "meanValidationVal = metadata_val['clin_size_long_diam_mm'].mean()\n",
    "metadata_val['clin_size_long_diam_mm'] = metadata_val['clin_size_long_diam_mm'].fillna(meanValidationVal)\n",
    "\n",
    "meanTrainVal = new_metadata_train['clin_size_long_diam_mm'].mean()\n",
    "new_metadata_train['clin_size_long_diam_mm'] = new_metadata_train['clin_size_long_diam_mm'].fillna(meanTrainVal)\n",
    "new_metadata_train.head()"
   ]
  },
  {
   "cell_type": "code",
   "execution_count": 8,
   "metadata": {
    "colab": {
     "base_uri": "https://localhost:8080/",
     "height": 206
    },
    "id": "XeNSxsgekDyd",
    "outputId": "ea3945eb-89c0-432f-9ba9-2935224729b9"
   },
   "outputs": [
    {
     "data": {
      "text/html": [
       "<div>\n",
       "<style scoped>\n",
       "    .dataframe tbody tr th:only-of-type {\n",
       "        vertical-align: middle;\n",
       "    }\n",
       "\n",
       "    .dataframe tbody tr th {\n",
       "        vertical-align: top;\n",
       "    }\n",
       "\n",
       "    .dataframe thead th {\n",
       "        text-align: right;\n",
       "    }\n",
       "</style>\n",
       "<table border=\"1\" class=\"dataframe\">\n",
       "  <thead>\n",
       "    <tr style=\"text-align: right;\">\n",
       "      <th></th>\n",
       "      <th>age_approx</th>\n",
       "      <th>clin_size_long_diam_mm</th>\n",
       "      <th>sex</th>\n",
       "      <th>diagnosis_1</th>\n",
       "    </tr>\n",
       "  </thead>\n",
       "  <tbody>\n",
       "    <tr>\n",
       "      <th>0</th>\n",
       "      <td>55.0</td>\n",
       "      <td>2.88</td>\n",
       "      <td>1.0</td>\n",
       "      <td>0.0</td>\n",
       "    </tr>\n",
       "    <tr>\n",
       "      <th>1</th>\n",
       "      <td>50.0</td>\n",
       "      <td>2.96</td>\n",
       "      <td>1.0</td>\n",
       "      <td>0.0</td>\n",
       "    </tr>\n",
       "    <tr>\n",
       "      <th>2</th>\n",
       "      <td>55.0</td>\n",
       "      <td>4.97</td>\n",
       "      <td>0.0</td>\n",
       "      <td>0.0</td>\n",
       "    </tr>\n",
       "    <tr>\n",
       "      <th>3</th>\n",
       "      <td>50.0</td>\n",
       "      <td>3.84</td>\n",
       "      <td>0.0</td>\n",
       "      <td>0.0</td>\n",
       "    </tr>\n",
       "    <tr>\n",
       "      <th>4</th>\n",
       "      <td>75.0</td>\n",
       "      <td>2.82</td>\n",
       "      <td>0.0</td>\n",
       "      <td>0.0</td>\n",
       "    </tr>\n",
       "  </tbody>\n",
       "</table>\n",
       "</div>"
      ],
      "text/plain": [
       "   age_approx  clin_size_long_diam_mm  sex  diagnosis_1\n",
       "0        55.0                    2.88  1.0          0.0\n",
       "1        50.0                    2.96  1.0          0.0\n",
       "2        55.0                    4.97  0.0          0.0\n",
       "3        50.0                    3.84  0.0          0.0\n",
       "4        75.0                    2.82  0.0          0.0"
      ]
     },
     "execution_count": 8,
     "metadata": {},
     "output_type": "execute_result"
    }
   ],
   "source": [
    "metadata_test.head()"
   ]
  },
  {
   "cell_type": "code",
   "execution_count": 9,
   "metadata": {
    "id": "BNbDGylRcLEK"
   },
   "outputs": [],
   "source": [
    "# drop rows with missing values\n",
    "\n",
    "metadata_test.dropna(subset=['age_approx', 'sex', 'diagnosis_1'], inplace=True)\n",
    "\n",
    "new_metadata_train.dropna(subset=['age_approx', 'sex', 'diagnosis_1'], inplace=True)\n",
    "\n",
    "metadata_val.dropna(subset=['age_approx', 'sex', 'diagnosis_1'], inplace=True)"
   ]
  },
  {
   "cell_type": "code",
   "execution_count": 10,
   "metadata": {
    "colab": {
     "base_uri": "https://localhost:8080/"
    },
    "id": "abZDSn4FadQD",
    "outputId": "e66faf55-5fc9-4e8d-fb7f-92bd4a5d6dbb"
   },
   "outputs": [
    {
     "name": "stdout",
     "output_type": "stream",
     "text": [
      "Missing values in 'clin_size_long_diam_mm' for new meta train data: 0\n",
      "Missing values in 'age_approx' for new meta train data: 0\n",
      "Missing values in 'sex' for new meta train data: 0\n",
      "Missing values in 'diagnosis_1' for new meta train data: 0\n",
      "values in new meta train data: 338456\n"
     ]
    }
   ],
   "source": [
    "missing_values = new_metadata_train['clin_size_long_diam_mm'].isna().sum()\n",
    "print(f\"Missing values in 'clin_size_long_diam_mm' for new meta train data: {missing_values}\")\n",
    "\n",
    "missing_values = new_metadata_train['age_approx'].isna().sum()\n",
    "print(f\"Missing values in 'age_approx' for new meta train data: {missing_values}\")\n",
    "\n",
    "missing_values = new_metadata_train['sex'].isna().sum()\n",
    "print(f\"Missing values in 'sex' for new meta train data: {missing_values}\")\n",
    "\n",
    "missing_values = new_metadata_train['diagnosis_1'].isna().sum()\n",
    "print(f\"Missing values in 'diagnosis_1' for new meta train data: {missing_values}\")\n",
    "\n",
    "print(f'values in new meta train data: {len(new_metadata_train)}')"
   ]
  },
  {
   "cell_type": "code",
   "execution_count": 11,
   "metadata": {
    "id": "5YXjZn-6P7CZ"
   },
   "outputs": [],
   "source": [
    "metadata_X_test = metadata_test.iloc[:, :-1]\n",
    "metadata_Y_test = metadata_test.iloc[:, -1]\n",
    "metadata_X_val = metadata_val.iloc[:, :-1]\n",
    "metadata_Y_val = metadata_val.iloc[:, -1]\n",
    "\n",
    "new_metadata_X_train = new_metadata_train.iloc[:, :-1]\n",
    "new_metadata_Y_train = new_metadata_train.iloc[:, -1]"
   ]
  },
  {
   "cell_type": "code",
   "execution_count": 12,
   "metadata": {
    "colab": {
     "base_uri": "https://localhost:8080/",
     "height": 206
    },
    "id": "IgVUjRaSJmhc",
    "outputId": "dfdfb63b-9e1d-4225-9590-ec367cc05015"
   },
   "outputs": [
    {
     "data": {
      "text/html": [
       "<div>\n",
       "<style scoped>\n",
       "    .dataframe tbody tr th:only-of-type {\n",
       "        vertical-align: middle;\n",
       "    }\n",
       "\n",
       "    .dataframe tbody tr th {\n",
       "        vertical-align: top;\n",
       "    }\n",
       "\n",
       "    .dataframe thead th {\n",
       "        text-align: right;\n",
       "    }\n",
       "</style>\n",
       "<table border=\"1\" class=\"dataframe\">\n",
       "  <thead>\n",
       "    <tr style=\"text-align: right;\">\n",
       "      <th></th>\n",
       "      <th>age_approx</th>\n",
       "      <th>clin_size_long_diam_mm</th>\n",
       "      <th>sex</th>\n",
       "    </tr>\n",
       "  </thead>\n",
       "  <tbody>\n",
       "    <tr>\n",
       "      <th>0</th>\n",
       "      <td>45.0</td>\n",
       "      <td>2.60</td>\n",
       "      <td>1.0</td>\n",
       "    </tr>\n",
       "    <tr>\n",
       "      <th>1</th>\n",
       "      <td>70.0</td>\n",
       "      <td>4.32</td>\n",
       "      <td>0.0</td>\n",
       "    </tr>\n",
       "    <tr>\n",
       "      <th>2</th>\n",
       "      <td>40.0</td>\n",
       "      <td>2.62</td>\n",
       "      <td>0.0</td>\n",
       "    </tr>\n",
       "    <tr>\n",
       "      <th>3</th>\n",
       "      <td>65.0</td>\n",
       "      <td>6.20</td>\n",
       "      <td>1.0</td>\n",
       "    </tr>\n",
       "    <tr>\n",
       "      <th>4</th>\n",
       "      <td>85.0</td>\n",
       "      <td>5.07</td>\n",
       "      <td>1.0</td>\n",
       "    </tr>\n",
       "  </tbody>\n",
       "</table>\n",
       "</div>"
      ],
      "text/plain": [
       "   age_approx  clin_size_long_diam_mm  sex\n",
       "0        45.0                    2.60  1.0\n",
       "1        70.0                    4.32  0.0\n",
       "2        40.0                    2.62  0.0\n",
       "3        65.0                    6.20  1.0\n",
       "4        85.0                    5.07  1.0"
      ]
     },
     "execution_count": 12,
     "metadata": {},
     "output_type": "execute_result"
    }
   ],
   "source": [
    "new_metadata_X_train.head()"
   ]
  },
  {
   "cell_type": "code",
   "execution_count": 13,
   "metadata": {
    "colab": {
     "base_uri": "https://localhost:8080/",
     "height": 241
    },
    "id": "e9qgXjiGQfDP",
    "outputId": "ee6e866d-75f8-4ecf-d3d7-3f9da366158e"
   },
   "outputs": [
    {
     "data": {
      "text/plain": [
       "0    0.0\n",
       "1    0.0\n",
       "2    0.0\n",
       "3    0.0\n",
       "4    0.0\n",
       "Name: diagnosis_1, dtype: float64"
      ]
     },
     "execution_count": 13,
     "metadata": {},
     "output_type": "execute_result"
    }
   ],
   "source": [
    "new_metadata_Y_train.head()"
   ]
  },
  {
   "cell_type": "markdown",
   "metadata": {},
   "source": [
    "## Define Metadata-Only Neural Network\n",
    "\n",
    "We build a neural network using only metadata features (age, lesion diameter, and sex). The architecture includes:\n",
    "\n",
    "- Two initial dense layers to extract feature representations.\n",
    "- A **dropout** with a rate of 0.3 between the two initial layers. \n",
    "- Final dense layers for prediction."
   ]
  },
  {
   "cell_type": "code",
   "execution_count": 64,
   "metadata": {
    "id": "5x4l9TzEOAKw"
   },
   "outputs": [],
   "source": [
    "numberOfColumns = 3 #age, diameter, sex\n",
    "inputs = Input(shape=(numberOfColumns,))\n",
    "\n",
    "x = Dense(64, activation=\"relu\")(inputs)  # First Dense layer\n",
    "x = Dropout(0.3)(x) \n",
    "x = Dense(64, activation=\"relu\")(x)       # Second Dense layer\n",
    "\n",
    "# # residual block\n",
    "# residual_input = x # Save input for the residual connection\n",
    "\n",
    "# # dense layers inside the residual block\n",
    "# xRes = Dense(16, activation=\"relu\")(x)\n",
    "# xRes = Dense(16, activation=\"relu\")(xRes)\n",
    "\n",
    "# # ensures residual input will match same dimensions as the output of our residual block\n",
    "# if residual_input.shape[-1] != xRes.shape[-1]:\n",
    "#     residual_input = Dense(16)(residual_input)\n",
    "\n",
    "\n",
    "# # adding the residual input to the output\n",
    "# xRes = Add()([xRes, residual_input])\n",
    "\n",
    "# # skip connection\n",
    "# skip_connection = Dense(16)(inputs)\n",
    "\n",
    "# xSkip = Add()([xRes, skip_connection])  # combine residual block output with skip connection\n",
    "\n",
    "\n",
    "# # final layers\n",
    "# x = Dense(16, activation=\"relu\")(xSkip)\n",
    "# x = Dense(16, activation=\"relu\")(x)\n",
    "\n",
    "output = Dense(1, activation=\"sigmoid\")(x)"
   ]
  },
  {
   "cell_type": "code",
   "execution_count": 65,
   "metadata": {
    "id": "XWWQ_tTCOTf5"
   },
   "outputs": [],
   "source": [
    "model = Model(inputs=inputs, outputs=output)"
   ]
  },
  {
   "cell_type": "code",
   "execution_count": 66,
   "metadata": {
    "id": "v39YR_abPRmV"
   },
   "outputs": [],
   "source": [
    "model.compile(optimizer=\"adam\", loss=BinaryCrossentropy(), metrics=[\"accuracy\"])"
   ]
  },
  {
   "cell_type": "code",
   "execution_count": 67,
   "metadata": {
    "colab": {
     "base_uri": "https://localhost:8080/",
     "height": 578
    },
    "id": "oZnsZarRPSFH",
    "outputId": "b6a1d103-cd86-4258-8a78-25f7582da843"
   },
   "outputs": [
    {
     "data": {
      "text/html": [
       "<pre style=\"white-space:pre;overflow-x:auto;line-height:normal;font-family:Menlo,'DejaVu Sans Mono',consolas,'Courier New',monospace\"><span style=\"font-weight: bold\">Model: \"functional_4\"</span>\n",
       "</pre>\n"
      ],
      "text/plain": [
       "\u001b[1mModel: \"functional_4\"\u001b[0m\n"
      ]
     },
     "metadata": {},
     "output_type": "display_data"
    },
    {
     "data": {
      "text/html": [
       "<pre style=\"white-space:pre;overflow-x:auto;line-height:normal;font-family:Menlo,'DejaVu Sans Mono',consolas,'Courier New',monospace\">┏━━━━━━━━━━━━━━━━━━━━━━━━━━━━━━━━━┳━━━━━━━━━━━━━━━━━━━━━━━━┳━━━━━━━━━━━━━━━┓\n",
       "┃<span style=\"font-weight: bold\"> Layer (type)                    </span>┃<span style=\"font-weight: bold\"> Output Shape           </span>┃<span style=\"font-weight: bold\">       Param # </span>┃\n",
       "┡━━━━━━━━━━━━━━━━━━━━━━━━━━━━━━━━━╇━━━━━━━━━━━━━━━━━━━━━━━━╇━━━━━━━━━━━━━━━┩\n",
       "│ input_layer_5 (<span style=\"color: #0087ff; text-decoration-color: #0087ff\">InputLayer</span>)      │ (<span style=\"color: #00d7ff; text-decoration-color: #00d7ff\">None</span>, <span style=\"color: #00af00; text-decoration-color: #00af00\">3</span>)              │             <span style=\"color: #00af00; text-decoration-color: #00af00\">0</span> │\n",
       "├─────────────────────────────────┼────────────────────────┼───────────────┤\n",
       "│ dense_13 (<span style=\"color: #0087ff; text-decoration-color: #0087ff\">Dense</span>)                │ (<span style=\"color: #00d7ff; text-decoration-color: #00d7ff\">None</span>, <span style=\"color: #00af00; text-decoration-color: #00af00\">64</span>)             │           <span style=\"color: #00af00; text-decoration-color: #00af00\">256</span> │\n",
       "├─────────────────────────────────┼────────────────────────┼───────────────┤\n",
       "│ dropout_4 (<span style=\"color: #0087ff; text-decoration-color: #0087ff\">Dropout</span>)             │ (<span style=\"color: #00d7ff; text-decoration-color: #00d7ff\">None</span>, <span style=\"color: #00af00; text-decoration-color: #00af00\">64</span>)             │             <span style=\"color: #00af00; text-decoration-color: #00af00\">0</span> │\n",
       "├─────────────────────────────────┼────────────────────────┼───────────────┤\n",
       "│ dense_14 (<span style=\"color: #0087ff; text-decoration-color: #0087ff\">Dense</span>)                │ (<span style=\"color: #00d7ff; text-decoration-color: #00d7ff\">None</span>, <span style=\"color: #00af00; text-decoration-color: #00af00\">64</span>)             │         <span style=\"color: #00af00; text-decoration-color: #00af00\">4,160</span> │\n",
       "├─────────────────────────────────┼────────────────────────┼───────────────┤\n",
       "│ dense_15 (<span style=\"color: #0087ff; text-decoration-color: #0087ff\">Dense</span>)                │ (<span style=\"color: #00d7ff; text-decoration-color: #00d7ff\">None</span>, <span style=\"color: #00af00; text-decoration-color: #00af00\">1</span>)              │            <span style=\"color: #00af00; text-decoration-color: #00af00\">65</span> │\n",
       "└─────────────────────────────────┴────────────────────────┴───────────────┘\n",
       "</pre>\n"
      ],
      "text/plain": [
       "┏━━━━━━━━━━━━━━━━━━━━━━━━━━━━━━━━━┳━━━━━━━━━━━━━━━━━━━━━━━━┳━━━━━━━━━━━━━━━┓\n",
       "┃\u001b[1m \u001b[0m\u001b[1mLayer (type)                   \u001b[0m\u001b[1m \u001b[0m┃\u001b[1m \u001b[0m\u001b[1mOutput Shape          \u001b[0m\u001b[1m \u001b[0m┃\u001b[1m \u001b[0m\u001b[1m      Param #\u001b[0m\u001b[1m \u001b[0m┃\n",
       "┡━━━━━━━━━━━━━━━━━━━━━━━━━━━━━━━━━╇━━━━━━━━━━━━━━━━━━━━━━━━╇━━━━━━━━━━━━━━━┩\n",
       "│ input_layer_5 (\u001b[38;5;33mInputLayer\u001b[0m)      │ (\u001b[38;5;45mNone\u001b[0m, \u001b[38;5;34m3\u001b[0m)              │             \u001b[38;5;34m0\u001b[0m │\n",
       "├─────────────────────────────────┼────────────────────────┼───────────────┤\n",
       "│ dense_13 (\u001b[38;5;33mDense\u001b[0m)                │ (\u001b[38;5;45mNone\u001b[0m, \u001b[38;5;34m64\u001b[0m)             │           \u001b[38;5;34m256\u001b[0m │\n",
       "├─────────────────────────────────┼────────────────────────┼───────────────┤\n",
       "│ dropout_4 (\u001b[38;5;33mDropout\u001b[0m)             │ (\u001b[38;5;45mNone\u001b[0m, \u001b[38;5;34m64\u001b[0m)             │             \u001b[38;5;34m0\u001b[0m │\n",
       "├─────────────────────────────────┼────────────────────────┼───────────────┤\n",
       "│ dense_14 (\u001b[38;5;33mDense\u001b[0m)                │ (\u001b[38;5;45mNone\u001b[0m, \u001b[38;5;34m64\u001b[0m)             │         \u001b[38;5;34m4,160\u001b[0m │\n",
       "├─────────────────────────────────┼────────────────────────┼───────────────┤\n",
       "│ dense_15 (\u001b[38;5;33mDense\u001b[0m)                │ (\u001b[38;5;45mNone\u001b[0m, \u001b[38;5;34m1\u001b[0m)              │            \u001b[38;5;34m65\u001b[0m │\n",
       "└─────────────────────────────────┴────────────────────────┴───────────────┘\n"
      ]
     },
     "metadata": {},
     "output_type": "display_data"
    },
    {
     "data": {
      "text/html": [
       "<pre style=\"white-space:pre;overflow-x:auto;line-height:normal;font-family:Menlo,'DejaVu Sans Mono',consolas,'Courier New',monospace\"><span style=\"font-weight: bold\"> Total params: </span><span style=\"color: #00af00; text-decoration-color: #00af00\">4,481</span> (17.50 KB)\n",
       "</pre>\n"
      ],
      "text/plain": [
       "\u001b[1m Total params: \u001b[0m\u001b[38;5;34m4,481\u001b[0m (17.50 KB)\n"
      ]
     },
     "metadata": {},
     "output_type": "display_data"
    },
    {
     "data": {
      "text/html": [
       "<pre style=\"white-space:pre;overflow-x:auto;line-height:normal;font-family:Menlo,'DejaVu Sans Mono',consolas,'Courier New',monospace\"><span style=\"font-weight: bold\"> Trainable params: </span><span style=\"color: #00af00; text-decoration-color: #00af00\">4,481</span> (17.50 KB)\n",
       "</pre>\n"
      ],
      "text/plain": [
       "\u001b[1m Trainable params: \u001b[0m\u001b[38;5;34m4,481\u001b[0m (17.50 KB)\n"
      ]
     },
     "metadata": {},
     "output_type": "display_data"
    },
    {
     "data": {
      "text/html": [
       "<pre style=\"white-space:pre;overflow-x:auto;line-height:normal;font-family:Menlo,'DejaVu Sans Mono',consolas,'Courier New',monospace\"><span style=\"font-weight: bold\"> Non-trainable params: </span><span style=\"color: #00af00; text-decoration-color: #00af00\">0</span> (0.00 B)\n",
       "</pre>\n"
      ],
      "text/plain": [
       "\u001b[1m Non-trainable params: \u001b[0m\u001b[38;5;34m0\u001b[0m (0.00 B)\n"
      ]
     },
     "metadata": {},
     "output_type": "display_data"
    }
   ],
   "source": [
    "model.summary()"
   ]
  },
  {
   "cell_type": "markdown",
   "metadata": {},
   "source": [
    "## Defining Callbacks for Training\n",
    "\n",
    "We define two callbacks to monitor and control training:\n",
    "\n",
    "- **EarlyStopping**: Stops training early if the validation loss does not improve after a specified number of epochs.\n",
    "- **ModelCheckpoint**: Saves the best model (based on validation loss) during training."
   ]
  },
  {
   "cell_type": "code",
   "execution_count": 68,
   "metadata": {
    "colab": {
     "base_uri": "https://localhost:8080/",
     "height": 1000
    },
    "id": "I4eUFj27Db6u",
    "outputId": "dad24d8e-57d0-4898-e36c-48f3baf8e9ce"
   },
   "outputs": [
    {
     "name": "stdout",
     "output_type": "stream",
     "text": [
      "You must install pydot (`pip install pydot`) for `plot_model` to work.\n"
     ]
    }
   ],
   "source": [
    "plot_model(model, to_file='model.png', show_shapes=True, show_layer_names=True)"
   ]
  },
  {
   "cell_type": "code",
   "execution_count": 69,
   "metadata": {
    "id": "XBToa36JRvWQ"
   },
   "outputs": [],
   "source": [
    "es = EarlyStopping(monitor='val_accuracy',\n",
    "                           patience=50,\n",
    "                           restore_best_weights=True,\n",
    "                           verbose=1) # early stopping\n",
    "\n",
    "\n",
    "\n",
    "checkpoint = ModelCheckpoint('best_MLP_model.keras', monitor='val_loss', save_best_only=True)"
   ]
  },
  {
   "cell_type": "markdown",
   "metadata": {},
   "source": [
    "## Compiling and Training the MLP Model\n",
    "\n",
    "Now we build, compile, and train the CNN model defined earlier using the training and validation datasets. We use:\n",
    "\n",
    "- **Adam** optimizer\n",
    "- **Binary cross-entropy** loss function (suitable for binary classification)\n",
    "- **Accuracy** as the evaluation metric\n",
    "\n",
    "We also use the previously defined callbacks (`early_stopping` and `checkpoint`) to manage training."
   ]
  },
  {
   "cell_type": "code",
   "execution_count": 70,
   "metadata": {
    "colab": {
     "base_uri": "https://localhost:8080/"
    },
    "id": "q-9psAj6PSBO",
    "outputId": "08031af5-a4a9-464d-cdab-9057fa19fae4"
   },
   "outputs": [
    {
     "name": "stdout",
     "output_type": "stream",
     "text": [
      "Epoch 1/800\n",
      "2645/2645 - 2s - 679us/step - accuracy: 0.9610 - loss: 0.1850 - val_accuracy: 0.9625 - val_loss: 0.1536\n",
      "Epoch 2/800\n",
      "2645/2645 - 1s - 469us/step - accuracy: 0.9624 - loss: 0.1533 - val_accuracy: 0.9625 - val_loss: 0.1446\n",
      "Epoch 3/800\n",
      "2645/2645 - 1s - 489us/step - accuracy: 0.9624 - loss: 0.1460 - val_accuracy: 0.9624 - val_loss: 0.1397\n",
      "Epoch 4/800\n",
      "2645/2645 - 1s - 468us/step - accuracy: 0.9624 - loss: 0.1416 - val_accuracy: 0.9625 - val_loss: 0.1363\n",
      "Epoch 5/800\n",
      "2645/2645 - 1s - 472us/step - accuracy: 0.9625 - loss: 0.1391 - val_accuracy: 0.9625 - val_loss: 0.1374\n",
      "Epoch 6/800\n",
      "2645/2645 - 1s - 470us/step - accuracy: 0.9624 - loss: 0.1368 - val_accuracy: 0.9625 - val_loss: 0.1341\n",
      "Epoch 7/800\n",
      "2645/2645 - 1s - 462us/step - accuracy: 0.9625 - loss: 0.1341 - val_accuracy: 0.9624 - val_loss: 0.1366\n",
      "Epoch 8/800\n",
      "2645/2645 - 1s - 463us/step - accuracy: 0.9624 - loss: 0.1326 - val_accuracy: 0.9625 - val_loss: 0.1372\n",
      "Epoch 9/800\n",
      "2645/2645 - 1s - 473us/step - accuracy: 0.9624 - loss: 0.1310 - val_accuracy: 0.9625 - val_loss: 0.1313\n",
      "Epoch 10/800\n",
      "2645/2645 - 1s - 463us/step - accuracy: 0.9624 - loss: 0.1291 - val_accuracy: 0.9624 - val_loss: 0.1316\n",
      "Epoch 11/800\n",
      "2645/2645 - 1s - 479us/step - accuracy: 0.9624 - loss: 0.1279 - val_accuracy: 0.9625 - val_loss: 0.1272\n",
      "Epoch 12/800\n",
      "2645/2645 - 1s - 467us/step - accuracy: 0.9622 - loss: 0.1289 - val_accuracy: 0.9625 - val_loss: 0.1316\n",
      "Epoch 13/800\n",
      "2645/2645 - 1s - 473us/step - accuracy: 0.9622 - loss: 0.1271 - val_accuracy: 0.9625 - val_loss: 0.1355\n",
      "Epoch 14/800\n",
      "2645/2645 - 1s - 487us/step - accuracy: 0.9624 - loss: 0.1276 - val_accuracy: 0.9625 - val_loss: 0.1438\n",
      "Epoch 15/800\n",
      "2645/2645 - 1s - 547us/step - accuracy: 0.9624 - loss: 0.1266 - val_accuracy: 0.9625 - val_loss: 0.1366\n",
      "Epoch 16/800\n",
      "2645/2645 - 1s - 472us/step - accuracy: 0.9624 - loss: 0.1283 - val_accuracy: 0.9624 - val_loss: 0.1458\n",
      "Epoch 17/800\n",
      "2645/2645 - 1s - 478us/step - accuracy: 0.9623 - loss: 0.1298 - val_accuracy: 0.9625 - val_loss: 0.1223\n",
      "Epoch 18/800\n",
      "2645/2645 - 1s - 472us/step - accuracy: 0.9624 - loss: 0.1284 - val_accuracy: 0.9624 - val_loss: 0.1455\n",
      "Epoch 19/800\n",
      "2645/2645 - 1s - 475us/step - accuracy: 0.9623 - loss: 0.1271 - val_accuracy: 0.9624 - val_loss: 0.1370\n",
      "Epoch 20/800\n",
      "2645/2645 - 1s - 473us/step - accuracy: 0.9624 - loss: 0.1275 - val_accuracy: 0.9624 - val_loss: 0.1392\n",
      "Epoch 21/800\n",
      "2645/2645 - 1s - 478us/step - accuracy: 0.9624 - loss: 0.1247 - val_accuracy: 0.9625 - val_loss: 0.1275\n",
      "Epoch 22/800\n",
      "2645/2645 - 1s - 465us/step - accuracy: 0.9624 - loss: 0.1286 - val_accuracy: 0.9624 - val_loss: 0.1216\n",
      "Epoch 23/800\n",
      "2645/2645 - 1s - 468us/step - accuracy: 0.9624 - loss: 0.1293 - val_accuracy: 0.9625 - val_loss: 0.1162\n",
      "Epoch 24/800\n",
      "2645/2645 - 1s - 465us/step - accuracy: 0.9623 - loss: 0.1268 - val_accuracy: 0.9625 - val_loss: 0.1195\n",
      "Epoch 25/800\n",
      "2645/2645 - 1s - 464us/step - accuracy: 0.9624 - loss: 0.1260 - val_accuracy: 0.9625 - val_loss: 0.1261\n",
      "Epoch 26/800\n",
      "2645/2645 - 1s - 464us/step - accuracy: 0.9625 - loss: 0.1252 - val_accuracy: 0.9624 - val_loss: 0.1409\n",
      "Epoch 27/800\n",
      "2645/2645 - 1s - 465us/step - accuracy: 0.9624 - loss: 0.1247 - val_accuracy: 0.9625 - val_loss: 0.1341\n",
      "Epoch 28/800\n",
      "2645/2645 - 1s - 463us/step - accuracy: 0.9625 - loss: 0.1257 - val_accuracy: 0.9624 - val_loss: 0.1318\n",
      "Epoch 29/800\n",
      "2645/2645 - 1s - 461us/step - accuracy: 0.9624 - loss: 0.1240 - val_accuracy: 0.9625 - val_loss: 0.1250\n",
      "Epoch 30/800\n",
      "2645/2645 - 1s - 461us/step - accuracy: 0.9623 - loss: 0.1256 - val_accuracy: 0.9624 - val_loss: 0.1378\n",
      "Epoch 31/800\n",
      "2645/2645 - 1s - 462us/step - accuracy: 0.9623 - loss: 0.1242 - val_accuracy: 0.9624 - val_loss: 0.1286\n",
      "Epoch 32/800\n",
      "2645/2645 - 1s - 471us/step - accuracy: 0.9624 - loss: 0.1228 - val_accuracy: 0.9625 - val_loss: 0.1254\n",
      "Epoch 33/800\n",
      "2645/2645 - 1s - 468us/step - accuracy: 0.9626 - loss: 0.1209 - val_accuracy: 0.9625 - val_loss: 0.1328\n",
      "Epoch 34/800\n",
      "2645/2645 - 1s - 469us/step - accuracy: 0.9624 - loss: 0.1185 - val_accuracy: 0.9625 - val_loss: 0.1203\n",
      "Epoch 35/800\n",
      "2645/2645 - 1s - 485us/step - accuracy: 0.9623 - loss: 0.1166 - val_accuracy: 0.9625 - val_loss: 0.1096\n",
      "Epoch 36/800\n",
      "2645/2645 - 2s - 763us/step - accuracy: 0.9624 - loss: 0.1160 - val_accuracy: 0.9624 - val_loss: 0.1131\n",
      "Epoch 37/800\n",
      "2645/2645 - 2s - 723us/step - accuracy: 0.9626 - loss: 0.1148 - val_accuracy: 0.9624 - val_loss: 0.1179\n",
      "Epoch 38/800\n",
      "2645/2645 - 1s - 484us/step - accuracy: 0.9626 - loss: 0.1149 - val_accuracy: 0.9625 - val_loss: 0.1212\n",
      "Epoch 39/800\n",
      "2645/2645 - 1s - 471us/step - accuracy: 0.9624 - loss: 0.1137 - val_accuracy: 0.9624 - val_loss: 0.1251\n",
      "Epoch 40/800\n",
      "2645/2645 - 2s - 750us/step - accuracy: 0.9628 - loss: 0.1126 - val_accuracy: 0.9625 - val_loss: 0.1159\n",
      "Epoch 41/800\n",
      "2645/2645 - 2s - 612us/step - accuracy: 0.9625 - loss: 0.1128 - val_accuracy: 0.9624 - val_loss: 0.1137\n",
      "Epoch 42/800\n",
      "2645/2645 - 1s - 470us/step - accuracy: 0.9627 - loss: 0.1121 - val_accuracy: 0.9625 - val_loss: 0.1118\n",
      "Epoch 43/800\n",
      "2645/2645 - 1s - 466us/step - accuracy: 0.9625 - loss: 0.1136 - val_accuracy: 0.9624 - val_loss: 0.1135\n",
      "Epoch 44/800\n",
      "2645/2645 - 1s - 462us/step - accuracy: 0.9625 - loss: 0.1135 - val_accuracy: 0.9625 - val_loss: 0.1156\n",
      "Epoch 45/800\n",
      "2645/2645 - 1s - 466us/step - accuracy: 0.9627 - loss: 0.1134 - val_accuracy: 0.9624 - val_loss: 0.1341\n",
      "Epoch 46/800\n",
      "2645/2645 - 1s - 464us/step - accuracy: 0.9626 - loss: 0.1166 - val_accuracy: 0.9625 - val_loss: 0.1304\n",
      "Epoch 47/800\n",
      "2645/2645 - 1s - 472us/step - accuracy: 0.9625 - loss: 0.1163 - val_accuracy: 0.9624 - val_loss: 0.1540\n",
      "Epoch 48/800\n",
      "2645/2645 - 1s - 466us/step - accuracy: 0.9627 - loss: 0.1163 - val_accuracy: 0.9624 - val_loss: 0.1261\n",
      "Epoch 49/800\n",
      "2645/2645 - 1s - 463us/step - accuracy: 0.9625 - loss: 0.1167 - val_accuracy: 0.9625 - val_loss: 0.1257\n",
      "Epoch 50/800\n",
      "2645/2645 - 1s - 478us/step - accuracy: 0.9626 - loss: 0.1146 - val_accuracy: 0.9624 - val_loss: 0.1256\n",
      "Epoch 51/800\n",
      "2645/2645 - 1s - 515us/step - accuracy: 0.9625 - loss: 0.1160 - val_accuracy: 0.9625 - val_loss: 0.1296\n",
      "Epoch 52/800\n",
      "2645/2645 - 2s - 631us/step - accuracy: 0.9625 - loss: 0.1156 - val_accuracy: 0.9625 - val_loss: 0.1150\n",
      "Epoch 53/800\n",
      "2645/2645 - 1s - 480us/step - accuracy: 0.9627 - loss: 0.1159 - val_accuracy: 0.9625 - val_loss: 0.1285\n",
      "Epoch 54/800\n",
      "2645/2645 - 2s - 703us/step - accuracy: 0.9625 - loss: 0.1159 - val_accuracy: 0.9625 - val_loss: 0.1449\n",
      "Epoch 54: early stopping\n",
      "Restoring model weights from the end of the best epoch: 4.\n"
     ]
    }
   ],
   "source": [
    "networkHistory = model.fit(new_metadata_X_train, new_metadata_Y_train,\n",
    "                    validation_data=(metadata_X_val, metadata_Y_val),\n",
    "                    epochs=800,\n",
    "                    batch_size=128,\n",
    "                    callbacks=[es, checkpoint],\n",
    "                    verbose=2)"
   ]
  },
  {
   "cell_type": "markdown",
   "metadata": {},
   "source": [
    "## Evaluating the Trained Model on the Test Set\n",
    "\n",
    "We define a function `evaluate_model_on_test()` that performs a thorough evaluation of the trained model on the test dataset. The function:\n",
    "\n",
    "- Generates predictions and applies a classification threshold.\n",
    "- Displays a confusion matrix.\n",
    "- Plots the **ROC Curve**.\n",
    "\n",
    "This allows us to better understand model performance beyond simple accuracy."
   ]
  },
  {
   "cell_type": "code",
   "execution_count": 71,
   "metadata": {
    "colab": {
     "base_uri": "https://localhost:8080/"
    },
    "id": "Opki32tCQ9En",
    "outputId": "439f518c-5124-422a-da39-1622ed2c5565"
   },
   "outputs": [
    {
     "name": "stdout",
     "output_type": "stream",
     "text": [
      "\u001b[1m1511/1511\u001b[0m \u001b[32m━━━━━━━━━━━━━━━━━━━━\u001b[0m\u001b[37m\u001b[0m \u001b[1m0s\u001b[0m 251us/step - accuracy: 0.9623 - loss: 0.1378\n"
     ]
    }
   ],
   "source": [
    "# evaluate on the validation set\n",
    "test_loss, test_acc = model.evaluate(metadata_X_test, metadata_Y_test, verbose=1)"
   ]
  },
  {
   "cell_type": "code",
   "execution_count": 72,
   "metadata": {
    "colab": {
     "base_uri": "https://localhost:8080/"
    },
    "id": "saN57e7bRJpG",
    "outputId": "6943ec1c-344a-46df-fb3a-fe5878b07afc"
   },
   "outputs": [
    {
     "name": "stdout",
     "output_type": "stream",
     "text": [
      "Number of parameters: 4481\n",
      "Final training loss: 0.11585741490125656\n",
      "Final test loss: 0.13644461333751678\n"
     ]
    }
   ],
   "source": [
    "num_params = model.count_params()\n",
    "\n",
    "# final results\n",
    "final_train_loss = networkHistory.history['loss'][-1]\n",
    "\n",
    "# print the results\n",
    "print(f\"Number of parameters: {num_params}\")\n",
    "print(f\"Final training loss: {final_train_loss}\")\n",
    "print(f\"Final test loss: {test_loss}\")"
   ]
  },
  {
   "cell_type": "code",
   "execution_count": 73,
   "metadata": {
    "colab": {
     "base_uri": "https://localhost:8080/",
     "height": 508
    },
    "id": "4EH2LmEH9-6O",
    "outputId": "6bad9f16-999e-49d5-abd3-19f1154ab354"
   },
   "outputs": [
    {
     "name": "stdout",
     "output_type": "stream",
     "text": [
      "\u001b[1m1511/1511\u001b[0m \u001b[32m━━━━━━━━━━━━━━━━━━━━\u001b[0m\u001b[37m\u001b[0m \u001b[1m0s\u001b[0m 189us/step\n"
     ]
    },
    {
     "data": {
      "image/png": "[encoded data removed]",
      "text/plain": [
       "<Figure size 640x480 with 1 Axes>"
      ]
     },
     "metadata": {},
     "output_type": "display_data"
    },
    {
     "name": "stdout",
     "output_type": "stream",
     "text": [
      "Test AUROC: 0.8286\n"
     ]
    }
   ],
   "source": [
    "from sklearn.metrics import roc_curve, auc, balanced_accuracy_score, confusion_matrix, ConfusionMatrixDisplay\n",
    "\n",
    "\n",
    "y_pred_probs = model.predict(metadata_X_test)  # Probabilities (needed for AUROC)\n",
    "y_pred_classes = (y_pred_probs > 0.5).astype(int)  # Binary 0/1 predictions\n",
    "\n",
    "fpr, tpr, thresholds = roc_curve(metadata_Y_test, y_pred_probs)\n",
    "roc_auc = auc(fpr, tpr)\n",
    "\n",
    "plt.figure()\n",
    "plt.plot(fpr, tpr, label=f'ROC curve (area = {roc_auc:.2f})')\n",
    "plt.plot([0, 1], [0, 1], 'k--')  # Random chance line\n",
    "plt.xlabel('False Positive Rate')\n",
    "plt.ylabel('True Positive Rate')\n",
    "plt.title('Receiver Operating Characteristic (ROC)')\n",
    "plt.legend(loc=\"lower right\")\n",
    "plt.grid(True)\n",
    "plt.show()\n",
    "\n",
    "print(f\"Test AUROC: {roc_auc:.4f}\")"
   ]
  },
  {
   "cell_type": "code",
   "execution_count": 74,
   "metadata": {
    "colab": {
     "base_uri": "https://localhost:8080/"
    },
    "id": "aIj1u0lr_bw5",
    "outputId": "03f4b99a-78b2-4a93-a45c-193286401de6"
   },
   "outputs": [
    {
     "name": "stdout",
     "output_type": "stream",
     "text": [
      "Balanced Accuracy: 0.5048\n"
     ]
    }
   ],
   "source": [
    "balanced_acc = balanced_accuracy_score(metadata_Y_test, y_pred_classes)\n",
    "print(f\"Balanced Accuracy: {balanced_acc:.4f}\")\n"
   ]
  },
  {
   "cell_type": "code",
   "execution_count": 75,
   "metadata": {
    "colab": {
     "base_uri": "https://localhost:8080/",
     "height": 472
    },
    "id": "gQNPVZ-IBObz",
    "outputId": "d80740a4-5704-4ce5-dcbc-4088c312eefa"
   },
   "outputs": [
    {
     "data": {
      "image/png": "[encoded data removed]",
      "text/plain": [
       "<Figure size 640x480 with 2 Axes>"
      ]
     },
     "metadata": {},
     "output_type": "display_data"
    }
   ],
   "source": [
    "cm = confusion_matrix(metadata_Y_test, y_pred_classes)\n",
    "disp = ConfusionMatrixDisplay(confusion_matrix=cm)\n",
    "disp.plot(cmap='Blues')\n",
    "plt.title('Confusion Matrix')\n",
    "plt.show()"
   ]
  },
  {
   "cell_type": "code",
   "execution_count": null,
   "metadata": {},
   "outputs": [],
   "source": []
  },
  {
   "cell_type": "code",
   "execution_count": null,
   "metadata": {},
   "outputs": [],
   "source": []
  }
 ],
 "metadata": {
  "colab": {
   "provenance": []
  },
  "kernelspec": {
   "display_name": "Python 3 (ipykernel)",
   "language": "python",
   "name": "python3"
  },
  "language_info": {
   "codemirror_mode": {
    "name": "ipython",
    "version": 3
   },
   "file_extension": ".py",
   "mimetype": "text/x-python",
   "name": "python",
   "nbconvert_exporter": "python",
   "pygments_lexer": "ipython3",
   "version": "3.11.5"
  }
 },
 "nbformat": 4,
 "nbformat_minor": 1
}
